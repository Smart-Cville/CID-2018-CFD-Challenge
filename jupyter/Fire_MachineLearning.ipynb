{
  "nbformat": 4,
  "nbformat_minor": 0,
  "metadata": {
    "colab": {
      "name": "Fire_MachineLearning.ipynb",
      "version": "0.3.2",
      "views": {},
      "default_view": {},
      "provenance": []
    },
    "kernelspec": {
      "name": "python3",
      "display_name": "Python 3"
    }
  },
  "cells": [
    {
      "metadata": {
        "id": "Y5l-6t4FWYCr",
        "colab_type": "text"
      },
      "cell_type": "markdown",
      "source": [
        "#Charlottesville Fire Department Project: Machine Learning Predictions"
      ]
    },
    {
      "metadata": {
        "id": "m0NLRP9bWlBv",
        "colab_type": "text"
      },
      "cell_type": "markdown",
      "source": [
        "Authors: Jackson Barkstrom, Habib Karaky, Josh Schuck, Garrett Vercoe. We joined together the data we used here in the \"Cleaning and Merging\" code. The data was originally worked on by many, including us, during Civic Innovation Day (special shoutouts to Stephen and Katharine).\n",
        "\n",
        "Note: We assume a basic understanding of the data we're working with, but we assume only little understanding of machine learning. Our code walks through different machine learning models and their possible utility--the big question, obviously, is which model we should use to predict fires. Obviously, a decision tree is a simple model that we probably don't want to use, but we figured it would be useful for teaching purposes. \n",
        "\n",
        "For now, we settled on the Random Forest Regressor because it performed the best out of all of the regression models we somewhat understood and tried--easily beating out models such as bagging and simple decision trees. The random forest is an extremely powerful model, and it produced useful results both as a classifier and as a regressor. We decided we had to use a regression model becuase it allows us to make our own risk categories--it returned decimal risk values between 0 and 1 and we could split these up as we desired. We can easily say \"Put anything below .2 in the low risk category, then put everything greater than .6 in the high risk category, then put everything else in the medium risk category. Thus, we' can generate low, medium, and high risk categories. However, we our model really only works for finding the highest-risk homes: the high risk category is the only one that's really significant.\n",
        "\n",
        "One of the biggest issues we ran into was predicting the fire risk of a building *after it already caught on fire.* Fire risk would go down since the owners of the building would take more safety precautions in the future, no? However, our model didn't look at multiple fires: it only looked at 0 or 1, if the house had a fire at least once since 2003 or if it didn't. We could change this. We recognize that there's some serious danger here of predicting the past (what we're doing) not being the same as predicting the future. \n",
        "\n",
        "Despite this shortcoming our models generalize to most houses well. We found pretty clearly that the square footage and the age of buildings are the largest predictors of fire risk, and that makes sense. Really big old houses are way more likely to catch on fire than small new houses. Our models clearly have flaws and cannot predict everything: they could use a lot more data, such as if or if not the homes have smoke alarms installed, and they don't work well for predicting low risk versus medium risk. But they work well for high risk. Our models can predict the homes with the highest risks of fire and the fire department can respond accordingly. Our models aren't the best they could be (we recommend improvement), but they could already be used--right now--to inspect the highest risk homes and decrease fire risk in the Charlottesville community. If our model designates a house as \"high risk,\" the house probably needs attention.\n",
        "\n",
        "Link to cleaning and merging notebook: https://colab.research.google.com/drive/1EPmKwBAJ560MV5pDJYD1e_iQbE0NezB0#scrollTo=phy9ec8A488x"
      ]
    },
    {
      "metadata": {
        "id": "jA7qq39iwZYE",
        "colab_type": "code",
        "colab": {
          "autoexec": {
            "startup": false,
            "wait_interval": 0
          }
        }
      },
      "cell_type": "code",
      "source": [
        "import pandas as pd\n",
        "import numpy as np"
      ],
      "execution_count": 0,
      "outputs": []
    },
    {
      "metadata": {
        "id": "r1MiADXeXhui",
        "colab_type": "text"
      },
      "cell_type": "markdown",
      "source": [
        "## Import Data"
      ]
    },
    {
      "metadata": {
        "id": "r1fKDpH1Xgd6",
        "colab_type": "code",
        "colab": {
          "autoexec": {
            "startup": false,
            "wait_interval": 0
          }
        }
      },
      "cell_type": "code",
      "source": [
        "# Import our joined together data from the \"Cleaning and Merging\" code\n",
        "\n",
        "residential = pd.read_csv(\"https://raw.githubusercontent.com/garrettvercoe/CharlottesvilleFireModel/master/Updated_Residential_Results_cleaned.csv\")\n",
        "commercial = pd.read_csv(\"https://raw.githubusercontent.com/garrettvercoe/CharlottesvilleFireModel/master/Updated_Commercial_Results_cleaned.csv\")"
      ],
      "execution_count": 0,
      "outputs": []
    },
    {
      "metadata": {
        "id": "R40bvDniW5bX",
        "colab_type": "code",
        "colab": {
          "autoexec": {
            "startup": false,
            "wait_interval": 0
          },
          "base_uri": "https://localhost:8080/",
          "height": 426
        },
        "outputId": "fc88c5d7-18af-471d-d164-83fac67ccbb5",
        "executionInfo": {
          "status": "ok",
          "timestamp": 1530052178803,
          "user_tz": 240,
          "elapsed": 297,
          "user": {
            "displayName": "Jackson Barkstrom",
            "photoUrl": "//lh5.googleusercontent.com/-vVdnq6QxZKc/AAAAAAAAAAI/AAAAAAAAAC8/hz-Hu2YlLus/s50-c-k-no/photo.jpg",
            "userId": "100905809459765639952"
          }
        }
      },
      "cell_type": "code",
      "source": [
        "# Examine residential data (feel free not to run this)\n",
        "residential.head()"
      ],
      "execution_count": 3,
      "outputs": [
        {
          "output_type": "execute_result",
          "data": {
            "text/html": [
              "<div>\n",
              "<style scoped>\n",
              "    .dataframe tbody tr th:only-of-type {\n",
              "        vertical-align: middle;\n",
              "    }\n",
              "\n",
              "    .dataframe tbody tr th {\n",
              "        vertical-align: top;\n",
              "    }\n",
              "\n",
              "    .dataframe thead th {\n",
              "        text-align: right;\n",
              "    }\n",
              "</style>\n",
              "<table border=\"1\" class=\"dataframe\">\n",
              "  <thead>\n",
              "    <tr style=\"text-align: right;\">\n",
              "      <th></th>\n",
              "      <th>lat</th>\n",
              "      <th>lon</th>\n",
              "      <th>use_type</th>\n",
              "      <th>use_code</th>\n",
              "      <th>style</th>\n",
              "      <th>grade</th>\n",
              "      <th>ext_walls</th>\n",
              "      <th>roof</th>\n",
              "      <th>flooring</th>\n",
              "      <th>bsmt_type</th>\n",
              "      <th>...</th>\n",
              "      <th>full_bathrooms</th>\n",
              "      <th>basement_garage</th>\n",
              "      <th>sq_footage_finished_living</th>\n",
              "      <th>basement</th>\n",
              "      <th>finished_basement</th>\n",
              "      <th>Address</th>\n",
              "      <th>Type</th>\n",
              "      <th>fire_late</th>\n",
              "      <th>fire_early</th>\n",
              "      <th>Fire_final</th>\n",
              "    </tr>\n",
              "  </thead>\n",
              "  <tbody>\n",
              "    <tr>\n",
              "      <th>0</th>\n",
              "      <td>38.064309</td>\n",
              "      <td>-78.488149</td>\n",
              "      <td>C</td>\n",
              "      <td>Duplex</td>\n",
              "      <td>2.0</td>\n",
              "      <td>B</td>\n",
              "      <td>Aluminum</td>\n",
              "      <td>Shingles</td>\n",
              "      <td>Other</td>\n",
              "      <td>Full Basement</td>\n",
              "      <td>...</td>\n",
              "      <td>3.0</td>\n",
              "      <td>0.0</td>\n",
              "      <td>1388.0</td>\n",
              "      <td>694.0</td>\n",
              "      <td>694.0</td>\n",
              "      <td>243 ZAN RD</td>\n",
              "      <td>Residential</td>\n",
              "      <td>0</td>\n",
              "      <td>0.0</td>\n",
              "      <td>0.0</td>\n",
              "    </tr>\n",
              "    <tr>\n",
              "      <th>1</th>\n",
              "      <td>38.027193</td>\n",
              "      <td>-78.503804</td>\n",
              "      <td>R</td>\n",
              "      <td>Single Family</td>\n",
              "      <td>1.0</td>\n",
              "      <td>C</td>\n",
              "      <td>Vinyl</td>\n",
              "      <td>Shingles</td>\n",
              "      <td>Hardwood</td>\n",
              "      <td>Full Basement</td>\n",
              "      <td>...</td>\n",
              "      <td>2.0</td>\n",
              "      <td>0.0</td>\n",
              "      <td>1020.0</td>\n",
              "      <td>1020.0</td>\n",
              "      <td>500.0</td>\n",
              "      <td>117 NORTH BAKER ST</td>\n",
              "      <td>Residential</td>\n",
              "      <td>0</td>\n",
              "      <td>0.0</td>\n",
              "      <td>0.0</td>\n",
              "    </tr>\n",
              "    <tr>\n",
              "      <th>2</th>\n",
              "      <td>38.034770</td>\n",
              "      <td>-78.487978</td>\n",
              "      <td>R</td>\n",
              "      <td>Single Family</td>\n",
              "      <td>1.0</td>\n",
              "      <td>C</td>\n",
              "      <td>Vinyl</td>\n",
              "      <td>Shingles</td>\n",
              "      <td>Hardwood</td>\n",
              "      <td>Cellar</td>\n",
              "      <td>...</td>\n",
              "      <td>1.0</td>\n",
              "      <td>0.0</td>\n",
              "      <td>925.0</td>\n",
              "      <td>250.0</td>\n",
              "      <td>0.0</td>\n",
              "      <td>702 WEST ST</td>\n",
              "      <td>Residential</td>\n",
              "      <td>0</td>\n",
              "      <td>0.0</td>\n",
              "      <td>0.0</td>\n",
              "    </tr>\n",
              "    <tr>\n",
              "      <th>3</th>\n",
              "      <td>38.039464</td>\n",
              "      <td>-78.500183</td>\n",
              "      <td>R</td>\n",
              "      <td>Single Family</td>\n",
              "      <td>1.5</td>\n",
              "      <td>C</td>\n",
              "      <td>Stucco</td>\n",
              "      <td>Shingles</td>\n",
              "      <td>Hardwood</td>\n",
              "      <td>No Basement</td>\n",
              "      <td>...</td>\n",
              "      <td>1.0</td>\n",
              "      <td>0.0</td>\n",
              "      <td>1491.0</td>\n",
              "      <td>NaN</td>\n",
              "      <td>NaN</td>\n",
              "      <td>418 17TH ST</td>\n",
              "      <td>Residential</td>\n",
              "      <td>0</td>\n",
              "      <td>0.0</td>\n",
              "      <td>0.0</td>\n",
              "    </tr>\n",
              "    <tr>\n",
              "      <th>4</th>\n",
              "      <td>-90.000000</td>\n",
              "      <td>-152.644271</td>\n",
              "      <td>R</td>\n",
              "      <td>Single Family-1 Conversion</td>\n",
              "      <td>1.0</td>\n",
              "      <td>C</td>\n",
              "      <td>Wood</td>\n",
              "      <td>Shingles</td>\n",
              "      <td>Hardwood</td>\n",
              "      <td>Full Basement</td>\n",
              "      <td>...</td>\n",
              "      <td>2.0</td>\n",
              "      <td>0.0</td>\n",
              "      <td>878.0</td>\n",
              "      <td>878.0</td>\n",
              "      <td>439.0</td>\n",
              "      <td>402 11TH ST</td>\n",
              "      <td>Residential</td>\n",
              "      <td>0</td>\n",
              "      <td>0.0</td>\n",
              "      <td>0.0</td>\n",
              "    </tr>\n",
              "  </tbody>\n",
              "</table>\n",
              "<p>5 rows × 27 columns</p>\n",
              "</div>"
            ],
            "text/plain": [
              "         lat         lon use_type                    use_code  style grade  \\\n",
              "0  38.064309  -78.488149        C                      Duplex    2.0     B   \n",
              "1  38.027193  -78.503804        R               Single Family    1.0     C   \n",
              "2  38.034770  -78.487978        R               Single Family    1.0     C   \n",
              "3  38.039464  -78.500183        R               Single Family    1.5     C   \n",
              "4 -90.000000 -152.644271        R  Single Family-1 Conversion    1.0     C   \n",
              "\n",
              "  ext_walls      roof  flooring      bsmt_type     ...     full_bathrooms  \\\n",
              "0  Aluminum  Shingles     Other  Full Basement     ...                3.0   \n",
              "1     Vinyl  Shingles  Hardwood  Full Basement     ...                2.0   \n",
              "2     Vinyl  Shingles  Hardwood         Cellar     ...                1.0   \n",
              "3    Stucco  Shingles  Hardwood    No Basement     ...                1.0   \n",
              "4      Wood  Shingles  Hardwood  Full Basement     ...                2.0   \n",
              "\n",
              "   basement_garage  sq_footage_finished_living  basement  finished_basement  \\\n",
              "0              0.0                      1388.0     694.0              694.0   \n",
              "1              0.0                      1020.0    1020.0              500.0   \n",
              "2              0.0                       925.0     250.0                0.0   \n",
              "3              0.0                      1491.0       NaN                NaN   \n",
              "4              0.0                       878.0     878.0              439.0   \n",
              "\n",
              "              Address         Type  fire_late  fire_early  Fire_final  \n",
              "0          243 ZAN RD  Residential          0         0.0         0.0  \n",
              "1  117 NORTH BAKER ST  Residential          0         0.0         0.0  \n",
              "2         702 WEST ST  Residential          0         0.0         0.0  \n",
              "3         418 17TH ST  Residential          0         0.0         0.0  \n",
              "4         402 11TH ST  Residential          0         0.0         0.0  \n",
              "\n",
              "[5 rows x 27 columns]"
            ]
          },
          "metadata": {
            "tags": []
          },
          "execution_count": 3
        }
      ]
    },
    {
      "metadata": {
        "id": "2NqgShzbXuRy",
        "colab_type": "code",
        "colab": {
          "autoexec": {
            "startup": false,
            "wait_interval": 0
          },
          "base_uri": "https://localhost:8080/",
          "height": 431
        },
        "outputId": "fad84d07-3f4a-4a7e-a1fa-935169c4bcb5",
        "executionInfo": {
          "status": "ok",
          "timestamp": 1530052179189,
          "user_tz": 240,
          "elapsed": 337,
          "user": {
            "displayName": "Jackson Barkstrom",
            "photoUrl": "//lh5.googleusercontent.com/-vVdnq6QxZKc/AAAAAAAAAAI/AAAAAAAAAC8/hz-Hu2YlLus/s50-c-k-no/photo.jpg",
            "userId": "100905809459765639952"
          }
        }
      },
      "cell_type": "code",
      "source": [
        "# Examine commercial data (feel free not to run this)\n",
        "commercial.head()"
      ],
      "execution_count": 4,
      "outputs": [
        {
          "output_type": "execute_result",
          "data": {
            "text/html": [
              "<div>\n",
              "<style scoped>\n",
              "    .dataframe tbody tr th:only-of-type {\n",
              "        vertical-align: middle;\n",
              "    }\n",
              "\n",
              "    .dataframe tbody tr th {\n",
              "        vertical-align: top;\n",
              "    }\n",
              "\n",
              "    .dataframe thead th {\n",
              "        text-align: right;\n",
              "    }\n",
              "</style>\n",
              "<table border=\"1\" class=\"dataframe\">\n",
              "  <thead>\n",
              "    <tr style=\"text-align: right;\">\n",
              "      <th></th>\n",
              "      <th>lat</th>\n",
              "      <th>lon</th>\n",
              "      <th>use_type</th>\n",
              "      <th>use_code</th>\n",
              "      <th>year_built</th>\n",
              "      <th>gross_area</th>\n",
              "      <th>story_height</th>\n",
              "      <th>number_of_stories</th>\n",
              "      <th>address</th>\n",
              "      <th>Address</th>\n",
              "      <th>Type</th>\n",
              "      <th>fire_late</th>\n",
              "      <th>fire_early</th>\n",
              "      <th>Fire_final</th>\n",
              "    </tr>\n",
              "  </thead>\n",
              "  <tbody>\n",
              "    <tr>\n",
              "      <th>0</th>\n",
              "      <td>38.030637</td>\n",
              "      <td>-78.470637</td>\n",
              "      <td>R</td>\n",
              "      <td>Elementary Sch (Entire)</td>\n",
              "      <td>1930.0</td>\n",
              "      <td>815.0</td>\n",
              "      <td>12.0</td>\n",
              "      <td>1.0</td>\n",
              "      <td>402 11TH ST Charlottesville, VA</td>\n",
              "      <td>402 11TH ST</td>\n",
              "      <td>Commercial</td>\n",
              "      <td>0</td>\n",
              "      <td>0.0</td>\n",
              "      <td>0.0</td>\n",
              "    </tr>\n",
              "    <tr>\n",
              "      <th>1</th>\n",
              "      <td>38.063599</td>\n",
              "      <td>-78.488920</td>\n",
              "      <td>C</td>\n",
              "      <td>Commercial</td>\n",
              "      <td>1963.0</td>\n",
              "      <td>1134.0</td>\n",
              "      <td>12.0</td>\n",
              "      <td>1.0</td>\n",
              "      <td>243 ZAN RD Charlottesville, VA</td>\n",
              "      <td>243 ZAN RD</td>\n",
              "      <td>Commercial</td>\n",
              "      <td>0</td>\n",
              "      <td>0.0</td>\n",
              "      <td>0.0</td>\n",
              "    </tr>\n",
              "    <tr>\n",
              "      <th>2</th>\n",
              "      <td>38.027207</td>\n",
              "      <td>-78.503849</td>\n",
              "      <td>R</td>\n",
              "      <td>Mini-warehouse</td>\n",
              "      <td>2000.0</td>\n",
              "      <td>400.0</td>\n",
              "      <td>12.0</td>\n",
              "      <td>1.0</td>\n",
              "      <td>117 NORTH BAKER ST Charlottesville, VA</td>\n",
              "      <td>117 NORTH BAKER ST</td>\n",
              "      <td>Commercial</td>\n",
              "      <td>0</td>\n",
              "      <td>0.0</td>\n",
              "      <td>0.0</td>\n",
              "    </tr>\n",
              "    <tr>\n",
              "      <th>3</th>\n",
              "      <td>38.034784</td>\n",
              "      <td>-78.488041</td>\n",
              "      <td>R</td>\n",
              "      <td>Mini-warehouse</td>\n",
              "      <td>2000.0</td>\n",
              "      <td>21600.0</td>\n",
              "      <td>18.0</td>\n",
              "      <td>2.0</td>\n",
              "      <td>702 WEST ST Charlottesville, VA</td>\n",
              "      <td>702 WEST ST</td>\n",
              "      <td>Commercial</td>\n",
              "      <td>0</td>\n",
              "      <td>0.0</td>\n",
              "      <td>0.0</td>\n",
              "    </tr>\n",
              "    <tr>\n",
              "      <th>4</th>\n",
              "      <td>38.034061</td>\n",
              "      <td>-78.489876</td>\n",
              "      <td>R</td>\n",
              "      <td>Mini-warehouse</td>\n",
              "      <td>2000.0</td>\n",
              "      <td>22376.0</td>\n",
              "      <td>18.0</td>\n",
              "      <td>2.0</td>\n",
              "      <td>302 8TH ST Charlottesville, VA</td>\n",
              "      <td>302 8TH ST</td>\n",
              "      <td>Commercial</td>\n",
              "      <td>0</td>\n",
              "      <td>0.0</td>\n",
              "      <td>0.0</td>\n",
              "    </tr>\n",
              "  </tbody>\n",
              "</table>\n",
              "</div>"
            ],
            "text/plain": [
              "         lat        lon use_type                 use_code  year_built  \\\n",
              "0  38.030637 -78.470637        R  Elementary Sch (Entire)      1930.0   \n",
              "1  38.063599 -78.488920        C               Commercial      1963.0   \n",
              "2  38.027207 -78.503849        R           Mini-warehouse      2000.0   \n",
              "3  38.034784 -78.488041        R           Mini-warehouse      2000.0   \n",
              "4  38.034061 -78.489876        R           Mini-warehouse      2000.0   \n",
              "\n",
              "   gross_area  story_height  number_of_stories  \\\n",
              "0       815.0          12.0                1.0   \n",
              "1      1134.0          12.0                1.0   \n",
              "2       400.0          12.0                1.0   \n",
              "3     21600.0          18.0                2.0   \n",
              "4     22376.0          18.0                2.0   \n",
              "\n",
              "                                  address             Address        Type  \\\n",
              "0         402 11TH ST Charlottesville, VA         402 11TH ST  Commercial   \n",
              "1          243 ZAN RD Charlottesville, VA          243 ZAN RD  Commercial   \n",
              "2  117 NORTH BAKER ST Charlottesville, VA  117 NORTH BAKER ST  Commercial   \n",
              "3         702 WEST ST Charlottesville, VA         702 WEST ST  Commercial   \n",
              "4          302 8TH ST Charlottesville, VA          302 8TH ST  Commercial   \n",
              "\n",
              "   fire_late  fire_early  Fire_final  \n",
              "0          0         0.0         0.0  \n",
              "1          0         0.0         0.0  \n",
              "2          0         0.0         0.0  \n",
              "3          0         0.0         0.0  \n",
              "4          0         0.0         0.0  "
            ]
          },
          "metadata": {
            "tags": []
          },
          "execution_count": 4
        }
      ]
    },
    {
      "metadata": {
        "id": "fuUhPfx14mxw",
        "colab_type": "text"
      },
      "cell_type": "markdown",
      "source": [
        "## Cleaning"
      ]
    },
    {
      "metadata": {
        "id": "E-IMEoBnx05R",
        "colab_type": "code",
        "colab": {
          "autoexec": {
            "startup": false,
            "wait_interval": 0
          }
        }
      },
      "cell_type": "code",
      "source": [
        "# Drop variables we are no longer using for Machine Learning\n",
        "# Drops latitude, longitude, address, if there was a fire 2003-2016,\n",
        "# and if there was a fire 2016-. Our 'Fire_final' column still shows\n",
        "# if there was a fire 2003-2018, and this is what we will train our\n",
        "# models on. Feel free to modify to your liking.\n",
        "\n",
        "residential_cleaned = residential.drop(['lat','lon','fire_late','fire_early','Address', 'Type'], 1)\n",
        "commercial_cleaned = commercial.drop(['lat','lon','fire_late','fire_early','Address', 'address', 'Type'], 1)"
      ],
      "execution_count": 0,
      "outputs": []
    },
    {
      "metadata": {
        "id": "Xtbo8f2iyJr1",
        "colab_type": "code",
        "colab": {
          "autoexec": {
            "startup": false,
            "wait_interval": 0
          }
        }
      },
      "cell_type": "code",
      "source": [
        "# Clean the data to be ready for an algorithm \n",
        "# We replace nan NaN with 0 and then made it its own category in case there was a pattern to the NaN values\n",
        "# We make numerical categories with dataframe[\"colname\"].notnull().astype(\"category\").cat.codes\n",
        "\n",
        "residential_cleaned = residential_cleaned.replace(np.nan, 0, regex=True)\n",
        "commercial_cleaned = commercial_cleaned.replace(np.nan, 0, regex=True)\n",
        "\n",
        "\n",
        "residential_cleaned[\"use_type\"] = residential_cleaned[\"use_type\"].astype(\"category\").cat.codes\n",
        "residential_cleaned[\"use_code\"] = residential_cleaned[\"use_code\"].astype(\"category\").cat.codes\n",
        "residential_cleaned[\"grade\"] = residential_cleaned[\"grade\"].astype(\"category\").cat.codes\n",
        "residential_cleaned[\"ext_walls\"] = residential_cleaned[\"ext_walls\"].astype(\"category\").cat.codes\n",
        "residential_cleaned[\"roof\"] = residential_cleaned[\"roof\"].astype(\"category\").cat.codes\n",
        "residential_cleaned[\"flooring\"] = residential_cleaned[\"flooring\"].astype(\"category\").cat.codes\n",
        "residential_cleaned[\"bsmt_type\"] = residential_cleaned[\"bsmt_type\"].astype(\"category\").cat.codes                                                       \n",
        "residential_cleaned[\"heating\"] = residential_cleaned[\"heating\"].astype(\"category\").cat.codes\n",
        "                                                       \n",
        "commercial_cleaned[\"use_type\"] = commercial_cleaned[\"use_type\"].astype(\"category\").cat.codes                                                       \n",
        "commercial_cleaned[\"use_code\"] = commercial_cleaned[\"use_code\"].astype(\"category\").cat.codes                                                       \n",
        "\n"
      ],
      "execution_count": 0,
      "outputs": []
    },
    {
      "metadata": {
        "id": "qhKKBPRwcMav",
        "colab_type": "code",
        "colab": {
          "autoexec": {
            "startup": false,
            "wait_interval": 0
          },
          "base_uri": "https://localhost:8080/",
          "height": 273
        },
        "outputId": "dce7066e-0ac6-406e-c461-6c9a1b5292ca",
        "executionInfo": {
          "status": "ok",
          "timestamp": 1530052459816,
          "user_tz": 240,
          "elapsed": 281,
          "user": {
            "displayName": "Jackson Barkstrom",
            "photoUrl": "//lh5.googleusercontent.com/-vVdnq6QxZKc/AAAAAAAAAAI/AAAAAAAAAC8/hz-Hu2YlLus/s50-c-k-no/photo.jpg",
            "userId": "100905809459765639952"
          }
        }
      },
      "cell_type": "code",
      "source": [
        "# Examine the data\n",
        "residential_cleaned.head()"
      ],
      "execution_count": 28,
      "outputs": [
        {
          "output_type": "execute_result",
          "data": {
            "text/html": [
              "<div>\n",
              "<style scoped>\n",
              "    .dataframe tbody tr th:only-of-type {\n",
              "        vertical-align: middle;\n",
              "    }\n",
              "\n",
              "    .dataframe tbody tr th {\n",
              "        vertical-align: top;\n",
              "    }\n",
              "\n",
              "    .dataframe thead th {\n",
              "        text-align: right;\n",
              "    }\n",
              "</style>\n",
              "<table border=\"1\" class=\"dataframe\">\n",
              "  <thead>\n",
              "    <tr style=\"text-align: right;\">\n",
              "      <th></th>\n",
              "      <th>use_type</th>\n",
              "      <th>use_code</th>\n",
              "      <th>style</th>\n",
              "      <th>grade</th>\n",
              "      <th>ext_walls</th>\n",
              "      <th>roof</th>\n",
              "      <th>flooring</th>\n",
              "      <th>bsmt_type</th>\n",
              "      <th>heating</th>\n",
              "      <th>fireplace</th>\n",
              "      <th>...</th>\n",
              "      <th>no_of_stories</th>\n",
              "      <th>total_rooms</th>\n",
              "      <th>bedrooms</th>\n",
              "      <th>half_bathrooms</th>\n",
              "      <th>full_bathrooms</th>\n",
              "      <th>basement_garage</th>\n",
              "      <th>sq_footage_finished_living</th>\n",
              "      <th>basement</th>\n",
              "      <th>finished_basement</th>\n",
              "      <th>Fire_final</th>\n",
              "    </tr>\n",
              "  </thead>\n",
              "  <tbody>\n",
              "    <tr>\n",
              "      <th>0</th>\n",
              "      <td>1</td>\n",
              "      <td>15</td>\n",
              "      <td>2.0</td>\n",
              "      <td>6</td>\n",
              "      <td>1</td>\n",
              "      <td>9</td>\n",
              "      <td>6</td>\n",
              "      <td>4</td>\n",
              "      <td>6</td>\n",
              "      <td>1.0</td>\n",
              "      <td>...</td>\n",
              "      <td>2.0</td>\n",
              "      <td>9.0</td>\n",
              "      <td>5.0</td>\n",
              "      <td>1.0</td>\n",
              "      <td>3.0</td>\n",
              "      <td>0.0</td>\n",
              "      <td>1388.0</td>\n",
              "      <td>694.0</td>\n",
              "      <td>694.0</td>\n",
              "      <td>0.0</td>\n",
              "    </tr>\n",
              "    <tr>\n",
              "      <th>1</th>\n",
              "      <td>3</td>\n",
              "      <td>39</td>\n",
              "      <td>1.0</td>\n",
              "      <td>11</td>\n",
              "      <td>23</td>\n",
              "      <td>9</td>\n",
              "      <td>2</td>\n",
              "      <td>4</td>\n",
              "      <td>3</td>\n",
              "      <td>0.0</td>\n",
              "      <td>...</td>\n",
              "      <td>1.0</td>\n",
              "      <td>5.0</td>\n",
              "      <td>2.0</td>\n",
              "      <td>0.0</td>\n",
              "      <td>2.0</td>\n",
              "      <td>0.0</td>\n",
              "      <td>1020.0</td>\n",
              "      <td>1020.0</td>\n",
              "      <td>500.0</td>\n",
              "      <td>0.0</td>\n",
              "    </tr>\n",
              "    <tr>\n",
              "      <th>2</th>\n",
              "      <td>3</td>\n",
              "      <td>39</td>\n",
              "      <td>1.0</td>\n",
              "      <td>11</td>\n",
              "      <td>23</td>\n",
              "      <td>9</td>\n",
              "      <td>2</td>\n",
              "      <td>3</td>\n",
              "      <td>3</td>\n",
              "      <td>0.0</td>\n",
              "      <td>...</td>\n",
              "      <td>1.0</td>\n",
              "      <td>5.0</td>\n",
              "      <td>3.0</td>\n",
              "      <td>0.0</td>\n",
              "      <td>1.0</td>\n",
              "      <td>0.0</td>\n",
              "      <td>925.0</td>\n",
              "      <td>250.0</td>\n",
              "      <td>0.0</td>\n",
              "      <td>0.0</td>\n",
              "    </tr>\n",
              "    <tr>\n",
              "      <th>3</th>\n",
              "      <td>3</td>\n",
              "      <td>39</td>\n",
              "      <td>1.5</td>\n",
              "      <td>11</td>\n",
              "      <td>21</td>\n",
              "      <td>9</td>\n",
              "      <td>2</td>\n",
              "      <td>5</td>\n",
              "      <td>2</td>\n",
              "      <td>0.0</td>\n",
              "      <td>...</td>\n",
              "      <td>1.5</td>\n",
              "      <td>8.0</td>\n",
              "      <td>5.0</td>\n",
              "      <td>0.0</td>\n",
              "      <td>1.0</td>\n",
              "      <td>0.0</td>\n",
              "      <td>1491.0</td>\n",
              "      <td>0.0</td>\n",
              "      <td>0.0</td>\n",
              "      <td>0.0</td>\n",
              "    </tr>\n",
              "    <tr>\n",
              "      <th>4</th>\n",
              "      <td>3</td>\n",
              "      <td>41</td>\n",
              "      <td>1.0</td>\n",
              "      <td>11</td>\n",
              "      <td>24</td>\n",
              "      <td>9</td>\n",
              "      <td>2</td>\n",
              "      <td>4</td>\n",
              "      <td>3</td>\n",
              "      <td>0.0</td>\n",
              "      <td>...</td>\n",
              "      <td>1.0</td>\n",
              "      <td>7.0</td>\n",
              "      <td>3.0</td>\n",
              "      <td>0.0</td>\n",
              "      <td>2.0</td>\n",
              "      <td>0.0</td>\n",
              "      <td>878.0</td>\n",
              "      <td>878.0</td>\n",
              "      <td>439.0</td>\n",
              "      <td>0.0</td>\n",
              "    </tr>\n",
              "  </tbody>\n",
              "</table>\n",
              "<p>5 rows × 21 columns</p>\n",
              "</div>"
            ],
            "text/plain": [
              "   use_type  use_code  style  grade  ext_walls  roof  flooring  bsmt_type  \\\n",
              "0         1        15    2.0      6          1     9         6          4   \n",
              "1         3        39    1.0     11         23     9         2          4   \n",
              "2         3        39    1.0     11         23     9         2          3   \n",
              "3         3        39    1.5     11         21     9         2          5   \n",
              "4         3        41    1.0     11         24     9         2          4   \n",
              "\n",
              "   heating  fireplace     ...      no_of_stories  total_rooms  bedrooms  \\\n",
              "0        6        1.0     ...                2.0          9.0       5.0   \n",
              "1        3        0.0     ...                1.0          5.0       2.0   \n",
              "2        3        0.0     ...                1.0          5.0       3.0   \n",
              "3        2        0.0     ...                1.5          8.0       5.0   \n",
              "4        3        0.0     ...                1.0          7.0       3.0   \n",
              "\n",
              "   half_bathrooms  full_bathrooms  basement_garage  \\\n",
              "0             1.0             3.0              0.0   \n",
              "1             0.0             2.0              0.0   \n",
              "2             0.0             1.0              0.0   \n",
              "3             0.0             1.0              0.0   \n",
              "4             0.0             2.0              0.0   \n",
              "\n",
              "   sq_footage_finished_living  basement  finished_basement  Fire_final  \n",
              "0                      1388.0     694.0              694.0         0.0  \n",
              "1                      1020.0    1020.0              500.0         0.0  \n",
              "2                       925.0     250.0                0.0         0.0  \n",
              "3                      1491.0       0.0                0.0         0.0  \n",
              "4                       878.0     878.0              439.0         0.0  \n",
              "\n",
              "[5 rows x 21 columns]"
            ]
          },
          "metadata": {
            "tags": []
          },
          "execution_count": 28
        }
      ]
    },
    {
      "metadata": {
        "id": "F5IS9AFfvUbL",
        "colab_type": "code",
        "colab": {
          "autoexec": {
            "startup": false,
            "wait_interval": 0
          },
          "base_uri": "https://localhost:8080/",
          "height": 204
        },
        "outputId": "fab6bf2d-4ff2-4aeb-b682-5d8c83c48e5d",
        "executionInfo": {
          "status": "ok",
          "timestamp": 1530052181764,
          "user_tz": 240,
          "elapsed": 253,
          "user": {
            "displayName": "Jackson Barkstrom",
            "photoUrl": "//lh5.googleusercontent.com/-vVdnq6QxZKc/AAAAAAAAAAI/AAAAAAAAAC8/hz-Hu2YlLus/s50-c-k-no/photo.jpg",
            "userId": "100905809459765639952"
          }
        }
      },
      "cell_type": "code",
      "source": [
        "# Examine the data\n",
        "commercial_cleaned.head()"
      ],
      "execution_count": 8,
      "outputs": [
        {
          "output_type": "execute_result",
          "data": {
            "text/html": [
              "<div>\n",
              "<style scoped>\n",
              "    .dataframe tbody tr th:only-of-type {\n",
              "        vertical-align: middle;\n",
              "    }\n",
              "\n",
              "    .dataframe tbody tr th {\n",
              "        vertical-align: top;\n",
              "    }\n",
              "\n",
              "    .dataframe thead th {\n",
              "        text-align: right;\n",
              "    }\n",
              "</style>\n",
              "<table border=\"1\" class=\"dataframe\">\n",
              "  <thead>\n",
              "    <tr style=\"text-align: right;\">\n",
              "      <th></th>\n",
              "      <th>use_type</th>\n",
              "      <th>use_code</th>\n",
              "      <th>year_built</th>\n",
              "      <th>gross_area</th>\n",
              "      <th>story_height</th>\n",
              "      <th>number_of_stories</th>\n",
              "      <th>Fire_final</th>\n",
              "    </tr>\n",
              "  </thead>\n",
              "  <tbody>\n",
              "    <tr>\n",
              "      <th>0</th>\n",
              "      <td>3</td>\n",
              "      <td>21</td>\n",
              "      <td>1930.0</td>\n",
              "      <td>815.0</td>\n",
              "      <td>12.0</td>\n",
              "      <td>1.0</td>\n",
              "      <td>0.0</td>\n",
              "    </tr>\n",
              "    <tr>\n",
              "      <th>1</th>\n",
              "      <td>1</td>\n",
              "      <td>12</td>\n",
              "      <td>1963.0</td>\n",
              "      <td>1134.0</td>\n",
              "      <td>12.0</td>\n",
              "      <td>1.0</td>\n",
              "      <td>0.0</td>\n",
              "    </tr>\n",
              "    <tr>\n",
              "      <th>2</th>\n",
              "      <td>3</td>\n",
              "      <td>44</td>\n",
              "      <td>2000.0</td>\n",
              "      <td>400.0</td>\n",
              "      <td>12.0</td>\n",
              "      <td>1.0</td>\n",
              "      <td>0.0</td>\n",
              "    </tr>\n",
              "    <tr>\n",
              "      <th>3</th>\n",
              "      <td>3</td>\n",
              "      <td>44</td>\n",
              "      <td>2000.0</td>\n",
              "      <td>21600.0</td>\n",
              "      <td>18.0</td>\n",
              "      <td>2.0</td>\n",
              "      <td>0.0</td>\n",
              "    </tr>\n",
              "    <tr>\n",
              "      <th>4</th>\n",
              "      <td>3</td>\n",
              "      <td>44</td>\n",
              "      <td>2000.0</td>\n",
              "      <td>22376.0</td>\n",
              "      <td>18.0</td>\n",
              "      <td>2.0</td>\n",
              "      <td>0.0</td>\n",
              "    </tr>\n",
              "  </tbody>\n",
              "</table>\n",
              "</div>"
            ],
            "text/plain": [
              "   use_type  use_code  year_built  gross_area  story_height  \\\n",
              "0         3        21      1930.0       815.0          12.0   \n",
              "1         1        12      1963.0      1134.0          12.0   \n",
              "2         3        44      2000.0       400.0          12.0   \n",
              "3         3        44      2000.0     21600.0          18.0   \n",
              "4         3        44      2000.0     22376.0          18.0   \n",
              "\n",
              "   number_of_stories  Fire_final  \n",
              "0                1.0         0.0  \n",
              "1                1.0         0.0  \n",
              "2                1.0         0.0  \n",
              "3                2.0         0.0  \n",
              "4                2.0         0.0  "
            ]
          },
          "metadata": {
            "tags": []
          },
          "execution_count": 8
        }
      ]
    },
    {
      "metadata": {
        "id": "4MMl8CEBvc2D",
        "colab_type": "text"
      },
      "cell_type": "markdown",
      "source": [
        "## Train Test Split"
      ]
    },
    {
      "metadata": {
        "id": "QLBNkCTj1Uo3",
        "colab_type": "text"
      },
      "cell_type": "markdown",
      "source": [
        "Note: running the split in conjunction with the first cell is does not get rid of variables, which we used because it produces the most accurate model. However, there is a chance that this model will be overfitted. We made the second cell give the model only four variables, just to show how important those 4 variables are in predicting fires, and to show that our model can produce powerful insights on only four variables.\n",
        "\n",
        "We used 50% of the residential data and 50% of the commercial data to train, but this can easily be changed by editing test_size. That way, if our model tests well among the other 50% of the data, it has high validity."
      ]
    },
    {
      "metadata": {
        "id": "pIo9AuKrR3Za",
        "colab_type": "text"
      },
      "cell_type": "markdown",
      "source": [
        "This first one uses all of the variables. We used it in our final model. Although overfitting is dangerous, there are few variables relative to the size of the dataset. "
      ]
    },
    {
      "metadata": {
        "id": "Okieo1-d1YJI",
        "colab_type": "code",
        "colab": {
          "autoexec": {
            "startup": false,
            "wait_interval": 0
          }
        }
      },
      "cell_type": "code",
      "source": [
        "# train test split (so that we can validate our model)\n",
        "from sklearn.model_selection import train_test_split\n",
        "\n",
        "residential_cleaned_split = residential_cleaned\n",
        "commercial_cleaned_split = commercial_cleaned"
      ],
      "execution_count": 0,
      "outputs": []
    },
    {
      "metadata": {
        "id": "SL6GeGbc4hrN",
        "colab_type": "text"
      },
      "cell_type": "markdown",
      "source": [
        "This second one gets rid of variables. Don't run it if you want to look at all the variables.\n",
        "\n",
        "For our simplest models we used only four variables and found good results in finding the highest risk homes. For residential data we used 1) square footage, 2) year built, 3) does it have a basement, and 4) how many total rooms does it have. For commercial data we used 1) square footage, 2) year built, 3) use code, and 4) number of stories. We found these were the most significant. The final regression model will definitely need more than just these four variables."
      ]
    },
    {
      "metadata": {
        "id": "nRT2o3zC401f",
        "colab_type": "code",
        "colab": {
          "autoexec": {
            "startup": false,
            "wait_interval": 0
          }
        }
      },
      "cell_type": "code",
      "source": [
        "# get rid of all but the most useful variables\n",
        "residential_cleaned_split = residential_cleaned[[\"sq_footage_finished_living\", \"year_built\", \"basement\", \"total_rooms\", \"Fire_final\"]]\n",
        "commercial_cleaned_split = commercial_cleaned[[\"gross_area\", \"year_built\", \"use_code\", \"number_of_stories\", \"Fire_final\"]]"
      ],
      "execution_count": 0,
      "outputs": []
    },
    {
      "metadata": {
        "id": "HGk87_793h2u",
        "colab_type": "text"
      },
      "cell_type": "markdown",
      "source": [
        "Basic train test split with 50% train 50% split, using data from one of the above three cells"
      ]
    },
    {
      "metadata": {
        "id": "85qZmqY83fbB",
        "colab_type": "code",
        "colab": {
          "autoexec": {
            "startup": false,
            "wait_interval": 0
          }
        }
      },
      "cell_type": "code",
      "source": [
        "# train test split\n",
        "from sklearn.model_selection import train_test_split\n",
        "\n",
        "# train/test split the shortened residential data set\n",
        "residential_train, residential_test = train_test_split(residential_cleaned_split, test_size = 0.5)\n",
        "\n",
        "# split into x and y\n",
        "residential_test_x = residential_test.drop('Fire_final', 1)\n",
        "residential_test_y = residential_test['Fire_final']\n",
        "\n",
        "residential_train_x = residential_train.drop('Fire_final', 1)\n",
        "residential_train_y = residential_train[\"Fire_final\"]\n",
        "\n",
        "# train/test split the shortened commercial data set\n",
        "commercial_train, commercial_test = train_test_split(commercial_cleaned_split, test_size = 0.5)\n",
        "\n",
        "# split into x and y\n",
        "commercial_test_x = commercial_test.drop('Fire_final', 1)\n",
        "commercial_test_y = commercial_test['Fire_final']\n",
        "\n",
        "commercial_train_x = commercial_train.drop('Fire_final', 1)\n",
        "commercial_train_y = commercial_train[\"Fire_final\"]"
      ],
      "execution_count": 0,
      "outputs": []
    },
    {
      "metadata": {
        "id": "24nYMa9ygcRh",
        "colab_type": "code",
        "colab": {
          "autoexec": {
            "startup": false,
            "wait_interval": 0
          },
          "base_uri": "https://localhost:8080/",
          "height": 391
        },
        "outputId": "2169abe4-5b6a-444f-f3c7-b53491dd56dc",
        "executionInfo": {
          "status": "ok",
          "timestamp": 1530052197128,
          "user_tz": 240,
          "elapsed": 221,
          "user": {
            "displayName": "Jackson Barkstrom",
            "photoUrl": "//lh5.googleusercontent.com/-vVdnq6QxZKc/AAAAAAAAAAI/AAAAAAAAAC8/hz-Hu2YlLus/s50-c-k-no/photo.jpg",
            "userId": "100905809459765639952"
          }
        }
      },
      "cell_type": "code",
      "source": [
        "# Examine datatypes (just to make check what we're dealing with in our models)\n",
        "# Everything should say float or int\n",
        "print(residential_train_x.dtypes)\n",
        "print(residential_train_y.dtypes)"
      ],
      "execution_count": 15,
      "outputs": [
        {
          "output_type": "stream",
          "text": [
            "use_type                         int8\n",
            "use_code                         int8\n",
            "style                         float64\n",
            "grade                            int8\n",
            "ext_walls                        int8\n",
            "roof                             int8\n",
            "flooring                         int8\n",
            "bsmt_type                        int8\n",
            "heating                          int8\n",
            "fireplace                     float64\n",
            "year_built                    float64\n",
            "no_of_stories                 float64\n",
            "total_rooms                   float64\n",
            "bedrooms                      float64\n",
            "half_bathrooms                float64\n",
            "full_bathrooms                float64\n",
            "basement_garage               float64\n",
            "sq_footage_finished_living    float64\n",
            "basement                      float64\n",
            "finished_basement             float64\n",
            "dtype: object\n",
            "float64\n"
          ],
          "name": "stdout"
        }
      ]
    },
    {
      "metadata": {
        "id": "xAfA52usgx_6",
        "colab_type": "code",
        "colab": {
          "autoexec": {
            "startup": false,
            "wait_interval": 0
          },
          "base_uri": "https://localhost:8080/",
          "height": 153
        },
        "outputId": "51ea1c39-3122-4c1e-adfd-fe15dcfb2c98",
        "executionInfo": {
          "status": "ok",
          "timestamp": 1530052199524,
          "user_tz": 240,
          "elapsed": 243,
          "user": {
            "displayName": "Jackson Barkstrom",
            "photoUrl": "//lh5.googleusercontent.com/-vVdnq6QxZKc/AAAAAAAAAAI/AAAAAAAAAC8/hz-Hu2YlLus/s50-c-k-no/photo.jpg",
            "userId": "100905809459765639952"
          }
        }
      },
      "cell_type": "code",
      "source": [
        "# Again, examine datatypes\n",
        "# Everything should say float or int\n",
        "print(commercial_train_x.dtypes)\n",
        "print(commercial_train_y.dtypes)"
      ],
      "execution_count": 16,
      "outputs": [
        {
          "output_type": "stream",
          "text": [
            "use_type                int8\n",
            "use_code                int8\n",
            "year_built           float64\n",
            "gross_area           float64\n",
            "story_height         float64\n",
            "number_of_stories    float64\n",
            "dtype: object\n",
            "float64\n"
          ],
          "name": "stdout"
        }
      ]
    },
    {
      "metadata": {
        "id": "8AC22hxT2mew",
        "colab_type": "text"
      },
      "cell_type": "markdown",
      "source": [
        "## Decision Tree Classifier"
      ]
    },
    {
      "metadata": {
        "id": "Tfn6-lpjWaAf",
        "colab_type": "text"
      },
      "cell_type": "markdown",
      "source": [
        "First we run our Decision Tree Classifier on the residential data. This is a basic machine learning model that is explained below in the code. It's worth noting that in our case a classifier predicts either 0 or 1, while a regressor will predict a value between 0 and 1. A classifier predicts fires (yes or no, high risk or not), while a regressor predicts more nuanced levels of fire risk (0.2, 0.4, 0.0, 0.9, etc). This decision tree did OK: using only four variables it predicted a little under half of the fires, and ~40% of the time when it said there was a very high risk of fire, there was a fire. Note that 1.0 in the confusion matrix corresponds to fire, and 0 to no fire."
      ]
    },
    {
      "metadata": {
        "id": "738yZjN42q-j",
        "colab_type": "code",
        "colab": {
          "autoexec": {
            "startup": false,
            "wait_interval": 0
          },
          "base_uri": "https://localhost:8080/",
          "height": 527
        },
        "outputId": "31fb51cb-4338-41fa-82e0-d9eb83e2f690",
        "executionInfo": {
          "status": "ok",
          "timestamp": 1530052206415,
          "user_tz": 240,
          "elapsed": 401,
          "user": {
            "displayName": "Jackson Barkstrom",
            "photoUrl": "//lh5.googleusercontent.com/-vVdnq6QxZKc/AAAAAAAAAAI/AAAAAAAAAC8/hz-Hu2YlLus/s50-c-k-no/photo.jpg",
            "userId": "100905809459765639952"
          }
        }
      },
      "cell_type": "code",
      "source": [
        "# Our decision tree has \"branches\" that are based on each variable. For example, our most important variable (with the highest gain)\n",
        "# is sq_footage_finished_living, so our model might decide to make the left side of the first branch >15k sq feet and the right side \n",
        "# <15k sq feet. Essentially, every variable divides the data, with the most important coming first. Google for more explanation. At \n",
        "# the smallest divisions in the tree (called \"leaf nodes\") we will have either a 0 (no probable fire) or 1 (probable fire). \n",
        "# Say we're at an arbitrary leaf, and we have 10 addresses from our training data that fall from the top of the tree into this \n",
        "# category. If we know 6 of them had fires, every element in this leaf would be predicted as \"1\" for a fire (60% accuracy on training).\n",
        "\n",
        "from sklearn.tree import DecisionTreeClassifier\n",
        "\n",
        "# model\n",
        "tree = DecisionTreeClassifier(criterion = \"entropy\")\n",
        "\n",
        "# train (residential first)\n",
        "tree.fit(residential_train_x, residential_train_y)\n",
        "\n",
        "# predict\n",
        "tree_predictions = tree.predict(residential_test_x)\n",
        "\n",
        "# This prints the information gain for each feature (very valuable)\n",
        "print(pd.DataFrame({'Information Gain': tree.feature_importances_}, index = residential_train_x.columns).sort_values('Information Gain', ascending = False))\n",
        "print(\"\")\n",
        "confusion = pd.crosstab(residential_test_y, tree_predictions, rownames=['Actual'], colnames = ['Predicted:'], margins = True)\n",
        "\n",
        "# Note that the success rate isn't a good metric, because obviously our model would be very accurate if it just predicted no fires.\n",
        "# If we could have 60% accuracy but predict every fire, that's a lot better than 95% accuracy and predicting half of the fires!\n",
        "print(\"Total success rate: \" + str((confusion.iloc[0,0] + confusion.iloc[1,1]) / confusion.iloc[2,2]))\n",
        "# This is a confusion matrix, with 1 corresponding ot fire and 0 corresponding to no fire\n",
        "print(confusion)\n",
        "print(\"\")\n",
        "print(\"When this model said there was high fire risk, there was a fire \" + str(confusion.iloc[1,1]/confusion.iloc[2,1]) + \" percent of the time.\")"
      ],
      "execution_count": 17,
      "outputs": [
        {
          "output_type": "stream",
          "text": [
            "                            Information Gain\n",
            "sq_footage_finished_living          0.227912\n",
            "year_built                          0.135835\n",
            "basement                            0.133839\n",
            "finished_basement                   0.071511\n",
            "total_rooms                         0.053426\n",
            "use_type                            0.052415\n",
            "ext_walls                           0.051993\n",
            "grade                               0.039973\n",
            "heating                             0.029106\n",
            "fireplace                           0.028842\n",
            "bedrooms                            0.024233\n",
            "use_code                            0.024175\n",
            "flooring                            0.022978\n",
            "full_bathrooms                      0.022418\n",
            "bsmt_type                           0.019435\n",
            "roof                                0.018810\n",
            "style                               0.014786\n",
            "half_bathrooms                      0.013738\n",
            "no_of_stories                       0.008229\n",
            "basement_garage                     0.006345\n",
            "\n",
            "Total success rate: 0.8958739684921231\n",
            "Predicted:   0.0  1.0   All\n",
            "Actual                     \n",
            "0.0         5712  376  6088\n",
            "1.0          318  259   577\n",
            "All         6030  635  6665\n",
            "\n",
            "When this model said there was high fire risk, there was a fire 0.4078740157480315 percent of the time.\n"
          ],
          "name": "stdout"
        }
      ]
    },
    {
      "metadata": {
        "id": "KKqjOzogbclx",
        "colab_type": "code",
        "colab": {
          "autoexec": {
            "startup": false,
            "wait_interval": 0
          },
          "base_uri": "https://localhost:8080/",
          "height": 51
        },
        "outputId": "7e12bd14-3e03-4763-ef7f-ecc22acf2172",
        "executionInfo": {
          "status": "ok",
          "timestamp": 1529862650695,
          "user_tz": 240,
          "elapsed": 656,
          "user": {
            "displayName": "Jackson Barkstrom",
            "photoUrl": "//lh5.googleusercontent.com/-vVdnq6QxZKc/AAAAAAAAAAI/AAAAAAAAAC8/hz-Hu2YlLus/s50-c-k-no/photo.jpg",
            "userId": "100905809459765639952"
          }
        }
      },
      "cell_type": "code",
      "source": [
        "# This is a test of cross validation... for our model to be consistent these scores need to be close every time.\n",
        "# Obviously, this tests on success rate, which is a pretty useless metric for what we're predicting, but it shows\n",
        "# the presence or absence of consistency.\n",
        "\n",
        "from sklearn.cross_validation import cross_val_score, cross_val_predict\n",
        "from sklearn import metrics\n",
        "\n",
        "scores = cross_val_score(tree, residential_test_x, residential_test_y, cv=10)\n",
        "print(\"Scores are: \", scores)"
      ],
      "execution_count": 0,
      "outputs": [
        {
          "output_type": "stream",
          "text": [
            "Scores are:  [0.87724551 0.89655172 0.87706147 0.89055472 0.89189189 0.89489489\n",
            " 0.89339339 0.90840841 0.8963964  0.91591592]\n"
          ],
          "name": "stdout"
        }
      ]
    },
    {
      "metadata": {
        "id": "F6UNZeuNWiL9",
        "colab_type": "text"
      },
      "cell_type": "markdown",
      "source": [
        "Next, we run our Decision Tree Classifier on the commercial data. This did even better: using only four variables it predicted well over half of the fires, and ~50% of the time when it said there was a very high risk of fire, there was a fire. Note that 1.0 in the confusion matrix corresponds to fire, and 0 to no fire."
      ]
    },
    {
      "metadata": {
        "id": "HAFDmoQa4P08",
        "colab_type": "code",
        "colab": {
          "autoexec": {
            "startup": false,
            "wait_interval": 0
          },
          "base_uri": "https://localhost:8080/",
          "height": 289
        },
        "outputId": "a7087682-5b7f-416e-99a4-546707f2e218",
        "executionInfo": {
          "status": "ok",
          "timestamp": 1529862651405,
          "user_tz": 240,
          "elapsed": 249,
          "user": {
            "displayName": "Jackson Barkstrom",
            "photoUrl": "//lh5.googleusercontent.com/-vVdnq6QxZKc/AAAAAAAAAAI/AAAAAAAAAC8/hz-Hu2YlLus/s50-c-k-no/photo.jpg",
            "userId": "100905809459765639952"
          }
        }
      },
      "cell_type": "code",
      "source": [
        "# train (commercial second)\n",
        "tree.fit(commercial_train_x, commercial_train_y)\n",
        "\n",
        "# predict\n",
        "tree_predictions = tree.predict(commercial_test_x)\n",
        "\n",
        "# This prints the information gain for each feature (very valuable)\n",
        "print(pd.DataFrame({'Information Gain': tree.feature_importances_}, index = commercial_train_x.columns).sort_values('Information Gain', ascending = False))\n",
        "print(\"\")\n",
        "confusion = pd.crosstab(commercial_test_y, tree_predictions, rownames=['Actual'], colnames = ['Predicted:'], margins = True)\n",
        "\n",
        "# Note that the success rate isn't a good metric, because obviously our model would be very accurate if it just predicted no fires.\n",
        "# If we could have 60% accuracy but predict every fire, that's a lot better than 95% accuracy and predicting half of the fires!\n",
        "print(\"Total success rate: \" + str((confusion.iloc[0,0] + confusion.iloc[1,1]) / confusion.iloc[2,2]))\n",
        "# This is a confusion matrix, with 1 corresponding ot fire and 0 corresponding to no fire\n",
        "print(confusion)\n",
        "print(\"\")\n",
        "print(\"When this model said there was high fire risk, there was a fire \" + str(confusion.iloc[1,1]/confusion.iloc[2,1]) + \" percent of the time.\")"
      ],
      "execution_count": 0,
      "outputs": [
        {
          "output_type": "stream",
          "text": [
            "                   Information Gain\n",
            "gross_area                 0.318979\n",
            "year_built                 0.312520\n",
            "use_code                   0.188109\n",
            "story_height               0.066934\n",
            "number_of_stories          0.058230\n",
            "use_type                   0.055227\n",
            "\n",
            "Total success rate: 0.8825371965544244\n",
            "Predicted:   0.0  1.0   All\n",
            "Actual                     \n",
            "0.0          984  106  1090\n",
            "1.0           44  143   187\n",
            "All         1028  249  1277\n",
            "\n",
            "When this model said there was high fire risk, there was a fire 0.5742971887550201 percent of the time.\n"
          ],
          "name": "stdout"
        }
      ]
    },
    {
      "metadata": {
        "id": "4_d4JVY0jJuC",
        "colab_type": "code",
        "colab": {
          "autoexec": {
            "startup": false,
            "wait_interval": 0
          },
          "base_uri": "https://localhost:8080/",
          "height": 51
        },
        "outputId": "2fb1eb05-9ffa-4970-fd50-848745434224",
        "executionInfo": {
          "status": "ok",
          "timestamp": 1529862652353,
          "user_tz": 240,
          "elapsed": 807,
          "user": {
            "displayName": "Jackson Barkstrom",
            "photoUrl": "//lh5.googleusercontent.com/-vVdnq6QxZKc/AAAAAAAAAAI/AAAAAAAAAC8/hz-Hu2YlLus/s50-c-k-no/photo.jpg",
            "userId": "100905809459765639952"
          }
        }
      },
      "cell_type": "code",
      "source": [
        "# This is a test of cross validation... for our model to be consistent these scores need to be close every time.\n",
        "# Obviously, this tests on success rate, which is a pretty useless metric for what we're predicting, but it shows\n",
        "# the presence or absence of consistency.\n",
        "\n",
        "from sklearn.cross_validation import cross_val_score, cross_val_predict\n",
        "from sklearn import metrics\n",
        "\n",
        "scores = cross_val_score(tree, residential_test_x, residential_test_y, cv=10)\n",
        "print(\"Scores are: \", scores)"
      ],
      "execution_count": 0,
      "outputs": [
        {
          "output_type": "stream",
          "text": [
            "Scores are:  [0.88772455 0.89505247 0.88155922 0.89805097 0.8993994  0.89039039\n",
            " 0.89189189 0.90690691 0.9024024  0.8963964 ]\n"
          ],
          "name": "stdout"
        }
      ]
    },
    {
      "metadata": {
        "id": "hwTjYAsp590_",
        "colab_type": "text"
      },
      "cell_type": "markdown",
      "source": [
        "## Random Forest Classifier"
      ]
    },
    {
      "metadata": {
        "id": "ivknkzY1l60J",
        "colab_type": "text"
      },
      "cell_type": "markdown",
      "source": [
        "First we run our Random Forest Classifier on the residential data. A random forest is like a decision tree, but a lot more complex (it's literally just a combination of multiple decision trees) and generally a lot more accurate. It's also explained below in the code. This did very well: using only four variables it predicted about 4/10 of the fires, and *~75-80%* of the time when it said there was a very high risk of fire, there was a fire. Note that 1.0 in the confusion matrix corresponds to fire, and 0 to no fire."
      ]
    },
    {
      "metadata": {
        "id": "k_FbunGp58-q",
        "colab_type": "code",
        "colab": {
          "autoexec": {
            "startup": false,
            "wait_interval": 0
          },
          "base_uri": "https://localhost:8080/",
          "height": 527
        },
        "outputId": "eb8c8cb0-b615-4ef8-aa55-b6dbea4928e7",
        "executionInfo": {
          "status": "ok",
          "timestamp": 1530052218867,
          "user_tz": 240,
          "elapsed": 411,
          "user": {
            "displayName": "Jackson Barkstrom",
            "photoUrl": "//lh5.googleusercontent.com/-vVdnq6QxZKc/AAAAAAAAAAI/AAAAAAAAAC8/hz-Hu2YlLus/s50-c-k-no/photo.jpg",
            "userId": "100905809459765639952"
          }
        }
      },
      "cell_type": "code",
      "source": [
        "# The Random Forest method introduces more randomness and diversity by applying the bagging method to the feature space. Bagging or Bootstrap Aggregating, \n",
        "# consists of randomly sampling subsets of the training data, fitting a model to these smaller data sets, and aggregating the predictions. That is, instead of\n",
        "# searching greedily for the best predictors to create branches, it randomly samples elements of the predictor space, thus adding more diversity and reducing the \n",
        "# variance of the trees at the cost of equal or higher bias.\n",
        "#\n",
        "# In plain English, we model decision tree classifiers off of subsets of our data that don't include all the variables. We might have a subset that's just square \n",
        "# footage, number of rooms, and number of exterior walls, for example. We have a LOT of different subsets we can take, and each one gets a tree. Then we decide \n",
        "# how much weight each tree should get (a tree that uses square footage and year built will be more important than a tree only using roof and the flooring data, \n",
        "# since square footage and year built are really important factors). Then, by combining weights of all of these little trees, we get our model (a forest!).\n",
        "# Again, Google is your friend.\n",
        "\n",
        "from sklearn.ensemble import RandomForestClassifier\n",
        "\n",
        "# model\n",
        "forest =  RandomForestClassifier()\n",
        "\n",
        "# train (residential first)\n",
        "forest.fit(residential_train_x, residential_train_y)\n",
        "\n",
        "# predict\n",
        "forest_predictions = forest.predict(residential_test_x)\n",
        "\n",
        "# show feature importances (very valuable, and basically the same meaning to us as information gain in a decision tree)\n",
        "# shows how important each variable is\n",
        "print(pd.DataFrame({'Importance': forest.feature_importances_}, index = residential_train_x.columns).sort_values('Importance', ascending = False))\n",
        "print(\"\")\n",
        "\n",
        "confusion = pd.crosstab(residential_test_y, forest_predictions, rownames=['Actual'], colnames = ['Predicted:'], margins = True)\n",
        "\n",
        "# Note that the success rate isn't a good metric, because obviously our model would be very accurate if it just predicted no fires.\n",
        "# If we could have 60% accuracy but predict every fire, that's a lot better than 95% accuracy and predicting half of the fires!\n",
        "print(\"Total success rate: \" + str((confusion.iloc[0,0] + confusion.iloc[1,1]) / confusion.iloc[2,2]))\n",
        "# This is a confusion matrix, with 1 corresponding ot fire and 0 corresponding to no fire\n",
        "print(confusion)\n",
        "print(\"\")\n",
        "print(\"When this model said there was high fire risk, there was a fire \" + str(confusion.iloc[1,1]/confusion.iloc[2,1]) + \" percent of the time.\")"
      ],
      "execution_count": 18,
      "outputs": [
        {
          "output_type": "stream",
          "text": [
            "                            Importance\n",
            "sq_footage_finished_living    0.173524\n",
            "year_built                    0.112755\n",
            "basement                      0.100534\n",
            "ext_walls                     0.069133\n",
            "finished_basement             0.065837\n",
            "total_rooms                   0.064197\n",
            "grade                         0.042762\n",
            "bedrooms                      0.039283\n",
            "heating                       0.036876\n",
            "full_bathrooms                0.036665\n",
            "use_type                      0.036511\n",
            "fireplace                     0.033368\n",
            "bsmt_type                     0.030573\n",
            "flooring                      0.026805\n",
            "use_code                      0.026375\n",
            "roof                          0.025824\n",
            "style                         0.024434\n",
            "no_of_stories                 0.022562\n",
            "half_bathrooms                0.021161\n",
            "basement_garage               0.010823\n",
            "\n",
            "Total success rate: 0.9413353338334584\n",
            "Predicted:   0.0  1.0   All\n",
            "Actual                     \n",
            "0.0         6057   31  6088\n",
            "1.0          360  217   577\n",
            "All         6417  248  6665\n",
            "\n",
            "When this model said there was high fire risk, there was a fire 0.875 percent of the time.\n"
          ],
          "name": "stdout"
        }
      ]
    },
    {
      "metadata": {
        "id": "3L57cG2YuvJH",
        "colab_type": "code",
        "colab": {
          "autoexec": {
            "startup": false,
            "wait_interval": 0
          },
          "base_uri": "https://localhost:8080/",
          "height": 131
        },
        "outputId": "4167838b-294b-4a02-9254-0337de7036f6",
        "executionInfo": {
          "status": "ok",
          "timestamp": 1530052260267,
          "user_tz": 240,
          "elapsed": 1129,
          "user": {
            "displayName": "Jackson Barkstrom",
            "photoUrl": "//lh5.googleusercontent.com/-vVdnq6QxZKc/AAAAAAAAAAI/AAAAAAAAAC8/hz-Hu2YlLus/s50-c-k-no/photo.jpg",
            "userId": "100905809459765639952"
          }
        }
      },
      "cell_type": "code",
      "source": [
        "# This is a test of cross validation... for our model to be consistent these scores need to be close every time.\n",
        "# Obviously, this tests on success rate, which is a pretty useless metric for what we're predicting, but it shows\n",
        "# the presence or absence of consistency.\n",
        "\n",
        "from sklearn.cross_validation import cross_val_score, cross_val_predict\n",
        "from sklearn import metrics\n",
        "\n",
        "scores = cross_val_score(forest, residential_test_x, residential_test_y, cv=10)\n",
        "print(\"Scores are: \", scores)"
      ],
      "execution_count": 19,
      "outputs": [
        {
          "output_type": "stream",
          "text": [
            "/usr/local/lib/python3.6/dist-packages/sklearn/cross_validation.py:41: DeprecationWarning: This module was deprecated in version 0.18 in favor of the model_selection module into which all the refactored classes and functions are moved. Also note that the interface of the new CV iterators are different from that of this module. This module will be removed in 0.20.\n",
            "  \"This module will be removed in 0.20.\", DeprecationWarning)\n"
          ],
          "name": "stderr"
        },
        {
          "output_type": "stream",
          "text": [
            "Scores are:  [0.94152924 0.93853073 0.94752624 0.93553223 0.94152924 0.93553223\n",
            " 0.94302849 0.94294294 0.93383459 0.94135338]\n"
          ],
          "name": "stdout"
        }
      ]
    },
    {
      "metadata": {
        "id": "qtHheDyll_ks",
        "colab_type": "text"
      },
      "cell_type": "markdown",
      "source": [
        "Next, we run our Random Forest Classifier on the commercial data. This also did very well: using only four variables it predicted a well over half of the fires (better than residential), and ~60% (worse than residential) of the time when it said there was a very high risk of fire, there was a fire. Note that 1.0 in the confusion matrix corresponds to fire, and 0 to no fire. "
      ]
    },
    {
      "metadata": {
        "id": "vq_JlNXS7DJn",
        "colab_type": "code",
        "colab": {
          "autoexec": {
            "startup": false,
            "wait_interval": 0
          },
          "base_uri": "https://localhost:8080/",
          "height": 629
        },
        "outputId": "bc184f50-846a-476e-8b7f-7dbfc2d6cec9",
        "executionInfo": {
          "status": "ok",
          "timestamp": 1530052335247,
          "user_tz": 240,
          "elapsed": 347,
          "user": {
            "displayName": "Jackson Barkstrom",
            "photoUrl": "//lh5.googleusercontent.com/-vVdnq6QxZKc/AAAAAAAAAAI/AAAAAAAAAC8/hz-Hu2YlLus/s50-c-k-no/photo.jpg",
            "userId": "100905809459765639952"
          }
        }
      },
      "cell_type": "code",
      "source": [
        "# train (commercial second)\n",
        "forest.fit(commercial_train_x, commercial_train_y)\n",
        "\n",
        "# predict\n",
        "forest_predictions = forest.predict(commercial_test_x)\n",
        "\n",
        "# show feature importances (very valuable, and basically the same meaning to us as information gain in a decision tree)\n",
        "# shows how important each variable is\n",
        "print(pd.DataFrame({'Importance': forest.feature_importances_}, index = commercial_train_x.columns).sort_values('Importance', ascending = False))\n",
        "print(\"\")\n",
        "\n",
        "confusion = pd.crosstab(commercial_test_y, forest_predictions, rownames=['Actual'], colnames = ['Predicted:'], margins = True)\n",
        "\n",
        "# Note that the success rate isn't a good metric, because obviously our model would be very accurate if it just predicted no fires.\n",
        "# If we could have 60% accuracy but predict every fire, that's a lot better than 95% accuracy and predicting half of the fires!\n",
        "print(\"Total success rate: \" + str((confusion.iloc[0,0] + confusion.iloc[1,1]) / confusion.iloc[2,2]))\n",
        "# This is a confusion matrix, with 1 corresponding ot fire and 0 corresponding to no fire\n",
        "print(confusion)\n",
        "print(\"\")\n",
        "print(\"When this model said there was high fire risk, there was a fire \" + str(confusion.iloc[1,1]/confusion.iloc[2,1]) + \" percent of the time.\")"
      ],
      "execution_count": 24,
      "outputs": [
        {
          "output_type": "stream",
          "text": [
            "                   Importance\n",
            "gross_area           0.314905\n",
            "year_built           0.281418\n",
            "use_code             0.221812\n",
            "story_height         0.082402\n",
            "number_of_stories    0.065105\n",
            "use_type             0.034358\n",
            "\n",
            "Total success rate: 217.66666666666666\n",
            "Predicted:  0.0  0.05  0.06666666666666667  0.075  0.07777777777777778  0.09  \\\n",
            "Actual                                                                         \n",
            "0.0         653     6                    2      1                    1     1   \n",
            "1.0          35     0                    1      0                    0     0   \n",
            "All         688     6                    3      1                    1     1   \n",
            "\n",
            "Predicted:  0.1  0.15  0.16666666666666666  0.175  ...   0.425  \\\n",
            "Actual                                             ...           \n",
            "0.0         185     3                    2      1  ...       1   \n",
            "1.0           6     0                    0      0  ...       0   \n",
            "All         191     3                    2      1  ...       1   \n",
            "\n",
            "Predicted:  0.4333333333333333  0.5  0.6  0.7  0.7944444444444445  0.8  0.9  \\\n",
            "Actual                                                                        \n",
            "0.0                          2   16   15   12                   0    9    2   \n",
            "1.0                          0    2    3    6                   2   11   22   \n",
            "All                          2   18   18   18                   2   20   24   \n",
            "\n",
            "Predicted:  1.0   All  \n",
            "Actual                 \n",
            "0.0          12  1086  \n",
            "1.0          89   191  \n",
            "All         101  1277  \n",
            "\n",
            "[3 rows x 32 columns]\n",
            "\n",
            "When this model said there was high fire risk, there was a fire 0.0 percent of the time.\n"
          ],
          "name": "stdout"
        }
      ]
    },
    {
      "metadata": {
        "id": "4SXYR3PGnZnV",
        "colab_type": "code",
        "colab": {
          "autoexec": {
            "startup": false,
            "wait_interval": 0
          },
          "base_uri": "https://localhost:8080/",
          "height": 51
        },
        "outputId": "ee0b0ef4-930d-48e4-f38e-b35f89934f33",
        "executionInfo": {
          "status": "ok",
          "timestamp": 1530052261874,
          "user_tz": 240,
          "elapsed": 1019,
          "user": {
            "displayName": "Jackson Barkstrom",
            "photoUrl": "//lh5.googleusercontent.com/-vVdnq6QxZKc/AAAAAAAAAAI/AAAAAAAAAC8/hz-Hu2YlLus/s50-c-k-no/photo.jpg",
            "userId": "100905809459765639952"
          }
        }
      },
      "cell_type": "code",
      "source": [
        "# This is a test of cross validation... for our model to be consistent these scores need to be close every time.\n",
        "# Obviously, this tests on success rate, which is a pretty useless metric for what we're predicting, but it shows\n",
        "# the presence or absence of consistency.\n",
        "\n",
        "from sklearn.cross_validation import cross_val_score, cross_val_predict\n",
        "from sklearn import metrics\n",
        "\n",
        "scores = cross_val_score(forest, residential_test_x, residential_test_y, cv=10)\n",
        "print(\"Scores are: \", scores)"
      ],
      "execution_count": 21,
      "outputs": [
        {
          "output_type": "stream",
          "text": [
            "Scores are:  [0.93253373 0.94002999 0.94302849 0.94152924 0.93703148 0.93853073\n",
            " 0.94302849 0.94444444 0.93233083 0.93533835]\n"
          ],
          "name": "stdout"
        }
      ]
    },
    {
      "metadata": {
        "id": "NyhxFKyfdLMX",
        "colab_type": "text"
      },
      "cell_type": "markdown",
      "source": [
        "## Random Forest Regressor"
      ]
    },
    {
      "metadata": {
        "id": "i--fw65Bm33n",
        "colab_type": "text"
      },
      "cell_type": "markdown",
      "source": [
        "First we run our Random Forest Regressor on the residential data. It's again worth noting that a regressor returns values between 0 and 1 (i.e. 0.226) as opposed to just 0's and 1's. Otherwise, this model is pretty much the same as the Random Forest Classifier. This model worked best for us--better than models such as a decision tree regressor or a bagging regressor. For now this will be our final model (because it is a regressor it allows us to classify houses according to risk, which is much more in line with the task at hand). Using only four variables it was able to do very well at predicting a high risk category (see below), but more variables were useful in distinguishing between medium risk and low risk. See the code and the output for more information. \n",
        "\n",
        "Modify the function risk_function to modify how we convert into risk categories. For more explanation of our model see the cell below."
      ]
    },
    {
      "metadata": {
        "id": "rCJMvheAZ8Xn",
        "colab_type": "code",
        "colab": {
          "autoexec": {
            "startup": false,
            "wait_interval": 0
          },
          "base_uri": "https://localhost:8080/",
          "height": 442
        },
        "outputId": "b2489233-a9da-4665-a103-95e55922b036",
        "executionInfo": {
          "status": "ok",
          "timestamp": 1530052262694,
          "user_tz": 240,
          "elapsed": 721,
          "user": {
            "displayName": "Jackson Barkstrom",
            "photoUrl": "//lh5.googleusercontent.com/-vVdnq6QxZKc/AAAAAAAAAAI/AAAAAAAAAC8/hz-Hu2YlLus/s50-c-k-no/photo.jpg",
            "userId": "100905809459765639952"
          }
        }
      },
      "cell_type": "code",
      "source": [
        "# This works just like the Random Forest Classifier, only it's a Regressor. To explain, I took the description of the Random Forest Classifier and replaced the\n",
        "# word \"Classifier\" with \"Regressor\" (see below). A decision tree regressor (what this is made of) is a decision tree that has decimal numbers between 0 and 1\n",
        "# at the leaf nodes instead of just 0 or 1. Say we're at an arbitrary leaf, and we have 10 addresses from our training data that fall into this category. \n",
        "# If we know 6 of them had fires, every element in this leaf would be probably be predicted as a decently high decimal value (since we have 6/10 fires).\n",
        "#\n",
        "# The Random Forest method introduces more randomness and diversity by applying the bagging method to the feature space. Bagging or Bootstrap Aggregating, \n",
        "# consists of randomly sampling subsets of the training data, fitting a model to these smaller data sets, and aggregating the predictions. That is, instead of\n",
        "# searching greedily for the best predictors to create branches, it randomly samples elements of the predictor space, thus adding more diversity and reducing the \n",
        "# variance of the trees at the cost of equal or higher bias.\n",
        "#\n",
        "# In plain English, we model decision tree regressors off of subsets of our data that don't include all the variables. We might have a subset that's just square \n",
        "# footage, number of rooms, and number of exterior walls, for example. We have a LOT of different subsets we can take, and each one gets a tree. Then we decide \n",
        "# how much weight each tree should get (a tree that uses square footage and year built will be more important than a tree only using roof and the flooring data, \n",
        "# since square footage and year built are really important factors). Then, by combining weights of all of these little trees, we get our model (a forest!).\n",
        "# Again, Google is your friend.\n",
        "\n",
        "from sklearn.ensemble import RandomForestRegressor\n",
        "\n",
        "# model\n",
        "forest =  RandomForestRegressor()\n",
        "\n",
        "# train (residential first)\n",
        "forest.fit(residential_train_x, residential_train_y)\n",
        "\n",
        "# predict\n",
        "forest_predictions = forest.predict(residential_test_x)\n",
        "\n",
        "# This is our risk function, which converts the outputs of this regression into risk categories \n",
        "# low = 1, medium = 2, high = 3 (so if the regressor outputted a 0, we get 1, if it outputted 0.1, we get 2, and 0.4 would return 3)\n",
        "def risk_function(risk):\n",
        "  if risk < 0.25:\n",
        "    return 1\n",
        "  elif risk < 0.6:\n",
        "    return 2\n",
        "  else:\n",
        "    return 3\n",
        "  \n",
        "risk_predictions = pd.Series(forest_predictions).apply(risk_function)\n",
        "\n",
        "# show feature importances \n",
        "print(pd.DataFrame({'Importance': forest.feature_importances_}, index = residential_train_x.columns).sort_values('Importance', ascending = False))\n",
        "\n",
        "# Since we are using a regressor, a confusion matrix is useless. We're going to have to test the model ourselves.\n",
        "# This test predicts a fire for every single high risk house, then compares it to the actual data with a confusion matrix\n",
        "def high_risk_test(risk):\n",
        "  if risk == 3:\n",
        "    return 2\n",
        "  else:\n",
        "    return 0\n",
        "  \n",
        "fire_predictions = risk_predictions.apply(high_risk_test)\n",
        "\n",
        "confusion = pd.crosstab(residential_test_y, np.array(fire_predictions), rownames=['Actual'], colnames = ['Predicted:'], margins = True)\n",
        "print(\"\")\n",
        "print(\"Percentage of homes in the high risk category with fires: \" + str(confusion.iloc[1,1]/confusion.iloc[2,1]))\n",
        "\n",
        "def medium_risk_test(risk):\n",
        "  if risk == 2:\n",
        "    return 1\n",
        "  else:\n",
        "    return 0\n",
        "\n",
        "fire_predictions = risk_predictions.apply(medium_risk_test)\n",
        "confusion = pd.crosstab(residential_test_y, np.array(fire_predictions), rownames=['Actual'], colnames = ['Predicted:'], margins = True)\n",
        "print(\"Precentage of homes in the medium risk category with fires: \" + str(confusion.iloc[1,1]/confusion.iloc[2,1]))\n",
        "\n",
        "def low_risk_test(risk):\n",
        "  if risk == 1:\n",
        "    return 1\n",
        "  else:\n",
        "    return 0\n",
        "\n",
        "fire_predictions = risk_predictions.apply(low_risk_test)\n",
        "confusion = pd.crosstab(residential_test_y, np.array(fire_predictions), rownames=['Actual'], colnames = ['Predicted:'], margins = True)\n",
        "print(\"Precentage of homes in the low risk category with fires: \" + str(confusion.iloc[1,1]/confusion.iloc[2,1]))\n"
      ],
      "execution_count": 22,
      "outputs": [
        {
          "output_type": "stream",
          "text": [
            "                            Importance\n",
            "sq_footage_finished_living    0.217682\n",
            "year_built                    0.120668\n",
            "basement                      0.104528\n",
            "finished_basement             0.071770\n",
            "ext_walls                     0.063223\n",
            "use_type                      0.053938\n",
            "total_rooms                   0.053242\n",
            "grade                         0.039636\n",
            "heating                       0.037002\n",
            "bedrooms                      0.029496\n",
            "full_bathrooms                0.029058\n",
            "fireplace                     0.025246\n",
            "use_code                      0.024681\n",
            "roof                          0.023764\n",
            "half_bathrooms                0.022096\n",
            "bsmt_type                     0.021700\n",
            "flooring                      0.019979\n",
            "style                         0.016305\n",
            "no_of_stories                 0.014267\n",
            "basement_garage               0.011720\n",
            "\n",
            "Percentage of homes in the high risk category with fires: 0.8313253012048193\n",
            "Precentage of homes in the medium risk category with fires: 0.1281618887015177\n",
            "Precentage of homes in the low risk category with fires: 0.05048943843379701\n"
          ],
          "name": "stdout"
        }
      ]
    },
    {
      "metadata": {
        "id": "Tz6ezA2MnTUV",
        "colab_type": "text"
      },
      "cell_type": "markdown",
      "source": [
        "Next, we run the Random Forest Regressor on the commercial data. Even on just four variables our model for the commercial data worked extremely well--as you can see below, there are clear divisions between low medium and high risk. "
      ]
    },
    {
      "metadata": {
        "id": "btdWB23WI6tp",
        "colab_type": "code",
        "colab": {
          "autoexec": {
            "startup": false,
            "wait_interval": 0
          },
          "base_uri": "https://localhost:8080/",
          "height": 204
        },
        "outputId": "8d8df400-1356-44c9-94ea-87b182e28310",
        "executionInfo": {
          "status": "ok",
          "timestamp": 1530052282587,
          "user_tz": 240,
          "elapsed": 355,
          "user": {
            "displayName": "Jackson Barkstrom",
            "photoUrl": "//lh5.googleusercontent.com/-vVdnq6QxZKc/AAAAAAAAAAI/AAAAAAAAAC8/hz-Hu2YlLus/s50-c-k-no/photo.jpg",
            "userId": "100905809459765639952"
          }
        }
      },
      "cell_type": "code",
      "source": [
        "# model\n",
        "forest =  RandomForestRegressor()\n",
        "\n",
        "# train (residential first)\n",
        "forest.fit(commercial_train_x, commercial_train_y)\n",
        "\n",
        "# predict\n",
        "forest_predictions = forest.predict(commercial_test_x)\n",
        "\n",
        "# This is our risk function, which converts the outputs of this regression into risk categories \n",
        "# low = 1, medium = 2, high = 3 (so if the regressor outputted a 0, we get 1, if it outputted 0.1, we get 2, and 0.4 would return 3)\n",
        "def risk_function(risk):\n",
        "  if risk < 0.25:\n",
        "    return 1\n",
        "  elif risk < 0.6:\n",
        "    return 2\n",
        "  else:\n",
        "    return 3\n",
        "  \n",
        "risk_predictions = pd.Series(forest_predictions).apply(risk_function)\n",
        "\n",
        "# show feature importances \n",
        "print(pd.DataFrame({'Importance': forest.feature_importances_}, index = commercial_train_x.columns).sort_values('Importance', ascending = False))\n",
        "\n",
        "# Since we are using a regressor, a confusion matrix is useless. We're going to have to test the model ourselves.\n",
        "# This test predicts a fire for every single high risk house, then compares it to the actual data with a confusion matrix\n",
        "def high_risk_test(risk):\n",
        "  if risk == 3:\n",
        "    return 2\n",
        "  else:\n",
        "    return 0\n",
        "  \n",
        "fire_predictions = risk_predictions.apply(high_risk_test)\n",
        "\n",
        "confusion = pd.crosstab(commercial_test_y, np.array(fire_predictions), rownames=['Actual'], colnames = ['Predicted:'], margins = True)\n",
        "print(\"\")\n",
        "print(\"Percentage of homes in the high risk category with fires: \" + str(confusion.iloc[1,1]/confusion.iloc[2,1]))\n",
        "\n",
        "def medium_risk_test(risk):\n",
        "  if risk == 2:\n",
        "    return 1\n",
        "  else:\n",
        "    return 0\n",
        "\n",
        "fire_predictions = risk_predictions.apply(medium_risk_test)\n",
        "confusion = pd.crosstab(commercial_test_y, np.array(fire_predictions), rownames=['Actual'], colnames = ['Predicted:'], margins = True)\n",
        "print(\"Precentage of homes in the medium risk category with fires: \" + str(confusion.iloc[1,1]/confusion.iloc[2,1]))\n",
        "\n",
        "def low_risk_test(risk):\n",
        "  if risk == 1:\n",
        "    return 1\n",
        "  else:\n",
        "    return 0\n",
        "\n",
        "fire_predictions = risk_predictions.apply(low_risk_test)\n",
        "confusion = pd.crosstab(commercial_test_y, np.array(fire_predictions), rownames=['Actual'], colnames = ['Predicted:'], margins = True)\n",
        "print(\"Precentage of homes in the low risk category with fires: \" + str(confusion.iloc[1,1]/confusion.iloc[2,1]))\n",
        "\n"
      ],
      "execution_count": 23,
      "outputs": [
        {
          "output_type": "stream",
          "text": [
            "                   Importance\n",
            "gross_area           0.301499\n",
            "year_built           0.274220\n",
            "use_code             0.217621\n",
            "story_height         0.082327\n",
            "number_of_stories    0.079877\n",
            "use_type             0.044456\n",
            "\n",
            "Percentage of homes in the high risk category with fires: 0.8098159509202454\n",
            "Precentage of homes in the medium risk category with fires: 0.058333333333333334\n",
            "Precentage of homes in the low risk category with fires: 0.052313883299798795\n"
          ],
          "name": "stdout"
        }
      ]
    },
    {
      "metadata": {
        "id": "yF2tlfjY4BFq",
        "colab_type": "text"
      },
      "cell_type": "markdown",
      "source": [
        "## Outputting Our Results"
      ]
    },
    {
      "metadata": {
        "id": "B3NbJOXm4D9R",
        "colab_type": "text"
      },
      "cell_type": "markdown",
      "source": [
        "If you're just trying to look at our process, stop reading now. Hopefully this helped!\n",
        "\n",
        "We will output our results for residential data using the Random Forest Regressor, but we could use any regression model on either commercial or residential data with modification. Obviously, one would want to modify the train test split, play with cross validation, and optimize the training of a model as much as possible before outputting results.\n",
        "\n",
        "First, we calculate our risk values (based on our model that we've trained) and append the calculated risk value to our dataframe. Then, we change it to reflect risk categories (1,2, and 3 for low, medium, and high) which can be changed to include more categories if necessary. Then, we output the data for later use. "
      ]
    },
    {
      "metadata": {
        "id": "ZuSHCV9c57FR",
        "colab_type": "code",
        "colab": {
          "autoexec": {
            "startup": false,
            "wait_interval": 0
          },
          "base_uri": "https://localhost:8080/",
          "height": 273
        },
        "outputId": "1a927814-057e-40c2-f2eb-d83e3c1f7691",
        "executionInfo": {
          "status": "ok",
          "timestamp": 1529862699938,
          "user_tz": 240,
          "elapsed": 247,
          "user": {
            "displayName": "Jackson Barkstrom",
            "photoUrl": "//lh5.googleusercontent.com/-vVdnq6QxZKc/AAAAAAAAAAI/AAAAAAAAAC8/hz-Hu2YlLus/s50-c-k-no/photo.jpg",
            "userId": "100905809459765639952"
          }
        }
      },
      "cell_type": "code",
      "source": [
        "residential_cleaned_split.head()"
      ],
      "execution_count": 0,
      "outputs": [
        {
          "output_type": "execute_result",
          "data": {
            "text/html": [
              "<div>\n",
              "<style scoped>\n",
              "    .dataframe tbody tr th:only-of-type {\n",
              "        vertical-align: middle;\n",
              "    }\n",
              "\n",
              "    .dataframe tbody tr th {\n",
              "        vertical-align: top;\n",
              "    }\n",
              "\n",
              "    .dataframe thead th {\n",
              "        text-align: right;\n",
              "    }\n",
              "</style>\n",
              "<table border=\"1\" class=\"dataframe\">\n",
              "  <thead>\n",
              "    <tr style=\"text-align: right;\">\n",
              "      <th></th>\n",
              "      <th>use_type</th>\n",
              "      <th>use_code</th>\n",
              "      <th>style</th>\n",
              "      <th>grade</th>\n",
              "      <th>ext_walls</th>\n",
              "      <th>roof</th>\n",
              "      <th>flooring</th>\n",
              "      <th>bsmt_type</th>\n",
              "      <th>heating</th>\n",
              "      <th>fireplace</th>\n",
              "      <th>...</th>\n",
              "      <th>no_of_stories</th>\n",
              "      <th>total_rooms</th>\n",
              "      <th>bedrooms</th>\n",
              "      <th>half_bathrooms</th>\n",
              "      <th>full_bathrooms</th>\n",
              "      <th>basement_garage</th>\n",
              "      <th>sq_footage_finished_living</th>\n",
              "      <th>basement</th>\n",
              "      <th>finished_basement</th>\n",
              "      <th>Fire_final</th>\n",
              "    </tr>\n",
              "  </thead>\n",
              "  <tbody>\n",
              "    <tr>\n",
              "      <th>0</th>\n",
              "      <td>1</td>\n",
              "      <td>15</td>\n",
              "      <td>2.0</td>\n",
              "      <td>6</td>\n",
              "      <td>1</td>\n",
              "      <td>9</td>\n",
              "      <td>6</td>\n",
              "      <td>4</td>\n",
              "      <td>6</td>\n",
              "      <td>1.0</td>\n",
              "      <td>...</td>\n",
              "      <td>2.0</td>\n",
              "      <td>9.0</td>\n",
              "      <td>5.0</td>\n",
              "      <td>1.0</td>\n",
              "      <td>3.0</td>\n",
              "      <td>0.0</td>\n",
              "      <td>1388.0</td>\n",
              "      <td>694.0</td>\n",
              "      <td>694.0</td>\n",
              "      <td>0.0</td>\n",
              "    </tr>\n",
              "    <tr>\n",
              "      <th>1</th>\n",
              "      <td>3</td>\n",
              "      <td>39</td>\n",
              "      <td>1.0</td>\n",
              "      <td>11</td>\n",
              "      <td>23</td>\n",
              "      <td>9</td>\n",
              "      <td>2</td>\n",
              "      <td>4</td>\n",
              "      <td>3</td>\n",
              "      <td>0.0</td>\n",
              "      <td>...</td>\n",
              "      <td>1.0</td>\n",
              "      <td>5.0</td>\n",
              "      <td>2.0</td>\n",
              "      <td>0.0</td>\n",
              "      <td>2.0</td>\n",
              "      <td>0.0</td>\n",
              "      <td>1020.0</td>\n",
              "      <td>1020.0</td>\n",
              "      <td>500.0</td>\n",
              "      <td>0.0</td>\n",
              "    </tr>\n",
              "    <tr>\n",
              "      <th>2</th>\n",
              "      <td>3</td>\n",
              "      <td>39</td>\n",
              "      <td>1.0</td>\n",
              "      <td>11</td>\n",
              "      <td>23</td>\n",
              "      <td>9</td>\n",
              "      <td>2</td>\n",
              "      <td>3</td>\n",
              "      <td>3</td>\n",
              "      <td>0.0</td>\n",
              "      <td>...</td>\n",
              "      <td>1.0</td>\n",
              "      <td>5.0</td>\n",
              "      <td>3.0</td>\n",
              "      <td>0.0</td>\n",
              "      <td>1.0</td>\n",
              "      <td>0.0</td>\n",
              "      <td>925.0</td>\n",
              "      <td>250.0</td>\n",
              "      <td>0.0</td>\n",
              "      <td>0.0</td>\n",
              "    </tr>\n",
              "    <tr>\n",
              "      <th>3</th>\n",
              "      <td>3</td>\n",
              "      <td>39</td>\n",
              "      <td>1.5</td>\n",
              "      <td>11</td>\n",
              "      <td>21</td>\n",
              "      <td>9</td>\n",
              "      <td>2</td>\n",
              "      <td>5</td>\n",
              "      <td>2</td>\n",
              "      <td>0.0</td>\n",
              "      <td>...</td>\n",
              "      <td>1.5</td>\n",
              "      <td>8.0</td>\n",
              "      <td>5.0</td>\n",
              "      <td>0.0</td>\n",
              "      <td>1.0</td>\n",
              "      <td>0.0</td>\n",
              "      <td>1491.0</td>\n",
              "      <td>0.0</td>\n",
              "      <td>0.0</td>\n",
              "      <td>0.0</td>\n",
              "    </tr>\n",
              "    <tr>\n",
              "      <th>4</th>\n",
              "      <td>3</td>\n",
              "      <td>41</td>\n",
              "      <td>1.0</td>\n",
              "      <td>11</td>\n",
              "      <td>24</td>\n",
              "      <td>9</td>\n",
              "      <td>2</td>\n",
              "      <td>4</td>\n",
              "      <td>3</td>\n",
              "      <td>0.0</td>\n",
              "      <td>...</td>\n",
              "      <td>1.0</td>\n",
              "      <td>7.0</td>\n",
              "      <td>3.0</td>\n",
              "      <td>0.0</td>\n",
              "      <td>2.0</td>\n",
              "      <td>0.0</td>\n",
              "      <td>878.0</td>\n",
              "      <td>878.0</td>\n",
              "      <td>439.0</td>\n",
              "      <td>0.0</td>\n",
              "    </tr>\n",
              "  </tbody>\n",
              "</table>\n",
              "<p>5 rows × 21 columns</p>\n",
              "</div>"
            ],
            "text/plain": [
              "   use_type  use_code  style  grade  ext_walls  roof  flooring  bsmt_type  \\\n",
              "0         1        15    2.0      6          1     9         6          4   \n",
              "1         3        39    1.0     11         23     9         2          4   \n",
              "2         3        39    1.0     11         23     9         2          3   \n",
              "3         3        39    1.5     11         21     9         2          5   \n",
              "4         3        41    1.0     11         24     9         2          4   \n",
              "\n",
              "   heating  fireplace     ...      no_of_stories  total_rooms  bedrooms  \\\n",
              "0        6        1.0     ...                2.0          9.0       5.0   \n",
              "1        3        0.0     ...                1.0          5.0       2.0   \n",
              "2        3        0.0     ...                1.0          5.0       3.0   \n",
              "3        2        0.0     ...                1.5          8.0       5.0   \n",
              "4        3        0.0     ...                1.0          7.0       3.0   \n",
              "\n",
              "   half_bathrooms  full_bathrooms  basement_garage  \\\n",
              "0             1.0             3.0              0.0   \n",
              "1             0.0             2.0              0.0   \n",
              "2             0.0             1.0              0.0   \n",
              "3             0.0             1.0              0.0   \n",
              "4             0.0             2.0              0.0   \n",
              "\n",
              "   sq_footage_finished_living  basement  finished_basement  Fire_final  \n",
              "0                      1388.0     694.0              694.0         0.0  \n",
              "1                      1020.0    1020.0              500.0         0.0  \n",
              "2                       925.0     250.0                0.0         0.0  \n",
              "3                      1491.0       0.0                0.0         0.0  \n",
              "4                       878.0     878.0              439.0         0.0  \n",
              "\n",
              "[5 rows x 21 columns]"
            ]
          },
          "metadata": {
            "tags": []
          },
          "execution_count": 147
        }
      ]
    },
    {
      "metadata": {
        "id": "-nfWxty13r-B",
        "colab_type": "code",
        "colab": {
          "autoexec": {
            "startup": false,
            "wait_interval": 0
          }
        }
      },
      "cell_type": "code",
      "source": [
        "# The word \"forest\" in the first and second lines can be changed to match whatever regression model we are using (in this case it's the random forest regressor), \n",
        "# and we used the word forest to designate our model. If we want to output predictions for the commercial data, replace the word \"residential\" with the word \n",
        "# \"commercial\" in the code below.\n",
        "\n",
        "forest_predictions = pd.Series(forest.predict(commercial_cleaned_split.drop([\"Fire_final\"],1)))\n",
        "commercial[\"Detailed Risk\"] = forest_predictions\n",
        "risk_predictions = forest_predictions.apply(risk_function)\n",
        "commercial[\"Risk Level\"] = risk_predictions\n",
        "\n",
        "predictions = commercial[[\"lat\", \"lon\", \"Address\", \"Fire_final\", \"Detailed Risk\"]]"
      ],
      "execution_count": 0,
      "outputs": []
    },
    {
      "metadata": {
        "id": "PffzQPHT-Xq7",
        "colab_type": "code",
        "colab": {
          "autoexec": {
            "startup": false,
            "wait_interval": 0
          },
          "base_uri": "https://localhost:8080/",
          "height": 17
        },
        "outputId": "9f2c2a73-4013-4b00-b306-ddd1e097fde2",
        "executionInfo": {
          "status": "ok",
          "timestamp": 1529862919529,
          "user_tz": 240,
          "elapsed": 524,
          "user": {
            "displayName": "Jackson Barkstrom",
            "photoUrl": "//lh5.googleusercontent.com/-vVdnq6QxZKc/AAAAAAAAAAI/AAAAAAAAAC8/hz-Hu2YlLus/s50-c-k-no/photo.jpg",
            "userId": "100905809459765639952"
          }
        }
      },
      "cell_type": "code",
      "source": [
        "# This is how to output/download a csv from collaboratory\n",
        "# Forces a download when ran\n",
        "\n",
        "from IPython.display import Javascript\n",
        "js_download = \"\"\"\n",
        "var csv = '%s';\n",
        "\n",
        "var filename = 'predictions.csv';\n",
        "var blob = new Blob([csv], { type: 'text/csv;charset=utf-8;' });\n",
        "if (navigator.msSaveBlob) { // IE 10+\n",
        "    navigator.msSaveBlob(blob, filename);\n",
        "} else {\n",
        "    var link = document.createElement(\"a\");\n",
        "    if (link.download !== undefined) { // feature detection\n",
        "        // Browsers that support HTML5 download attribute\n",
        "        var url = URL.createObjectURL(blob);\n",
        "        link.setAttribute(\"href\", url);\n",
        "        link.setAttribute(\"download\", filename);\n",
        "        link.style.visibility = 'hidden';\n",
        "        document.body.appendChild(link);\n",
        "        link.click();\n",
        "        document.body.removeChild(link);\n",
        "    }\n",
        "}\n",
        "\"\"\" % predictions.to_csv(index=False).replace('\\n','\\\\n').replace(\"'\",\"\\'\")\n",
        "\n",
        "Javascript(js_download)"
      ],
      "execution_count": 0,
      "outputs": [
        {
          "output_type": "execute_result",
          "data": {
            "application/javascript": [
              "\n",
              "var csv = 'lat,lon,Address,Fire_final,Detailed Risk\\n38.0306367,-78.47063729999998,402 11TH ST,0.0,0.0\\n38.063599,-78.48892,243 ZAN RD,0.0,0.0\\n38.02720745,-78.50384857498591,117 NORTH BAKER ST,0.0,0.0\\n38.03478405,-78.48804059525641,702 WEST ST,0.0,0.1\\n38.0340615,-78.4898759,302 8TH ST,0.0,0.1\\n38.040634000000004,-78.47008829999999,607 WATSON AVE,0.0,0.0\\n38.0406176926374,-78.47054225856479,623 WATSON AVE,0.0,0.1\\n38.025881,-78.4605605,1502 SHORT 18TH ST,0.0,0.25\\n38.0339174,-78.47250820000002,519 LEXINGTON AVE,0.0,0.1\\n38.017324,-78.484605,1453 AVON ST,0.0,0.2\\n38.0362217,-78.4749724,632 PARK ST,0.0,0.0\\n38.0352971,-78.4749058,616 PARK ST,0.0,0.0\\n38.03513,-78.47572,611 PARK ST,0.0,0.0\\n38.0349939,-78.4747282,614 PARK ST,0.0,0.0\\n38.0337365392136,-78.4761936627322,532 PARK ST,0.0,0.05\\n38.03425,-78.47479899999998,620 FARISH ST,0.0,0.0\\n38.04418920000001,-78.46664709999997,1011 COTTONWOOD RD,1.0,0.4\\n38.0512745,-78.4945728,1310 BLUE RIDGE RD,0.0,0.3\\n38.0154809,-78.5050495583517,402 HARRIS RD,0.0,0.3333333333333333\\n38.021495,-78.51653999999998,2421 JEFFERSON PARK AVE,0.0,0.1\\n38.021448,-78.5131045,111 HAMMOND ST,0.0,0.2\\n38.0410604,-78.47819840000003,1717 ALLIED ST,0.0,0.2\\n38.0288473,-78.47301879999998,210 10TH ST,0.0,0.4280952380952381\\n38.0288473,-78.47301879999998,210 10TH ST,0.0,0.0\\n38.022176400000006,-78.51516889999998,2417 JEFFERSON PARK AVE,0.0,0.0\\n38.021448,-78.5131045,111 HAMMOND ST,0.0,0.1\\n38.0400502,-78.48831380000001,925 HENRY AVE,0.0,0.0\\n38.0400502,-78.48831380000001,925 HENRY AVE,0.0,0.0\\n38.041910200000004,-78.5018541,44 UNIVERSITY CIR,0.0,0.0\\n38.0385527,-78.50021269999998,1534 VIRGINIA AVE,0.0,0.2\\n38.0310732,-78.471598,400 10TH ST,0.0,0.0\\n38.0432498333333,-78.4942101666667,821 CABELL AVE,0.0,0.0\\n38.039718,-78.4845402,802 CYNTHIANNA AVE,0.0,0.0\\n38.039718,-78.4845402,802 CYNTHIANNA AVE,0.0,0.0\\n38.0304142,-78.4872613,416 MAIN ST,0.0,0.0\\n38.0231248,-78.47215244851448,1102 LEONARD ST,0.0,0.0\\n38.02800310000001,-78.51135190000002,1821 JEFFERSON PARK AVE,0.0,0.0\\n38.042313899999996,-78.4617181,1033 LOCUST AVE,0.0,0.1\\n38.033823100000006,-78.47939020000003,415 2ND ST,0.0,0.0\\n38.04743765,-78.487678841603,1608 OXFORD RD,0.0,0.1\\n38.026771979288995,-78.4620708561356,1413 SHORT 18TH ST,0.0,0.4\\n38.0570641,-78.501143,1243 CEDARS CT,0.0,0.9\\n39.78818,-85.612594,440 2ND ST,0.0,0.2\\n38.0331434,-78.4749946,508 7TH ST,0.0,0.0\\n38.0241316,-78.462823,1518 MARKET ST,0.0,0.0\\n38.041750819652904,-78.49346935485741,762 MADISON AVE,0.0,0.0\\n38.0635625,-78.49301949999997,1924 SWANSON DR,0.0,0.0\\n38.039998,-78.487985,921 HENRY AVE,0.0,0.1\\n38.0360726,-78.49973472559671,604 15TH ST,0.0,0.0\\n38.0256935,-78.47418799796421,216 DOUGLAS AVE,0.0,0.0\\n38.02612915,-78.5101460428512,205 SHAMROCK RD,0.0,0.0\\n38.01648145,-78.5178813572853,2709 ETON RD,0.0,0.0\\n38.0224873,-78.52190109107059,235 STRIBLING AVE,0.0,0.3\\n38.02363755,-78.51379410120009,111 RAYMOND AVE,0.0,0.1\\n38.0356851,-78.49190752186401,911 PAOLI ST,0.0,0.0\\n38.04172003744,-78.4941360655278,728 MADISON AVE,0.0,0.0\\n38.0413468,-78.49361640000002,726 MADISON AVE,0.0,0.0\\n38.0429573,-78.50018859999999,611 RUGBY RD,0.0,0.0\\n38.02193585,-78.51830440118509,2411 SUNSET RD,0.0,0.0\\n38.02328715,-78.5139559764891,108 RAYMOND AVE,0.0,0.0\\n38.028643,-78.5090309,1800 JEFFERSON PARK AVE,0.0,0.1\\n38.0149785,-78.5150053735045,230 OLD LYNCHBURG RD,0.0,0.0\\n38.03790479999999,-78.4612741,1217 RIVER VISTA AVE,0.0,0.2\\n38.0382152817247,-78.4622404691273,1219 RIVER VISTA AVE,0.0,0.0\\n38.04837984693879,-78.5045045714286,1932 ARLINGTON BLVD,0.0,0.0\\n38.0599894,-78.49503940000002,2114 ANGUS RD,0.0,0.0\\n38.04827890000001,-78.50553740000002,1932 ARLINGTON BLVD,0.0,0.1\\n38.0304189,-78.47859100000002,406 MARKET ST,0.0,0.1\\n38.02693,-78.51151312647892,1904 JEFFERSON PARK AVE,0.0,0.1\\n38.0235910165687,-78.4616574620483,131 FRANKLIN ST,0.0,0.0\\n38.0236579,-78.4906741632787,719 RIDGE ST,0.0,0.0\\n38.0279118,-78.4984352,1018 CHERRY AVE,0.0,0.0\\n38.0439227,-78.4693113,600 WILDER DR,0.0,0.0\\n38.02255185,-78.51673435,128 STRIBLING AVE,0.0,0.0\\n38.0235723,-78.51734590000002,127 STRIBLING AVE,0.0,0.0\\n38.03364970000001,-78.48258679999998,400 HIGH ST,0.0,0.0\\n38.0295756,-78.4834747,208 SOUTH ST,0.0,0.1\\n38.0295756,-78.4834747,208 SOUTH ST,0.0,0.1\\n38.05092,-78.50729059999998,2401 ARLINGTON BLVD,0.0,0.0\\n38.05092,-78.50729059999998,2401 ARLINGTON BLVD,0.0,0.0\\n38.05092,-78.50729059999998,2401 ARLINGTON BLVD,0.0,0.4\\n38.05092,-78.50729059999998,2401 ARLINGTON BLVD,0.0,0.2\\n38.05028445808379,-78.50729508634541,2401 ARLINGTON BLVD,0.0,0.0\\n38.05092,-78.50729059999998,2401 ARLINGTON BLVD,0.0,0.0\\n38.05092,-78.50729059999998,2401 ARLINGTON BLVD,0.0,0.2\\n38.0256093,-78.51184690000002,2114 HILL ST,0.0,0.0\\n38.0321842,-78.478702,310 4TH ST,0.0,0.0\\n38.0298931,-78.472042,1011 JEFFERSON ST,0.0,0.0\\n38.0340472,-78.4787686,440 2ND ST,0.0,0.0\\n0.0,0.0,100 SOUTH ST,0.0,0.0\\n38.045075399999995,-78.5036803,136 UNIVERSITY GDNS,0.0,0.0\\n38.040591299999996,-78.498746,507 16TH ST,0.0,0.0\\n38.0241316,-78.462823,1518 MARKET ST,0.0,0.0\\n38.0241316,-78.462823,1518 MARKET ST,0.0,0.1\\n38.041356799999996,-78.49384649999998,714 MADISON AVE,0.0,0.0\\n38.0181061,-78.51312880100299,2603 JEFFERSON PARK AVE,0.0,0.0\\n38.06322370000001,-78.49334879999998,1920 SWANSON DR,0.0,0.0\\n38.06322370000001,-78.49334879999998,1920 SWANSON DR,0.0,0.0\\n38.059051906765596,-78.4891141581896,1718 HYDRAULIC RD,0.0,0.0\\n38.06322370000001,-78.49334879999998,1920 SWANSON DR,0.0,0.0\\n38.021361,-78.48679200000002,900 1ST ST,1.0,0.0\\n38.04351030000001,-78.4556788,1115 RIVER CT,0.0,0.0\\n38.0360726,-78.49973472559671,604 15TH ST,0.0,0.0\\n38.0626715550489,-78.49668038532491,2302 NORTH BERKSHIRE RD,0.0,0.0\\n38.0317403,-78.48190140000001,1117 MARKET ST,0.0,0.0\\n38.0629536,-78.4967128,2302 NORTH BERKSHIRE RD,0.0,0.4\\n0.0,0.0,313 13TH ST,0.0,0.2\\n0.0,0.0,313 13TH ST,0.0,0.0\\n0.0,0.0,313 13TH ST,0.0,0.3\\n38.022906799999994,-78.5200952,213 STRIBLING AVE,0.0,0.0\\n38.0441967,-78.4671355,1012 ASHBY PL,0.0,0.0\\n38.04411500000001,-78.467506,1010 ASHBY PL,0.0,0.0\\n38.04426595918369,-78.4660506326531,702 DELL LN,0.0,0.0\\n38.0604007405818,-78.4867794858263,2111 MICHIE DR,0.0,0.0\\n38.0228845,-78.5206085,219 STRIBLING AVE,0.0,0.1\\n38.0386862,-78.4909481,1104 GRADY AVE,0.0,0.0\\n38.0404404,-78.4923647,1011 PRESTON AVE,0.0,0.1\\n38.0408927181372,-78.4922876195021,1011 PRESTON AVE,0.0,0.1\\n38.01989615,-78.469686141812,1313 HAMPTON ST,0.0,0.0\\n38.01954105,-78.46992235,1314 HAMPTON ST,0.0,0.1\\n38.0564456,-78.47219740000001,1312 CARTER LN,0.0,0.0\\n38.056089799999995,-78.471487,1306 CARTER LN,0.0,0.0\\n38.055606,-78.472792,1323 KENWOOD LN,0.0,0.1\\n38.0557859,-78.4700661,1302 KENWOOD LN,0.0,0.1\\n38.055443,-78.47282299999998,1324 KENWOOD LN,0.0,0.0\\n38.034175918367296,-78.4654534081633,806 VALLEY VIEW CIR,0.0,0.35\\n38.01506285,-78.4809116051928,907 ROUGEMONT AVE,0.0,0.2\\n38.025292,-78.454298,330 RIVERSIDE AVE,1.0,0.35\\n38.025292,-78.454298,330 RIVERSIDE AVE,1.0,0.35\\n38.03374685,-78.48078640311171,407 ALTAMONT CIR,0.0,0.2\\n38.0303887480794,-78.4635880666929,525 CAROLINE AVE,0.0,0.0\\n38.0307634852456,-78.4644504757209,526 MEADE AVE,1.0,0.6\\n38.0309344,-78.4634063,519 CAROLINE AVE,0.0,0.2\\n38.017503999999995,-78.48390699999999,1394 AVON ST,0.0,0.0\\n38.017225117150396,-78.4718598182286,949 RIVES ST,0.0,0.0\\n38.0208473,-78.47650420000002,906 BLENHEIM AVE,0.0,0.0\\n38.03704889999999,-78.47570499999998,705 PARK ST,0.0,0.1\\n38.03623740000001,-78.47574940000001,627 PARK ST,0.0,0.0\\n38.03479799999999,-78.475207,540 PARK ST,0.0,0.0\\n38.023876,-78.49526399999998,721 PROSPECT AVE,0.0,0.0\\n38.020832399999996,-78.4961713,614 BAILEY RD,0.0,0.0\\n0.0,0.0,105 4TH ST,0.0,0.25\\n38.0261152,-78.45614499999998,329 RIVERSIDE AVE,1.0,0.4\\n38.063294299999995,-78.47175340000003,2003 GREENBRIER DR,0.0,0.3\\n38.0425036,-78.49288309999999,1129 PRESTON AVE,0.0,0.0\\n38.0306367,-78.47063729999998,402 11TH ST,0.0,0.0\\n38.0306706,-78.49195540000002,775 WALKER SQ,0.0,0.3\\n38.0306706,-78.49195540000002,775 WALKER SQ,0.0,0.0\\n38.03090565,-78.49143595,755 WALKER SQ,0.0,0.0\\n38.0306498,-78.4925073,725 WALKER SQ,0.0,0.0\\n38.0306498,-78.4925073,755 WALKER SQ,0.0,0.0\\n38.0306498,-78.4925073,760 WALKER SQ,0.0,0.0\\n38.0306498,-78.4925073,770 WALKER SQ,0.0,0.0\\n38.0306498,-78.4925073,725 WALKER SQ,0.0,0.0\\n38.030501306122396,-78.4906468163265,735 WALKER SQ,0.0,0.0\\n38.0276641,-78.4784598,310 AVON ST,0.0,0.2\\n38.03654235,-78.483231747869,770 HARRIS ST,0.0,0.0\\n38.0442222,-78.513397,2171 IVY RD,0.0,0.0\\n0.0,0.0,410 WATER ST,0.0,0.1\\n38.023259,-78.48571299999998,500 1ST ST,1.0,0.5\\n38.03631890000001,-78.48350760000002,750 HARRIS ST,1.0,0.8\\n38.0278812,-78.47170899999998,1110 MARKET ST,0.0,0.0\\n38.033823100000006,-78.47939020000003,415 2ND ST,0.0,0.0\\n38.0317403,-78.48190140000001,1122 MARKET ST,0.0,0.2\\n38.02396359999999,-78.5225361,104 MORRIS PAUL CT,0.0,0.1\\n38.02977050000001,-78.47925699999998,400 MAIN ST,0.0,0.0\\n38.0330199,-78.48385209999998,300 PRESTON AVE,0.0,0.0\\n38.0637206569225,-78.47493845809771,1920 GREENBRIER DR,0.0,0.0\\n38.0633631304471,-78.4693919500873,2210 GREENBRIER DR,0.0,0.0\\n38.021361,-78.48679200000002,511 1ST ST,1.0,0.0\\n38.021361,-78.48679200000002,511 1ST ST,1.0,0.6\\n38.0626005771826,-78.4759837482398,1815 YORKTOWN DR,0.0,0.1\\n38.0625583521462,-78.4758923501669,1813 YORKTOWN DR,0.0,0.0\\n38.02102120000001,-78.4985321957778,821 ORANGEDALE AVE,0.0,0.7\\n38.02119165,-78.49588265,613 BAILEY RD,0.0,0.0\\n38.022864,-78.49649699999998,742 ORANGEDALE AVE,1.0,0.7\\n38.022864,-78.49649699999998,742 ORANGEDALE AVE,1.0,0.7\\n38.0236941,-78.4958414526531,720 ORANGEDALE AVE,0.0,0.0\\n38.0239604,-78.4704513518282,308 CHESTNUT ST,0.0,0.0\\n38.0238204,-78.4797454,709 AVON ST,0.0,0.0\\n38.0232469,-78.47222925,1100 LEONARD ST,0.0,0.0\\n38.01629525,-78.5083519897244,2611 WILLARD DR,0.0,0.0\\n38.0160417,-78.5052509895928,309 HARRIS RD,0.0,0.0\\n38.0586866,-78.4787686,1613 KENWOOD LN,0.0,0.1\\n38.0195113,-78.4829238108032,1302 AVON ST,0.0,0.0\\n38.0301859,-78.4781804,106 5TH ST,0.0,0.0\\n38.0159118,-78.50679129999997,210 HARRIS RD,0.0,0.0\\n38.019723,-78.50741500000002,711 RAINIER RD,0.0,0.0\\n38.0156895,-78.509399,113 HARRIS RD,0.0,0.0\\n38.05363970000001,-78.5020709,1137 MILLMONT ST,0.0,0.0\\n38.023347799999996,-78.4786798,711 BOLLING AVE,0.0,0.05\\n0.0,0.0,107 4TH ST,0.0,0.0\\n38.0447049577347,-78.492956948002,1129 PRESTON AVE,0.0,0.15\\n38.0317403,-78.48190140000001,412 MARKET ST,0.0,0.1\\n38.0306193,-78.4784609,410 MARKET ST,0.0,0.0\\n38.02946499999999,-78.48042099999998,216 WATER ST,0.0,0.3\\n0.0,0.0,216 WATER ST,0.0,0.0\\n38.02058665,-78.50060690000002,102 ANTOINETTE CT,0.0,0.0\\n38.02710070000001,-78.5100647,121 CARROLLTON TER,0.0,0.0\\n38.043867299999995,-78.467413,1008 ASHBY PL,0.0,0.0\\n38.043816899999996,-78.46535940000003,1008 GLENDALE RD,0.0,0.0\\n38.0392223,-78.45885,1223 COLEMAN CT,0.0,0.3\\n38.0396529,-78.4588823,1226 COLEMAN CT,0.0,0.0\\n38.039492700000004,-78.45864209999998,1224 COLEMAN CT,0.0,0.1\\n38.039492700000004,-78.45864209999998,1224 COLEMAN CT,0.0,0.0\\n38.016421,-78.50050300000002,530 CLEVELAND AVE,0.0,0.0\\n38.020263899999996,-78.5135711,112 CLEVELAND AVE,0.0,0.0\\n38.041089,-78.494006,704 MADISON AVE,0.0,0.0\\n38.0411592263252,-78.49521719960859,704 MADISON AVE,0.0,0.0\\n38.0266214464406,-78.4621707836345,1412 SHORT 18TH ST,0.0,0.1\\n38.050706700000006,-78.4925312,1203 HILLTOP RD,0.0,0.0\\n38.0286499,-78.479479,300 4TH ST,0.0,0.0\\n38.041441799999994,-78.46152109999998,1024 LOCUST AVE,0.0,0.0\\n38.0409800264039,-78.462566733079,1024 LOCUST AVE,0.0,0.1\\n38.023178,-78.519357,155 STRIBLING AVE,0.0,0.1\\n38.0236244,-78.51374859999999,111 RAYMOND AVE,0.0,0.0\\n38.03102370000001,-78.50413409999999,417 BRANDON AVE,0.0,0.1\\n38.031143372093,-78.5040440930233,417 BRANDON AVE,0.0,0.0\\n38.0311365581395,-78.5040461395349,419 BRANDON AVE,0.0,0.04\\n38.03654235,-78.483231747869,770 HARRIS ST,0.0,0.13999999999999999\\n0.0,0.0,704 12TH ST,0.0,0.628095238095238\\n38.0295332,-78.51165414362559,108 DUNOVA CT,0.0,0.2\\n38.0295276,-78.5123283,120 DUNOVA CT,0.0,0.0\\n38.018567499999996,-78.5187194,236 SUNSET AVE,0.0,0.0\\n38.0129743,-78.50630699999998,122 LONGWOOD DR,0.0,0.0\\n38.014034499999994,-78.5054486,108 LONGWOOD DR,0.0,0.0\\n38.0163189,-78.51199375,2707 JEFFERSON PARK AVE,0.0,0.1\\n38.03606926134079,-78.465752336888,827 ST CLAIR AVE,0.0,0.0\\n0.0,0.0,312 10 1/2 ST,0.0,0.0\\n38.0145131,-78.5057634310345,107 LONGWOOD DR,0.0,0.0\\n38.0143599,-78.50587106448509,109 LONGWOOD DR,0.0,0.0\\n38.04286310000001,-78.49318009999998,1111 PRESTON AVE,0.0,0.0\\n38.0302767,-78.4793122,321 MAIN ST,0.0,0.0\\n38.0444702082032,-78.4929475973917,1111 PRESTON AVE,0.0,0.1\\n38.03459829999999,-78.49734769999998,1215 WERTLAND ST,0.0,0.2\\n38.03459829999999,-78.49734769999998,1215 WERTLAND ST,0.0,0.1\\n38.0410947,-78.4781292,1709 ALLIED ST,0.0,0.0\\n38.03844875,-78.4824112562291,925 HARRIS ST,0.0,0.025\\n38.028743,-78.4746751,701 WATER ST,0.0,0.0\\n38.0495865559274,-78.5066652453331,2106 ARLINGTON BLVD,0.0,0.0\\n38.0228451,-78.4826756,921 6TH ST,0.0,0.0\\n38.038392200000004,-78.4975474,443 14TH ST,0.0,0.0\\n38.0596861707317,-78.4957332195122,2118 ANGUS RD,0.0,0.0\\n38.043206,-78.494313,814 CABELL AVE,0.0,0.0\\n38.0432354,-78.4944936,814 CABELL AVE,0.0,0.0\\n38.0432354,-78.4944936,814 CABELL AVE,0.0,0.0\\n38.02772145,-78.5107516520745,101 CARROLLTON TER,0.0,0.0\\n38.0206509,-78.4683344,607 RIVES ST,0.0,0.0\\n38.0242991,-78.4994562,1416 BRIARCLIFF AVE,0.0,0.0\\n38.0442222,-78.513397,2171 IVY RD,0.0,0.1\\n38.0442843,-78.5134524,2171 IVY RD,0.0,0.1\\n38.0303769,-78.48180649999998,107 1ST ST,0.0,0.0\\n38.0291881,-78.4795434,400 WATER ST,0.0,0.0\\n38.029001,-78.479259,410 WATER ST,0.0,0.0\\n38.059051906765596,-78.4891141581896,1718 HYDRAULIC RD,0.0,0.0\\n38.021361,-78.48679200000002,500 1ST ST,1.0,0.6\\n38.023259,-78.48571299999998,500 1ST ST,1.0,0.5\\n38.0371284,-78.4583938,1313 BELLEVIEW AVE,0.0,0.1\\n38.0371284,-78.4583938,1313 BELLEVIEW AVE,0.0,0.3\\n38.0330199,-78.48385209999998,300 PRESTON AVE,0.0,0.04\\n38.03631890000001,-78.48350760000002,750 HARRIS ST,1.0,0.6\\n38.039665,-78.465985,912 ST CHARLES AVE,0.0,0.0\\n38.0294094,-78.51113000000002,1810 CHELSEA DR,0.0,0.0\\n38.01788,-78.51313499999998,2607 JEFFERSON PARK AVE,0.0,0.0\\n38.016262,-78.511208,2716 JEFFERSON PARK AVE,0.0,0.0\\n38.037748799999996,-78.47370699999998,709 CARGIL LN,0.0,0.0\\n38.0247631,-78.5102047,2226 CENTER AVE,0.0,0.0\\n38.0244198,-78.5052267,1509 CHERRY AVE,0.0,0.0\\n38.038349033557,-78.4941733221476,1101 GORDON AVE,0.0,0.0\\n38.024386299999996,-78.50571490000002,1513 CHERRY AVE,0.0,0.0\\n38.0197781,-78.46611419999998,1506 MIDLAND ST,0.0,0.0\\n38.0195899,-78.4683344,1402 VINE ST,0.0,0.0\\n38.0166903,-78.483164,714 PALATINE AVE,0.0,0.0\\n38.0162242,-78.48010049999998,906 ROCKLAND AVE,0.0,0.3\\n38.01554505,-78.4777314956681,415 QUARRY RD,1.0,1.0\\n38.01554505,-78.4777314956681,415 QUARRY RD,1.0,1.0\\n38.0258793242975,-78.4744075642377,231 DOUGLAS AVE,0.0,0.1\\n38.02761485,-78.4944503173874,717 ELM ST,0.0,0.1\\n38.06289900000001,-78.46611419999998,2236 BANBURY ST,0.0,0.0\\n38.06281060000001,-78.4668691,2231 BANBURY ST,0.0,0.0\\n38.0607846834759,-78.4678572231243,2223 BANBURY ST,0.0,0.0\\n38.02395900000001,-78.472335,1316 CARLTON AVE,0.0,0.2\\n38.0613124,-78.4678016,2215 BANBURY ST,1.0,0.0\\n38.0495846903104,-78.4912620478413,1309 RUGBY RD,0.0,0.0\\n38.02078615,-78.50781623525991,910 RAINIER RD,0.0,0.0\\n38.03848635,-78.485026459622,908 FOREST ST,0.0,0.0\\n38.0308932,-78.4747793431331,813 JEFFERSON ST,0.0,0.0\\n38.027812,-78.4677128,1214 JEFFERSON ST,0.0,0.0\\n38.03976769194061,-78.4662368132733,912 ST CHARLES AVE,0.0,0.1\\n38.0358435,-78.5004675,5 ELLIEWOOD AVE,0.0,0.0\\n38.036849048103214,-78.50953870443871,1920 THOMSON RD,0.0,0.0\\n38.0354023587267,-78.5007038443875,11 ELLIEWOOD AVE,0.0,0.0\\n38.0353629255725,-78.500752406388,3 ELLIEWOOD AVE,0.0,0.0\\n38.02102995,-78.50006405,105 ANTOINETTE CT,0.0,0.0\\n38.020376899999995,-78.4994118,1508 ANTOINETTE AVE,0.0,0.0\\n38.0364284361673,-78.4622223036096,1204 LANDONIA CIR,0.0,0.05\\n38.02823739999999,-78.49057789999998,333 6TH ST,0.0,0.0\\n38.027488700000006,-78.5016848381538,1305 NUNLEY ST,0.0,0.0\\n38.01496525,-78.5103979149814,102 HARRIS RD,0.0,0.0\\n38.02028805,-78.51504495,100 SUNSET AVE,0.0,0.1\\n38.010414,-78.505528,104 5TH ST,0.0,0.0\\n38.02807135,-78.47914974278521,505 GARRETT ST,0.0,0.2\\n38.025783000000004,-78.514223,2108 JEFFERSON PARK AVE,0.0,0.0\\n38.025665000000004,-78.51598990000002,2208 FONTAINE AVE,0.0,0.2\\n38.0145413,-78.514725,229 MONTE VISTA AVE,0.0,0.0\\n38.037224200000004,-78.4857983,702 CHARLTON AVE,0.0,0.0\\n38.0229337,-78.45978450000001,1700 MARKET ST,0.0,0.0\\n38.033616049626495,-78.4772412269423,408 HEDGE ST,0.0,0.2\\n38.033260799999994,-78.47659300000002,433 PARK ST,0.0,0.0\\n38.0332819,-78.4742287,514 8TH ST,0.0,0.0\\n38.0649423706033,-78.4650563204008,112 GREENBRIER TER,0.0,0.0\\n38.0634783,-78.467846,2133 TARLETON DR,0.0,0.0\\n38.015944299999994,-78.50267439999998,121 WELK PL,0.0,0.0\\n38.018111299999994,-78.5182312,2621 JEFFERSON PARK CIR,0.0,0.0\\n38.0142661,-78.48258679999998,1613 MERIDIAN ST,0.0,0.1\\n38.061616799999996,-78.4749946,1806 YORKTOWN DR,0.0,0.0\\n38.062883,-78.475351,1814 YORKTOWN DR,0.0,0.0\\n38.0306367,-78.47063729999998,402 11TH ST,0.0,0.0\\n0.0,0.0,402 11TH ST,0.0,0.0\\n38.02286489999999,-78.4953946,770 PROSPECT AVE,0.0,0.0\\n38.02286489999999,-78.4953946,770 PROSPECT AVE,0.0,0.0\\n38.02338820000001,-78.4949895,748 PROSPECT AVE,0.0,0.0\\n38.023694,-78.49508259999998,738 PROSPECT AVE,0.0,0.0\\n38.0304529,-78.47852440000003,408 MARKET ST,0.0,0.1\\n38.0630239,-78.48835150000002,206 ZAN RD,0.0,0.1\\n38.0627011,-78.4876283,204 ZAN RD,0.0,0.2\\n38.03459829999999,-78.49734769999998,1215 WERTLAND ST,0.0,0.0\\n38.03459829999999,-78.49734769999998,1215 WERTLAND ST,0.0,0.0\\n38.03459829999999,-78.49734769999998,1215 WERTLAND ST,0.0,0.0\\n38.03459829999999,-78.49734769999998,1215 WERTLAND ST,0.0,0.0\\n38.03459829999999,-78.49734769999998,1215 WERTLAND ST,0.0,0.0\\n38.03459829999999,-78.49734769999998,1215 WERTLAND ST,0.0,0.2\\n38.0270645861026,-78.4654637231082,1315 CHESAPEAKE ST,0.0,0.0\\n38.0262405,-78.46420479999998,1332 CHESAPEAKE ST,0.0,0.0\\n38.017567,-78.494106,191 BROOKWOOD DR,0.0,0.3\\n38.0330227142857,-78.46551436734691,706 GILLESPIE AVE,0.0,0.0\\n38.0325675,-78.4662918,1312 POPLAR ST,0.0,0.0\\n38.03734098096,-78.47238401736209,709 LYONS COURT LN,0.0,0.0\\n38.022877,-78.484712,201 ELLIOTT AVE,1.0,1.0\\n38.022877,-78.484712,201 ELLIOTT AVE,1.0,1.0\\n38.030028,-78.4694889,1116 LITTLE HIGH ST,0.0,0.0\\n38.0295675196297,-78.4679261287152,1208 LITTLE HIGH ST,0.0,0.0\\n38.03374935,-78.4813034752026,404 ALTAMONT CIR,0.0,0.1\\n38.0336416,-78.4808553,405 ALTAMONT CIR,0.0,0.0\\n38.0302658949701,-78.4634299072946,522 CAROLINE AVE,0.0,0.0\\n38.0414465581395,-78.5144059302326,2116 TWYMAN RD,0.0,0.1\\n38.05052070000001,-78.4834930651363,1603 DEL MAR DR,0.0,1.0\\n38.0359555025286,-78.4755154033822,625 PARK ST,0.0,0.5\\n38.0343542857143,-78.4736910816327,711 FARISH ST,0.0,0.0\\n38.043537873414,-78.4686077950778,611 NORTH AVE,0.0,0.0\\n38.033081152303,-78.46313535276201,1424 HAZEL ST,0.0,0.1\\n38.0332671,-78.474595,513 8TH ST,0.0,0.1\\n38.0615182514743,-78.468582740681,2136 TARLETON DR,0.0,0.0\\n38.0240689,-78.5028968453857,1422 CHERRY AVE,1.0,0.7\\n38.0240689,-78.5028968453857,1422 CHERRY AVE,1.0,0.7\\n38.0238534,-78.4713770003834,1106 MYRTLE ST,1.0,0.8\\n38.0238534,-78.4713770003834,1106 MYRTLE ST,1.0,0.8\\n38.0238534,-78.4713770003834,1106 MYRTLE ST,1.0,0.8\\n38.0161282,-78.49399609999998,947 RAYMOND RD,0.0,0.06666666666666667\\n38.0153891,-78.5084225,124 HARRIS RD,0.0,0.1\\n38.03668529999999,-78.50952640000001,1918 THOMSON RD,0.0,0.0\\n38.0303806,-78.5056705,507 VALLEY RD,0.0,0.1\\n38.02955,-78.50593690000002,521 VALLEY RD,0.0,0.1\\n38.0303782,-78.5109191,315 MONTEBELLO CIR,0.0,0.0\\n38.0233875,-78.4960800508421,728 ORANGEDALE AVE,0.0,0.0\\n38.020323,-78.497259,814 PROSPECT AVE,0.0,0.0\\n38.023845200000004,-78.47051009999998,310 CHESTNUT ST,0.0,0.2\\n38.050077,-78.508204,2424 ARLINGTON BLVD,0.0,0.2\\n38.050077,-78.508204,2424 ARLINGTON BLVD,0.0,0.5\\n38.0612834,-78.48578459999997,2111 MICHIE DR,0.0,0.1\\n38.0392223,-78.45885,1223 COLEMAN CT,0.0,0.0\\n38.064217299999996,-78.4951059,1910 CEDAR HILL RD,0.0,0.2\\n38.064217299999996,-78.4951059,1910 CEDAR HILL RD,0.0,0.0\\n38.0604007405818,-78.4867794858263,2111 MICHIE DR,0.0,0.0\\n38.0300234,-78.4665583,1212 MERIWETHER ST,0.0,0.0\\n38.0292656,-78.46646059999998,400 13TH ST,0.0,0.0\\n38.045629299999995,-78.4886246,1610 RUGBY AVE,0.0,0.13333333333333333\\n38.0240881,-78.4838965,969 2ND ST,0.0,0.2\\n38.018516,-78.51033100000002,2515 WILLARD DR,0.0,0.0\\n38.0382927,-78.50996049999998,1929 LEWIS MOUNTAIN RD,0.0,0.0\\n38.023694,-78.49508259999998,740 PROSPECT AVE,0.0,0.0\\n38.02297935,-78.4947527081073,740 PROSPECT AVE,0.0,0.0\\n38.051358,-78.48339299999998,1619 ROSE HILL DR,0.0,0.0\\n38.0275136,-78.5034956,118 NORTH BAKER ST,0.0,0.0\\n38.0316903061224,-78.4791447346939,306 JEFFERSON ST,0.0,0.0\\n38.01268760000001,-78.48272,1623 MERIDIAN ST,0.0,0.0\\n38.0349016,-78.48612750000002,608 PRESTON AVE,0.0,0.0\\n38.0303635,-78.4823648,109 WATER ST,0.0,0.0\\n38.01932755,-78.4725516251771,1400 MONTICELLO RD,1.0,1.0\\n38.01932755,-78.4725516251771,1400 MONTICELLO RD,1.0,1.0\\n38.01932755,-78.4725516251771,1400 MONTICELLO RD,1.0,1.0\\n38.01932755,-78.4725516251771,1400 MONTICELLO RD,1.0,1.0\\n38.01932755,-78.4725516251771,1400 MONTICELLO RD,1.0,1.0\\n38.01932755,-78.4725516251771,1400 MONTICELLO RD,1.0,1.0\\n38.019463099999996,-78.4726192,1400 MONTICELLO RD,1.0,1.0\\n38.019463099999996,-78.4726192,1400 MONTICELLO RD,1.0,1.0\\n38.019463099999996,-78.4726192,1400 MONTICELLO RD,1.0,1.0\\n38.019463099999996,-78.4726192,1400 MONTICELLO RD,1.0,1.0\\n38.019463099999996,-78.4726192,1400 MONTICELLO RD,1.0,1.0\\n38.019463099999996,-78.4726192,1400 MONTICELLO RD,1.0,1.0\\n38.01932755,-78.4725516251771,1400 MONTICELLO RD,1.0,0.5016666666666667\\n38.01932755,-78.4725516251771,1400 MONTICELLO RD,1.0,0.5016666666666667\\n38.01932755,-78.4725516251771,1400 MONTICELLO RD,1.0,0.5016666666666667\\n38.01932755,-78.4725516251771,1400 MONTICELLO RD,1.0,0.5016666666666667\\n38.01932755,-78.4725516251771,1400 MONTICELLO RD,1.0,0.5016666666666667\\n38.01932755,-78.4725516251771,1400 MONTICELLO RD,1.0,0.5016666666666667\\n38.019463099999996,-78.4726192,1400 MONTICELLO RD,1.0,1.0\\n38.019463099999996,-78.4726192,1400 MONTICELLO RD,1.0,1.0\\n38.019463099999996,-78.4726192,1400 MONTICELLO RD,1.0,1.0\\n38.019463099999996,-78.4726192,1400 MONTICELLO RD,1.0,1.0\\n38.019463099999996,-78.4726192,1400 MONTICELLO RD,1.0,1.0\\n38.019463099999996,-78.4726192,1400 MONTICELLO RD,1.0,1.0\\n38.019463099999996,-78.4726192,1400 MONTICELLO RD,1.0,1.0\\n38.019463099999996,-78.4726192,1400 MONTICELLO RD,1.0,1.0\\n38.019463099999996,-78.4726192,1400 MONTICELLO RD,1.0,1.0\\n38.019463099999996,-78.4726192,1400 MONTICELLO RD,1.0,1.0\\n38.019463099999996,-78.4726192,1400 MONTICELLO RD,1.0,1.0\\n38.019463099999996,-78.4726192,1400 MONTICELLO RD,1.0,1.0\\n38.019463099999996,-78.4726192,1400 MONTICELLO RD,1.0,0.9\\n38.019463099999996,-78.4726192,1400 MONTICELLO RD,1.0,0.9\\n38.019463099999996,-78.4726192,1400 MONTICELLO RD,1.0,0.9\\n38.019463099999996,-78.4726192,1400 MONTICELLO RD,1.0,0.9\\n38.019463099999996,-78.4726192,1400 MONTICELLO RD,1.0,0.9\\n38.019463099999996,-78.4726192,1400 MONTICELLO RD,1.0,0.9\\n38.019463099999996,-78.4726192,1400 MONTICELLO RD,1.0,0.7\\n38.019463099999996,-78.4726192,1400 MONTICELLO RD,1.0,0.7\\n38.019463099999996,-78.4726192,1400 MONTICELLO RD,1.0,0.7\\n38.019463099999996,-78.4726192,1400 MONTICELLO RD,1.0,0.7\\n38.019463099999996,-78.4726192,1400 MONTICELLO RD,1.0,0.7\\n38.019463099999996,-78.4726192,1400 MONTICELLO RD,1.0,0.7\\n38.019463099999996,-78.4726192,1400 MONTICELLO RD,1.0,1.0\\n38.019463099999996,-78.4726192,1400 MONTICELLO RD,1.0,1.0\\n38.019463099999996,-78.4726192,1400 MONTICELLO RD,1.0,1.0\\n38.019463099999996,-78.4726192,1400 MONTICELLO RD,1.0,1.0\\n38.019463099999996,-78.4726192,1400 MONTICELLO RD,1.0,1.0\\n38.019463099999996,-78.4726192,1400 MONTICELLO RD,1.0,1.0\\n38.01932755,-78.4725516251771,1400 MONTICELLO RD,1.0,0.9\\n38.01932755,-78.4725516251771,1400 MONTICELLO RD,1.0,0.9\\n38.01932755,-78.4725516251771,1400 MONTICELLO RD,1.0,0.9\\n38.01932755,-78.4725516251771,1400 MONTICELLO RD,1.0,0.9\\n38.01932755,-78.4725516251771,1400 MONTICELLO RD,1.0,0.9\\n38.01932755,-78.4725516251771,1400 MONTICELLO RD,1.0,0.9\\n38.019463099999996,-78.4726192,1400 MONTICELLO RD,1.0,0.9\\n38.019463099999996,-78.4726192,1400 MONTICELLO RD,1.0,0.9\\n38.019463099999996,-78.4726192,1400 MONTICELLO RD,1.0,0.9\\n38.019463099999996,-78.4726192,1400 MONTICELLO RD,1.0,0.9\\n38.019463099999996,-78.4726192,1400 MONTICELLO RD,1.0,0.9\\n38.019463099999996,-78.4726192,1400 MONTICELLO RD,1.0,0.9\\n38.01932755,-78.4725516251771,1400 MONTICELLO RD,1.0,0.9\\n38.01932755,-78.4725516251771,1400 MONTICELLO RD,1.0,0.9\\n38.01932755,-78.4725516251771,1400 MONTICELLO RD,1.0,0.9\\n38.01932755,-78.4725516251771,1400 MONTICELLO RD,1.0,0.9\\n38.01932755,-78.4725516251771,1400 MONTICELLO RD,1.0,0.9\\n38.01932755,-78.4725516251771,1400 MONTICELLO RD,1.0,0.9\\n38.03879620000001,-78.4847989597945,710 CONCORD AVE,0.0,0.0\\n38.02467,-78.51992299999998,120 SUMMIT ST,0.0,0.0\\n38.02689405,-78.5119541424778,1910 JEFFERSON PARK AVE,0.0,0.3\\n38.0221671,-78.51522595675091,2417 JEFFERSON PARK AVE,0.0,0.2\\n38.0227143,-78.500667103757,704 ROCK CREEK RD,0.0,0.0\\n38.02429765,-78.5107047491757,404 ROBERTSON AVE,0.0,0.0\\n38.0288473,-78.47301879999998,210 10TH ST,0.0,0.1\\n0.0,0.0,107 WATER ST,0.0,0.0\\n0.0,0.0,336 10TH ST,0.0,0.2\\n38.01727975,-78.48312955,711 PALATINE AVE,0.0,0.0\\n38.01932755,-78.4725516251771,1400 MONTICELLO RD,1.0,1.0\\n38.01932755,-78.4725516251771,1400 MONTICELLO RD,1.0,1.0\\n38.01932755,-78.4725516251771,1400 MONTICELLO RD,1.0,1.0\\n38.01932755,-78.4725516251771,1400 MONTICELLO RD,1.0,1.0\\n38.01932755,-78.4725516251771,1400 MONTICELLO RD,1.0,1.0\\n38.01932755,-78.4725516251771,1400 MONTICELLO RD,1.0,1.0\\n38.0620283,-78.48678220000002,2044 INDIA RD,0.0,0.0\\n38.023259,-78.48571299999998,500 1ST ST,1.0,0.4\\n39.78818,-85.612594,969 2ND ST,0.0,0.0\\n0.0,0.0,314 14TH ST,0.0,0.0\\n38.03961605,-78.4814268470607,603 RIVANNA AVE,0.0,0.1\\n38.02734255,-78.4768666872157,205 MONTICELLO RD,0.0,0.2\\n38.03658679999999,-78.4578547,1002 RIVER RD,1.0,0.675\\n38.05092,-78.50729059999998,2401 ARLINGTON BLVD,0.0,0.0\\n38.0250662,-78.4758382,404 MONTICELLO RD,0.0,0.0\\n38.0284912,-78.4868228,307 RIDGE ST,0.0,0.0\\n38.02946499999999,-78.48042099999998,216 WATER ST,0.0,0.6\\n38.048371112244894,-78.50448971428571,1924 ARLINGTON BLVD,0.0,0.3\\n38.0314723,-78.4787242,306 JEFFERSON ST,0.0,0.1\\n38.0305065,-78.5078882,103 VALLEY RD,0.0,0.0\\n38.0284773,-78.51057519999998,1815 JEFFERSON PARK AVE,0.0,0.29\\n38.0284773,-78.51057519999998,1815 JEFFERSON PARK AVE,0.0,0.7\\n38.02850705,-78.5106060695629,1815 JEFFERSON PARK AVE,0.0,0.0\\n38.0370019,-78.4997891,301 15TH ST,0.0,0.1\\n38.0370019,-78.4997891,301 15TH ST,0.0,0.3\\n38.028344,-78.511163,1819 JEFFERSON PARK AVE,0.0,0.27999999999999997\\n38.028344,-78.511163,1819 JEFFERSON PARK AVE,0.0,0.2\\n38.0370019,-78.4997891,301 15TH ST,0.0,0.1\\n38.0370019,-78.4997891,301 15TH ST,0.0,0.15\\n38.0360726,-78.49973472559671,301 15TH ST,0.0,0.0\\n38.024212799999994,-78.52258049999998,101 MORRIS PAUL CT,0.0,0.0\\n38.017251,-78.48317800000002,711 PALATINE AVE,0.0,0.0\\n38.02693259999999,-78.51146290000001,1904 JEFFERSON PARK AVE,0.0,0.1\\n38.02693259999999,-78.51146290000001,1904 JEFFERSON PARK AVE,0.0,0.0\\n38.0431368,-78.49430500000003,820 CABELL AVE,0.0,0.1\\n38.0379696,-78.4623398,1206 RIVER VISTA AVE,0.0,0.1\\n38.039969311257295,-78.4729043814582,809 PARK ST,0.0,0.0\\n38.0403495,-78.46824559999997,907 MARSHALL ST,0.0,0.0\\n38.03660720000001,-78.4646489,840 ST CLAIR AVE,0.0,0.2\\n38.0358315,-78.4662918,821 ST CLAIR AVE,0.0,0.0\\n38.067187200000006,-78.47317369999998,2232 BRANDYWINE DR,0.0,0.0\\n38.066973499999996,-78.4673131,2315 GREENBRIER DR,0.0,0.0\\n38.041824,-78.510053,2021 IVY RD,0.0,0.0\\n38.067060999999995,-78.47093199999998,106 KERRY LN,0.0,0.0\\n38.067068995208004,-78.47349073644921,2230 BRANDYWINE DR,0.0,0.0\\n38.047696200000004,-78.46251740000002,1217 AGNESE ST,0.0,0.0\\n38.0473886,-78.4622954,1213 AGNESE ST,0.0,0.0\\n38.04707725,-78.46308829803759,629 ELIZABETH AVE,0.0,0.1\\n38.0471567,-78.4640716,618 ELIZABETH AVE,0.0,0.1\\n38.0468896,-78.46156544868201,1206 AGNESE ST,0.0,0.6\\n38.0239261225419,-78.4578807128096,1723 CHESAPEAKE ST,0.0,0.1\\n38.01836220000001,-78.4914109541118,104 BAYLOR PL,0.0,0.0\\n38.0435361267094,-78.50346167958071,38 UNIVERSITY CIR,0.0,0.1\\n38.019945,-78.507646,910 BING LN,0.0,0.1\\n38.028805887755105,-78.4694298979592,1202 JEFFERSON ST,0.0,0.1\\n38.032016448979604,-78.4796319795918,251 JEFFERSON ST,0.0,0.2\\n38.0320133469388,-78.4796219387755,253 JEFFERSON ST,0.0,0.27142857142857146\\n38.0294071,-78.479281,403 WATER ST,0.0,0.1\\n38.045356,-78.459515,106 LOCUST LANE CT,0.0,0.1\\n38.043152382108005,-78.45764348645959,1400 RIVER RD,0.0,0.1\\n38.042706,-78.460414,1100 LOCUST AVE,1.0,0.8\\n38.0431163773863,-78.45957438170241,1010 PEARTREE LN,0.0,0.5\\n38.0696800557345,-78.4725140500027,2315 GLENN CT,0.0,0.0\\n38.0696025161759,-78.4722816343347,2312 GLENN CT,0.0,0.0\\n38.069198078947394,-78.47324892105259,2329 GLENN CT,0.0,0.1\\n38.069111,-78.473052,2324 GLENN CT,0.0,0.0\\n38.0275436,-78.5090694,1800 JEFFERSON PARK AVE,0.0,0.0\\n38.0275436,-78.5090694,1800 JEFFERSON PARK AVE,0.0,0.1\\n38.028643,-78.5090309,1800 JEFFERSON PARK AVE,0.0,0.1\\n38.0275436,-78.5090694,1800 JEFFERSON PARK AVE,0.0,0.0\\n38.028643,-78.5090309,1800 JEFFERSON PARK AVE,0.0,0.0\\n38.043161,-78.489558,1617 AMHERST ST,0.0,0.0\\n38.0275436,-78.5090694,1800 JEFFERSON PARK AVE,0.0,0.0\\n38.028643,-78.5090309,1800 JEFFERSON PARK AVE,0.0,0.1\\n38.028643,-78.5090309,1800 JEFFERSON PARK AVE,0.0,0.0\\n38.028643,-78.5090309,1800 JEFFERSON PARK AVE,0.0,0.0\\n38.03829535,-78.48661829999998,800 ROSE HILL DR,0.0,0.0\\n38.0311347,-78.47743349999998,500 COURT SQ,0.0,0.0\\n38.02847915,-78.4825874252223,126 GARRETT ST,0.0,0.0\\n38.028445,-78.48256459999998,126 GARRETT ST,0.0,0.0\\n38.0320186,-78.475452,701 HIGH ST,0.0,0.0\\n38.0284883,-78.50220829999998,1304 GROVE ST,0.0,0.1\\n38.028377,-78.503147,301 PATON ST,0.0,0.0\\n38.01633870000001,-78.5180537,2711 ETON RD,0.0,0.2\\n38.01817399999999,-78.494599,1014 RIDGE ST,0.0,0.0\\n38.01817399999999,-78.494599,1014 RIDGE ST,0.0,0.0\\n38.018593100000004,-78.485073,1502 6TH ST,0.0,0.0\\n38.0349594,-78.4951866,1029 WERTLAND ST,0.0,0.0\\n38.024294,-78.501019,104 LAUREL CIR,0.0,0.5483333333333333\\n0.0,0.0,1907 EMMET ST,0.0,0.3\\n38.0185477,-78.4864714,1501 6TH ST,0.0,0.0\\n38.031808700000006,-78.4850436,263 RIDGE MCINTIRE RD,0.0,0.0\\n38.0401831,-78.47934889999998,1226 HARRIS ST,1.0,0.0\\n38.0099951,-78.5063998,1141 5TH ST,0.0,0.0\\n38.0322393,-78.4668913,1139 HIGH ST,0.0,0.1\\n38.0317658,-78.46458229999998,1414 HIGH ST,0.0,0.4\\n38.034551,-78.4739766,600 MALCOLM CRES,0.0,0.4\\n0.0,0.0,401 8TH ST,0.0,0.2\\n38.034061200000004,-78.4855074,401 4TH ST,1.0,0.7\\n0.0,0.0,401 4TH ST,0.0,0.7\\n38.020044,-78.50693199999998,727 RAINIER RD,0.0,0.0\\n38.0261966,-78.4547018,403 RIVERSIDE AVE,0.0,0.0\\n38.0202015,-78.5195627,228 HUNTLEY AVE,0.0,0.0\\n38.0267679,-78.50186500000002,512 PATON ST,0.0,0.0\\n38.0201385,-78.5200619,231 HUNTLEY AVE,0.0,0.0\\n38.0317403,-78.48190140000001,1517 MARKET ST,0.0,0.7\\n38.05256,-78.48240189224279,1700 ROSE HILL DR,0.0,0.8\\n38.052279,-78.507713,300 MASSIE RD,1.0,0.8\\n38.052279,-78.507713,300 MASSIE RD,1.0,0.8\\n38.052279,-78.507713,300 MASSIE RD,1.0,0.8\\n38.052279,-78.507713,300 MASSIE RD,1.0,0.8\\n38.052279,-78.507713,300 MASSIE RD,1.0,0.8\\n38.017255,-78.50061099999998,820 VILLAGE RD,0.0,0.0\\n38.0426659387755,-78.49735230612241,1702 BURNLEY AVE,0.0,0.0\\n38.0413488185279,-78.4984333858457,622 PRESTON PL,0.0,0.5\\n38.04226269999999,-78.5136155,2111 MORRIS RD,0.0,0.0\\n38.064163,-78.475726,2201 BRANDYWINE DR,0.0,0.0\\n38.0334308877551,-78.4815664081633,258 HIGH ST,0.0,0.1\\n38.0305845366538,-78.47032960000641,1115 LITTLE HIGH ST,0.0,0.0\\n38.01557115,-78.5003073402893,125 OLD FIFTH CIR,0.0,0.0\\n38.02005345,-78.50757514504909,914 BING LN,0.0,0.1\\n38.019979,-78.507592,912 BING LN,0.0,0.0\\n38.0205538,-78.50738035975459,929 BING LN,0.0,0.1\\n38.0359134,-78.4957553311,1118 PAGE ST,0.0,0.36\\n38.02830720000001,-78.4862721,816 RIDGE ST,0.0,0.0\\n38.0179766,-78.4770234079579,1002 ALTAVISTA AVE,0.0,0.2\\n38.0143535,-78.5119775782508,118 AZALEA DR,0.0,0.0\\n38.03544495,-78.4922372989769,908 PAOLI ST,0.0,0.1\\n38.03536939999999,-78.49011677418041,809 ANDERSON ST,0.0,0.35833333333333334\\n38.0349845,-78.4903116,808 ANDERSON ST,0.0,0.0\\n38.03446705,-78.49092275,813 PAGE ST,0.0,0.0\\n38.0502518207817,-78.4924428777066,1317 HILLTOP RD,1.0,0.0\\n38.0508740178474,-78.4911097340858,1320 HILLTOP RD,0.0,0.0\\n38.05069520000001,-78.4873151538848,1631 BRUCE AVE,0.0,0.0\\n38.05049835,-78.48944122219142,1334 RUGBY RD,0.0,0.0\\n38.0307818,-78.467624,1147 MERIWETHER ST,0.0,0.0\\n38.0244344,-78.52151540000001,2513 WESTERLY AVE,0.0,0.0\\n38.024457700000006,-78.52133789999998,2511 WESTERLY AVE,0.0,0.0\\n38.023940100000004,-78.5165003,119 STRIBLING AVE,0.0,0.0\\n38.04626500000001,-78.497439,911 COTTAGE LN,0.0,0.3\\n38.020570899999996,-78.496557,987 ROCK CREEK RD,0.0,0.0\\n38.02258339999999,-78.49861279999998,1428 FOREST RIDGE RD,0.0,0.1\\n38.01813629999999,-78.48747030000001,507 ROUGEMONT AVE,1.0,0.3333333333333333\\n38.01813629999999,-78.48747030000001,507 ROUGEMONT AVE,1.0,0.3333333333333333\\n38.01813629999999,-78.48747030000001,507 ROUGEMONT AVE,1.0,0.3333333333333333\\n38.01774210000001,-78.4866823,517 ROUGEMONT AVE,0.0,0.0\\n38.021495,-78.51653999999998,2421 JEFFERSON PARK AVE,0.0,0.1\\n38.0220263,-78.51530199999998,2419 JEFFERSON PARK AVE,0.0,0.1\\n38.0268758,-78.4549682,400 RIVERSIDE AVE,0.0,0.0\\n38.026836053454,-78.4556691564915,435 RIVERSIDE AVE,0.0,0.0\\n38.02634949999999,-78.47860209999997,621 HINTON AVE,0.0,0.0\\n38.02521820000001,-78.454402,328 RIVERSIDE AVE,0.0,0.0\\n38.0191709,-78.49133259999998,133 BAYLOR LN,0.0,0.3333333333333333\\n38.019351,-78.48668099999998,1509 ROSA TER,0.0,0.0\\n38.0335054,-78.4679348,701 ST CLAIR AVE,0.0,0.0\\n38.034662401191895,-78.474275830415,615 MALCOLM CRES,0.0,0.0\\n38.03483629999999,-78.47065140000002,703 ST CHARLES AVE,0.0,0.2\\n38.0343304,-78.4709098,609 ST CHARLES AVE,0.0,0.0\\n38.034225899999996,-78.4929434,832 HARDY DR,0.0,0.0\\n38.0173631,-78.49492839999998,170 BROOKWOOD DR,0.0,0.1\\n38.01737720000001,-78.47690379999997,1009 DRUID AVE,0.0,0.0\\n38.0361143,-78.4773922,611 WINE CELLAR CIR,0.0,0.0\\n38.028088399999994,-78.45732190000003,119 RIVERBLUFF CIR,0.0,0.0\\n38.03734179999999,-78.5011652,127 CHANCELLOR ST,1.0,0.2\\n38.037307399999996,-78.50061029999998,136 CHANCELLOR ST,0.0,0.0\\n38.0366424,-78.5015203,121 CHANCELLOR ST,0.0,0.6\\n38.0358898,-78.49885689999998,225 14TH ST,0.0,0.0\\n38.02901019999999,-78.4863061,207 RIDGE ST,1.0,1.0\\n38.02901019999999,-78.4863061,207 RIDGE ST,1.0,1.0\\n38.02901019999999,-78.4863061,207 RIDGE ST,1.0,1.0\\n38.02901019999999,-78.4863061,207 RIDGE ST,1.0,1.0\\n38.02901019999999,-78.4863061,207 RIDGE ST,1.0,1.0\\n38.02901019999999,-78.4863061,207 RIDGE ST,1.0,1.0\\n38.02901019999999,-78.4863061,207 RIDGE ST,1.0,1.0\\n38.02901019999999,-78.4863061,207 RIDGE ST,1.0,1.0\\n38.0345664927057,-78.4753386894556,622 FARISH ST,0.0,0.2\\n38.0199145,-78.47037689999998,1308 HAMPTON ST,0.0,0.2\\n38.0199508,-78.46672480000002,1418 MIDLAND ST,0.0,0.1\\n38.01966775,-78.4700835697037,1312 HAMPTON ST,0.0,0.1\\n0.0,0.0,604 13TH ST,0.0,0.0\\n38.0379964,-78.4861877752076,805 FOREST ST,0.0,0.0\\n38.022324,-78.455927,332 RIVERSIDE AVE,0.0,0.0\\n38.03586595,-78.48971674648091,808 WEST ST,0.0,0.0\\n38.0354289,-78.4902672,815 ANDERSON ST,0.0,0.0\\n38.03475105,-78.4889356496573,717 ANDERSON ST,0.0,0.0\\n38.03539,-78.493723,1003 PAGE ST,0.0,0.0\\n38.0354186,-78.49432668990599,1020 PAGE ST,0.0,0.0\\n38.0348151,-78.49892349999998,200 14TH ST,0.0,0.275\\n38.0434541935123,-78.46482580044271,1019 HOLMES AVE,0.0,0.0\\n38.0432549015863,-78.46499087001601,1011 HOLMES AVE,0.0,0.0\\n38.043613857142894,-78.46671157142859,1007 COTTONWOOD RD,0.0,0.0\\n38.0435264,-78.4669579,1005 COTTONWOOD RD,1.0,0.0\\n38.0434622475878,-78.46891642699799,610 NORTH AVE,0.0,0.0\\n38.0432421,-78.4665583,1002 COTTONWOOD RD,0.0,0.2\\n38.0433026433316,-78.4684357398697,616 NORTH AVE,0.0,0.0\\n38.043480931648105,-78.45718957030029,1134 ST CLAIR AVE,0.0,0.2\\n38.0429586,-78.46287269999998,1021 ST CHARLES AVE,0.0,0.0\\n38.04181315330421,-78.4638066435222,1022 ST CHARLES AVE,0.0,0.0\\n38.042267100000004,-78.46371640000002,1011 ST CHARLES AVE,0.0,0.0\\n38.0417256,-78.46442689999998,1003 ST CHARLES AVE,0.0,0.1\\n38.0317403,-78.48190140000001,1319 MARKET ST,0.0,0.0\\n38.0258802,-78.4656147,1321 MARKET ST,0.0,0.5\\n38.0317403,-78.48190140000001,1341 MARKET ST,0.0,0.4\\n0.0,0.0,107 WATER ST,0.0,0.0\\n38.01719065,-78.4938912054732,184 BROOKWOOD DR,0.0,0.0\\n38.0342706734694,-78.4696854489796,703 LOCUST AVE,0.0,0.0\\n38.034329,-78.46842319999998,709 GROVE AVE,0.0,0.0\\n38.0343629,-78.4691781,708 LOCUST AVE,0.0,0.0\\n38.03424329999999,-78.46384959999997,809 MOORE AVE,0.0,0.0\\n38.034073,-78.49109399999998,810 PAGE ST,0.0,0.0\\n38.03410179999999,-78.46860079999998,705 GROVE AVE,0.0,0.0\\n38.0356594,-78.4942875,302 10 1/2 ST,0.0,0.0\\n38.0334669,-78.48134588541708,400 ALTAMONT CIR,0.0,0.0\\n38.0243746,-78.52049459999998,123 SUMMIT ST,0.0,0.0\\n38.01898900000001,-78.470291,106 GREENWICH CT,0.0,0.1\\n38.031801,-78.47995499999998,210 2ND ST,0.0,0.2\\n38.0266189,-78.466112,209 16TH ST,0.0,0.0\\n38.026261700000006,-78.4631835,1343 CHESAPEAKE ST,0.0,0.0\\n38.0263485,-78.4644713,1328 CHESAPEAKE ST,0.0,0.0\\n38.026133,-78.4622954,1405 CHESAPEAKE ST,0.0,0.0\\n38.0317366,-78.4797454,206 JEFFERSON ST,0.0,0.3\\n38.0317403,-78.48190140000001,1126 MARKET ST,0.0,0.1\\n38.0273865,-78.4704213,1128 MARKET ST,0.0,0.1\\n38.0164166,-78.49319709999997,936 RAYMOND RD,0.0,0.1\\n38.0481841,-78.4905335,1644 OXFORD RD,0.0,0.1\\n38.0412633,-78.49976690000003,1707 GRADY AVE,0.0,0.0\\n38.040920899999996,-78.51172340000002,123 BOLLINGWOOD RD,0.0,0.1\\n38.020897700000006,-78.47206419999998,1125 LEONARD ST,0.0,0.0\\n38.03054470000001,-78.4753277,808 JEFFERSON ST,0.0,0.2\\n38.027352,-78.4741954,110 GOODMAN ST,0.0,0.0\\n38.0204933,-78.4679792,1400 MIDLAND ST,0.0,0.0\\n38.0251472,-78.5085667,110 STRATFORD CT,0.0,0.2\\n38.02508419999999,-78.50451650000002,1511 BROAD AVE,0.0,0.0\\n38.024952,-78.510069,2224 CENTER AVE,0.0,0.0\\n0.0,0.0,520 8TH ST,0.0,0.0\\n38.038523240604704,-78.5117546378334,1951 LEWIS MOUNTAIN RD,0.0,0.0\\n38.022982299999995,-78.4576771,313 STEEPHILL ST,0.0,0.1\\n38.033176899999994,-78.46420479999998,1412 HAZEL ST,0.0,0.0\\n38.0330719138178,-78.46311211657199,1429 HAZEL ST,0.0,0.3\\n38.0450375564757,-78.4597031107953,903 LOCUST LN,0.0,0.0\\n0.0,0.0,1213 MAIN ST,0.0,0.0\\n38.0296591,-78.4929470048459,728 NALLE ST,0.0,0.3\\n0.0,0.0,315 7TH ST,0.0,0.0\\n0.0,0.0,519 7 1/2 ST,0.0,0.1\\n38.062163,-78.481882,1642 BRANDYWINE DR,0.0,0.3\\n38.0621659,-78.4805445,1716 ESSEX RD,0.0,0.1\\n38.021361,-78.48679200000002,530 1ST ST,1.0,0.8\\n38.0237761,-78.47228620000001,1030 CARLTON AVE,0.0,0.9\\n38.02343955,-78.4753736488607,900 BELMONT AVE,0.0,0.26\\n38.02666955,-78.50115271046309,515 HANOVER ST,0.0,0.0\\n0.0,0.0,415 14TH ST,0.0,0.0\\n38.0202908,-78.49736115,816 PROSPECT AVE,0.0,0.0\\n38.0183386,-78.4822592612676,716 STONEHENGE AVE,0.0,0.0\\n38.02116785,-78.5190913966304,209 HUNTLEY AVE,0.0,0.0\\n38.024418299999994,-78.48826940000002,107 BURNET ST,0.0,0.0\\n38.0218884,-78.47647038601491,800 MERIDIAN ST,0.0,0.0\\n38.0319259,-78.47963100000003,255 JEFFERSON ST,0.0,0.0\\n38.03979169999999,-78.51627839999998,317 KENT RD,0.0,0.0\\n38.0383895,-78.51109100000002,1943 LEWIS MOUNTAIN RD,0.0,0.0\\n38.043821,-78.478449,1011 BIRDWOOD RD,0.0,0.0\\n38.0434509,-78.4821169690233,132 WESTWOOD CIR,0.0,0.36\\n38.043172799999994,-78.4815213,103 WESTWOOD CIR,0.0,0.3\\n38.0431747,-78.48167018677759,117 WESTWOOD CIR,0.0,0.1\\n38.02611225,-78.50230279910059,1403 BAKER ST,0.0,0.0\\n38.0311605,-78.4755718,707 JEFFERSON ST,0.0,0.0\\n38.0579964,-78.4689116,1282 KENWOOD LN,0.0,0.2\\n38.0571745737803,-78.4723504982978,1407 LEHIGH CIR,0.0,0.2\\n38.057354600000004,-78.4698441,1291 KENWOOD LN,0.0,0.0\\n38.05694310000001,-78.47104300000002,1306 LESTER DR,0.0,0.1\\n38.0560170050851,-78.47057293462551,1307 CARTER LN,0.0,0.0\\n38.0565215,-78.4725526,1708 GALLOWAY DR,0.0,0.2783333333333334\\n38.03057800000001,-78.47339620000002,913 JEFFERSON ST,0.0,0.1\\n38.0320561,-78.46895599999998,1115 HIGH ST,0.0,0.2783333333333334\\n38.02644230000001,-78.4736626,208 DOUGLAS AVE,0.0,0.2783333333333334\\n38.022327600000004,-78.4786798,719 BLENHEIM AVE,0.0,0.0\\n38.0224208,-78.48209840000001,604 MONTROSE AVE,0.0,0.5\\n38.0221204,-78.47823580000002,811 BLENHEIM AVE,0.0,0.0\\n38.0195688,-78.46815579999998,1404 VINE ST,0.0,0.1\\n0.0,0.0,406 11TH ST,0.0,0.0\\n38.0310732,-78.471598,400 10TH ST,0.0,0.2\\n38.0306393,-78.46824559999997,1140 MERIWETHER ST,0.0,0.2\\n38.062070500000004,-78.4762822,1819 MEADOWBROOK HEIGHTS RD,0.0,0.0\\n38.0283585,-78.4909775,332 6 1/2 ST,0.0,0.0\\n38.0283585,-78.49098719999998,330 6 1/2 ST,0.0,0.1\\n38.0317403,-78.48190140000001,1618 MARKET ST,0.0,0.0\\n38.06412479999999,-78.48014490000001,1655 BRANDYWINE DR,0.0,0.025\\n38.063675,-78.4805445,1651 BRANDYWINE DR,0.0,0.1\\n38.0621285,-78.49377489999998,1911 SWANSON DR,0.0,0.0\\n38.0570624296701,-78.4873495284688,134 BRANDYWINE CT,0.0,0.0\\n38.03808460000001,-78.475039,721 PARK ST,0.0,0.0\\n38.0381847,-78.47425729999998,716 PARK ST,0.0,0.0\\n38.03776550290029,-78.47460634243859,710 PARK ST,1.0,0.1\\n38.0244375,-78.506647,256 SHAMROCK RD,0.0,0.0\\n38.02409315,-78.50754305,1605 MULBERRY AVE,0.0,0.0\\n38.0243151,-78.5047096072502,1500 BROAD AVE,0.0,0.1\\n38.0239778,-78.50322919999998,1504 CHERRY AVE,0.0,0.0\\n38.02073865,-78.4960226604809,610 BAILEY RD,0.0,0.0\\n38.045269,-78.4647821,1019 GLENDALE RD,0.0,0.0\\n38.0452281,-78.4693113,1208 CUTLER LN,0.0,0.1\\n38.045256,-78.46861700000002,620 WILDER DR,0.0,0.0\\n38.0448961,-78.4696665,1204 CUTLER LN,0.0,0.1\\n38.0447158,-78.467846,1002 FERN CT,0.0,0.0\\n38.0208226,-78.4799673,717 ELLIOTT AVE,0.0,0.0\\n38.0208584,-78.48325007184759,606 ALTAVISTA AVE,0.0,0.0\\n38.0224401,-78.50885755,1631 CHERRY AVE,0.0,0.0\\n38.0222068,-78.5026522,1523 TRAILRIDGE RD,0.0,0.0\\n38.013538399999995,-78.5149026,243 MONTE VISTA AVE,0.0,0.0\\n38.01412225,-78.5147875737349,235 MONTE VISTA AVE,1.0,0.7\\n38.01412225,-78.5147875737349,235 MONTE VISTA AVE,1.0,0.7\\n38.032051877551,-78.4695200204082,506 GROVE AVE,0.0,0.0\\n0.0,0.0,230 MAIN ST,0.0,0.2\\n0.0,0.0,485 14TH ST,0.0,0.0\\n38.0483107,-78.48644920000002,1208 WELLFORD ST,0.0,0.0\\n38.0333674,-78.48014490000001,408 1ST ST,0.0,0.0\\n38.021361,-78.48679200000002,409 1ST ST,1.0,0.0\\n38.04745675,-78.4800472775742,1218 SHERWOOD RD,0.0,0.2\\n38.021110799999995,-78.47916819999998,800 MONTROSE AVE,0.0,0.6\\n38.0209309,-78.4744618,1012 BOLLING AVE,0.0,0.2\\n38.02081389999999,-78.4777091519184,821 MONTROSE AVE,0.0,0.0\\n38.020736,-78.4785256985544,812 MONTROSE AVE,0.0,0.0\\n38.0176395,-78.4741269,1114 ELLIOTT AVE,0.0,0.0\\n38.0159396,-78.51213170570959,105 AZALEA DR,0.0,0.5\\n38.01514,-78.5099930054802,106 HARRIS RD,0.0,0.6\\n38.0276091,-78.51400113387629,116 WASHINGTON AVE,0.0,0.3\\n38.0276507,-78.5148138,125 OBSERVATORY AVE,0.0,0.0\\n38.049071399999995,-78.4949728,1101 HILLTOP RD,0.0,0.1\\n38.04885720000001,-78.48702639999998,1604 CAMBRIDGE CIR,0.0,0.0\\n38.0488954,-78.4878255,1613 CAMBRIDGE CIR,0.0,0.0\\n38.0185209,-78.5037619,1613 DUBLIN RD,1.0,0.7\\n38.0185209,-78.5037619,1613 DUBLIN RD,1.0,0.7\\n38.019126899999996,-78.4785022,901 ALTAVISTA AVE,0.0,0.0\\n38.01908299999999,-78.473754,1107 MONTROSE AVE,0.0,0.3\\n38.0191375,-78.47943459999998,812 ALTAVISTA AVE,0.0,0.0\\n38.03581335,-78.4954495783779,1108 PAGE ST,0.0,0.0\\n38.0358088,-78.49328589999998,315 10TH ST,0.0,0.0\\n38.0385415,-78.4590537,1009 COLEMAN ST,0.0,0.05\\n38.0187118,-78.50362870000002,1611 DUBLIN RD,0.0,0.1\\n38.01850510000001,-78.5056705,704 HIGHLAND AVE,0.0,0.3\\n38.039510899999996,-78.51151740000002,102 MINOR RD,0.0,0.0\\n38.03950820000001,-78.51191639999998,106 MINOR RD,0.0,0.0\\n38.01711065,-78.5175473046614,2637 JEFFERSON PARK CIR,0.0,0.0\\n38.03203116181179,-78.5020020607668,1404 JEFFERSON PARK AVE,1.0,1.0\\n38.03203116181179,-78.5020020607668,1404 JEFFERSON PARK AVE,1.0,1.0\\n38.0316981,-78.50241020000001,1408 JEFFERSON PARK AVE,1.0,0.4\\n38.0316981,-78.50241020000001,1408 JEFFERSON PARK AVE,1.0,0.4\\n38.0316981,-78.50241020000001,1408 JEFFERSON PARK AVE,1.0,0.4\\n38.0618516,-78.4810773,1715 KING MOUNTAIN RD,0.0,0.0\\n38.05967194701249,-78.47835989839929,1617 KING MOUNTAIN RD,0.0,0.0\\n38.0334050714286,-78.48148828571429,236 HIGH ST,0.0,0.0\\n38.0238804,-78.48778109999998,111 BURNET ST,0.0,0.0\\n38.0358898,-78.49885689999998,225 14TH ST,0.0,0.0\\n38.04749765,-78.4820958145399,1307 HARROW RD,0.0,0.0\\n38.02713610000001,-78.4945067,708 PINE ST,0.0,0.1\\n38.046768756252796,-78.5023858474307,810 FENDALL TER,0.0,0.2\\n38.043566,-78.498451,1865 FENDALL AVE,0.0,0.0\\n0.0,0.0,503 MAIN ST,0.0,0.4\\n38.0364098,-78.50061029999998,16 ELLIEWOOD AVE,0.0,0.1\\n0.0,0.0,314 14TH ST,0.0,0.0\\n38.0322725,-78.4646077,1333 HIGH ST,0.0,0.0\\n38.033224,-78.483328,1325 HIGH ST,0.0,0.3\\n0.0,0.0,418 WATER ST,0.0,0.0\\n38.05028445808379,-78.50729508634541,2401 ARLINGTON BLVD,0.0,0.0\\n38.05028445808379,-78.50729508634541,2401 ARLINGTON BLVD,0.0,0.0\\n38.05028445808379,-78.50729508634541,2401 ARLINGTON BLVD,0.0,0.2\\n38.05092,-78.50729059999998,2401 ARLINGTON BLVD,0.0,0.0\\n38.05028445808379,-78.50729508634541,2401 ARLINGTON BLVD,0.0,0.0\\n38.03524820000001,-78.49546057242421,1029 WERTLAND ST,0.0,0.0\\n38.03524820000001,-78.49546057242421,1029 WERTLAND ST,0.0,0.0\\n38.03524820000001,-78.49546057242421,1029 WERTLAND ST,0.0,0.9\\n38.03524820000001,-78.49546057242421,1029 WERTLAND ST,0.0,0.9\\n38.03524820000001,-78.49546057242421,1029 WERTLAND ST,0.0,0.1\\n38.03524820000001,-78.49546057242421,1029 WERTLAND ST,0.0,0.1\\n38.03524820000001,-78.49546057242421,1029 WERTLAND ST,0.0,0.0\\n38.03524820000001,-78.49546057242421,1029 WERTLAND ST,0.0,0.3\\n38.03524820000001,-78.49546057242421,1029 WERTLAND ST,0.0,0.0\\n38.03524820000001,-78.49546057242421,1029 WERTLAND ST,0.0,0.0\\n38.0349594,-78.4951866,1029 WERTLAND ST,0.0,0.0\\n38.06254000000001,-78.496808,2301 NORTH BERKSHIRE RD,0.0,0.0\\n38.0214981,-78.49912490000001,834 ROCK CREEK RD,0.0,0.0\\n38.010414,-78.505528,206 5TH ST,0.0,0.0\\n38.0245956,-78.4830205,933 2ND ST,0.0,0.3\\n38.0625546080693,-78.4968268546011,2303 NORTH BERKSHIRE RD,0.0,0.1\\n0.0,0.0,112 11TH ST,0.0,0.3\\n38.030833,-78.493949,866 ESTES ST,0.0,0.0\\n38.0307222,-78.49446359999997,216 9TH ST,0.0,0.3\\n0.0,0.0,218 9TH ST,0.0,0.2\\n38.0306567,-78.49426120000003,212 9TH ST,0.0,0.1\\n38.031006,-78.49287,837 ESTES ST,0.0,0.2\\n38.031006,-78.49287,835 ESTES ST,0.0,0.06666666666666667\\n38.056922799999995,-78.49867940000001,408 EARHART ST,0.0,0.0\\n38.0221315,-78.49595579999998,786 PROSPECT AVE,0.0,0.0\\n38.0308044,-78.4936582,852 ESTES ST,0.0,0.2\\n38.0307869,-78.49376409999998,856 ESTES ST,0.0,0.6333333333333333\\n38.0308146,-78.493875,862 ESTES ST,0.0,0.0\\n38.02072020000001,-78.46761719999998,1403 MIDLAND ST,0.0,0.0\\n38.020686,-78.4675421,1405 MIDLAND ST,0.0,0.0\\n38.0205889,-78.467325432761,1411 MIDLAND ST,0.0,0.15\\n38.0205515,-78.4672463,1413 MIDLAND ST,0.0,0.3333333333333333\\n38.04261270000001,-78.5107527,2033 IVY RD,1.0,0.8\\n38.042004999999996,-78.5094041,2015 IVY RD,0.0,0.1\\n38.0424815,-78.5119608,2100 IVY RD,1.0,0.6\\n38.03413610000001,-78.4808684520083,11 ALTAMONT CIR,0.0,0.0\\n38.0341836,-78.4808704,11 ALTAMONT CIR,0.0,0.0\\n38.03185545,-78.5096261382465,114 STADIUM RD,0.0,0.1\\n38.0336611,-78.4981782,126 13TH ST,0.0,0.6780952380952382\\n38.0265107,-78.47641540000002,317 MONTICELLO RD,1.0,0.2783333333333334\\n38.0265107,-78.47641540000002,317 MONTICELLO RD,1.0,0.2783333333333334\\n38.02623885,-78.476284987205,323 MONTICELLO RD,1.0,0.2783333333333334\\n38.034298,-78.49835,1308 WERTLAND ST,0.0,0.0\\n38.0342253,-78.4985213870145,1308 WERTLAND ST,0.0,0.0\\n38.02040665,-78.4639749725388,1500 CARLTON AVE,0.0,0.0\\n38.021361,-78.48679200000002,511 1ST ST,1.0,0.0\\n38.0616535,-78.4988791,2306 ANGUS RD,0.0,0.4\\n38.03142310000001,-78.48276440000002,227 MAIN ST,0.0,0.3\\n0.0,0.0,625 MAIN ST,0.0,0.0\\n0.0,0.0,607 MAIN ST,0.0,0.5\\n38.0294346,-78.510363171799,300 MONTEBELLO CIR,0.0,0.0\\n38.03524820000001,-78.49546057242421,1029 WERTLAND ST,0.0,0.0\\n38.03524820000001,-78.49546057242421,1029 WERTLAND ST,0.0,0.2\\n38.03524820000001,-78.49546057242421,1029 WERTLAND ST,0.0,0.0\\n38.03524820000001,-78.49546057242421,1029 WERTLAND ST,0.0,0.0\\n38.03524820000001,-78.49546057242421,1029 WERTLAND ST,0.0,0.1\\n38.03524820000001,-78.49546057242421,1029 WERTLAND ST,0.0,0.0\\n38.03524820000001,-78.49546057242421,1029 WERTLAND ST,0.0,0.1\\n38.045378799999995,-78.49307209999998,1224 PRESTON AVE,0.0,0.0\\n38.0455985,-78.4928843749699,1224 PRESTON AVE,0.0,0.1\\n38.0652355714286,-78.4884713877551,1025 SEMINOLE TRL,1.0,0.9\\n38.0317403,-78.48190140000001,1313 MARKET ST,0.0,0.0\\n38.0317403,-78.48190140000001,1313 MARKET ST,0.0,0.0\\n38.03507099999999,-78.4959701,1115 WERTLAND ST,0.0,0.0\\n38.03499715,-78.49569515666471,1115 WERTLAND ST,0.0,0.0\\n0.0,0.0,608 13TH ST,0.0,0.0\\n38.0346209,-78.4950041857331,1021 WERTLAND ST,0.0,0.0\\n38.0188726,-78.48418509999998,1413 EARLY ST,0.0,0.26\\n38.0189424,-78.48365230000002,1404 EARLY ST,0.0,0.0\\n38.01879875,-78.4842524791852,1417 EARLY ST,0.0,0.0\\n38.0180586,-78.4814214,1400 RIALTO ST,0.0,0.0\\n38.0221144,-78.4715758,1114 LEONARD ST,0.0,0.0\\n38.022171500000006,-78.47215299999998,1111 LEONARD ST,0.0,0.2\\n38.01795,-78.50172599999998,823 VILLAGE RD,0.0,0.0\\n38.047562600000006,-78.48651579999998,1539 OXFORD RD,0.0,0.0\\n38.0473732,-78.4848066,1515 OXFORD RD,0.0,0.0\\n38.031695899999995,-78.47397339999998,415 LEXINGTON AVE,0.0,0.0\\n38.0315823,-78.47406219999998,411 LEXINGTON AVE,0.0,0.0\\n38.0255558,-78.47786454200009,702 HINTON AVE,0.0,0.1\\n38.02549675,-78.4747887998854,221 DOUGLAS AVE,0.0,0.3\\n38.0250391,-78.4779361,711 BELMONT AVE,0.0,0.0\\n38.035920000000004,-78.47895199999998,106 PERRY DR,0.0,0.0\\n38.0212455,-78.47104300000002,317 CARLTON RD,0.0,0.0\\n38.021145000000004,-78.4683788,1305 MIDLAND ST,0.0,0.0\\n38.0212423,-78.472042,1121 LEONARD ST,0.0,0.0\\n38.0210791,-78.472042,1123 LEONARD ST,0.0,0.2\\n38.021065899999996,-78.47046569999998,316 CARLTON RD,0.0,0.1\\n0.0,0.0,800 6TH ST,0.0,0.0\\n38.0214013,-78.48747379999998,112 LANKFORD AVE,0.0,0.1\\n38.021894700000004,-78.49040029999998,233 HARTMANS MILL RD,0.0,0.0\\n38.0219922,-78.49107729999999,242 HARTMANS MILL RD,0.0,0.0\\n38.024791,-78.454891,314 RIVERSIDE AVE,0.0,0.1\\n38.02544590000001,-78.47761419999998,710 HINTON AVE,0.0,0.2\\n38.024830739293705,-78.45507750754079,318 RIVERSIDE AVE,0.0,0.0\\n38.030550500000004,-78.47569759999998,210 8TH ST,0.0,0.0\\n38.021347799999994,-78.47310759999998,1026 TUFTON AVE,0.0,0.0\\n38.0212122,-78.4715314,1124 LEONARD ST,0.0,0.2\\n38.021086600000004,-78.4710874,319 CARLTON RD,0.0,0.0\\n38.0264359,-78.462265,1402 SHORT 18TH ST,0.0,0.0\\n38.0243179,-78.4715758,1101 MYRTLE ST,0.0,0.0\\n38.02147479999999,-78.4898676,227 HARTMANS MILL RD,0.0,0.1\\n38.021743,-78.4908309994643,238 HARTMANS MILL RD,0.0,0.0\\n38.0211998,-78.49007850000002,228 HARTMANS MILL RD,0.0,0.0\\n38.04004570000001,-78.4965265,519 14TH ST,0.0,0.0\\n38.050915,-78.483918491593,1609 DEL MAR DR,0.0,0.0\\n38.05082120000001,-78.4837855,1607 DEL MAR DR,0.0,0.2\\n38.0194269,-78.4691587344044,707 RIVES ST,1.0,0.7\\n0.0,0.0,612 11TH ST,0.0,0.0\\n38.0385266,-78.49395179999998,405 11TH ST,0.0,0.24\\n38.03442769999999,-78.49004520000003,311 8TH ST,0.0,0.0\\n0.0,0.0,211 8TH ST,0.0,0.0\\n38.0204634,-78.50144103808691,715 SHAMROCK RD,0.0,0.0\\n38.04394715,-78.4877832864901,1607 HARDWOOD AVE,0.0,0.0\\n38.0433217,-78.4868002223183,1208 GREENWAY RD,0.0,0.0\\n38.043124,-78.48680440000003,1206 GREENWAY RD,0.0,0.26\\n38.0602193613292,-78.4794561307214,1702 KING MOUNTAIN RD,0.0,0.0\\n38.0690535945946,-78.4731422702703,2332 GLENN CT,0.0,0.0\\n38.0663468,-78.46777940000003,2321 TARLETON DR,0.0,0.5\\n38.0466354,-78.49281979999998,1102 RUGBY RD,0.0,0.2\\n38.04583825,-78.4822546920779,1428 RUTLEDGE AVE,0.0,0.0\\n38.045791200000004,-78.48200959999998,1424 RUTLEDGE AVE,0.0,0.0\\n38.0444281649087,-78.50234729612691,1870 WAYSIDE PL,0.0,0.0\\n38.04498114201179,-78.4978685680473,1816 WINSTON RD,0.0,0.0\\n38.01882145,-78.4777944071759,911 ALTAVISTA AVE,0.0,0.0\\n38.0444702082032,-78.4929475973917,1111 PRESTON AVE,0.0,0.0\\n38.0304696363636,-78.4911937878788,770 WALKER SQ,0.0,0.2\\n38.0306498,-78.4925073,715 WALKER SQ,0.0,0.2\\n38.0306498,-78.4925073,715 WALKER SQ,0.0,0.05\\n38.0303384,-78.49139919999998,710 WALKER SQ,0.0,0.3\\n38.0302687,-78.4913608625383,710 WALKER SQ,0.0,0.1\\n38.0306498,-78.4925073,770 WALKER SQ,0.0,0.0\\n38.0304517142857,-78.4904545714286,715 WALKER SQ,0.0,0.1\\n38.0306498,-78.4925073,715 WALKER SQ,0.0,0.6\\n38.0306498,-78.4925073,715 WALKER SQ,0.0,0.6333333333333333\\n38.0303384,-78.49139919999998,710 WALKER SQ,0.0,0.0\\n38.0306498,-78.4925073,765 WALKER SQ,0.0,0.27999999999999997\\n38.030604,-78.4913358,745 WALKER SQ,0.0,0.0\\n38.0306498,-78.4925073,705 WALKER SQ,0.0,0.0\\n38.0306498,-78.4925073,705 WALKER SQ,0.0,0.0\\n38.030604,-78.4913358,745 WALKER SQ,0.0,0.13999999999999999\\n38.0306498,-78.4925073,740 WALKER SQ,0.0,0.0\\n38.0306498,-78.4925073,740 WALKER SQ,0.0,0.1\\n38.0311209,-78.47372920000002,820 HIGH ST,0.0,0.1\\n38.02755379999999,-78.5152798,108 CLARKE CT,0.0,0.0\\n38.0311347,-78.47743349999998,500 COURT SQ,0.0,0.0\\n38.0311347,-78.47743349999998,500 COURT SQ,0.0,0.0\\n38.031099499999996,-78.47763640000002,500 COURT SQ,1.0,0.7\\n38.0283175,-78.5161591004938,212 MAURY AVE,0.0,0.2\\n38.028643,-78.50720799999998,128 MAYWOOD LN,0.0,0.0\\n38.028073,-78.516153,210 MAURY AVE,0.0,0.3\\n38.028643,-78.50720799999998,128 MAYWOOD LN,0.0,0.05\\n38.028445,-78.48256459999998,126 GARRETT ST,0.0,0.0\\n38.03836010000001,-78.48669340000002,800 ROSE HILL DR,0.0,0.1\\n38.0480174,-78.47138699999998,111 MELBOURNE PARK CIR,0.0,0.0\\n38.043118,-78.49417369999998,826 CABELL AVE,0.0,0.1\\n38.037012,-78.48862199999998,1019 PRESTON AVE,0.0,0.1\\n38.0277109,-78.462813,407 FAIRWAY AVE,0.0,0.7\\n38.0275109,-78.461058,320 FAIRWAY AVE,0.0,0.2\\n38.0322541,-78.4658223,606 GILLESPIE AVE,0.0,0.2\\n38.032000938775504,-78.47958177551021,261 JEFFERSON ST,0.0,0.0\\n38.0270826,-78.4754942,710 GRAVES ST,0.0,0.0\\n38.0273482,-78.47539429999998,719 GRAVES ST,0.0,0.1\\n0.0,0.0,222 14TH ST,0.0,0.0\\n38.01662915,-78.5134837628117,114 MONTE VISTA AVE,0.0,0.0\\n38.030578399999996,-78.50354,436 BRANDON AVE,0.0,0.0\\n38.0317403,-78.48190140000001,1304 MARKET ST,0.0,0.0\\n38.040146306122395,-78.49648828571429,1410 GRADY AVE,0.0,0.2783333333333334\\n38.040146306122395,-78.49648828571429,1410 GRADY AVE,0.0,0.2783333333333334\\n38.04146315,-78.4989107451958,1600 GRADY AVE,0.0,0.27142857142857146\\n38.01932755,-78.4725516251771,1400 MONTICELLO RD,1.0,1.0\\n38.01932755,-78.4725516251771,1400 MONTICELLO RD,1.0,1.0\\n38.01932755,-78.4725516251771,1400 MONTICELLO RD,1.0,1.0\\n38.01932755,-78.4725516251771,1400 MONTICELLO RD,1.0,1.0\\n38.01932755,-78.4725516251771,1400 MONTICELLO RD,1.0,1.0\\n38.01932755,-78.4725516251771,1400 MONTICELLO RD,1.0,1.0\\n38.019463099999996,-78.4726192,1400 MONTICELLO RD,1.0,1.0\\n38.019463099999996,-78.4726192,1400 MONTICELLO RD,1.0,1.0\\n38.019463099999996,-78.4726192,1400 MONTICELLO RD,1.0,1.0\\n38.019463099999996,-78.4726192,1400 MONTICELLO RD,1.0,1.0\\n38.019463099999996,-78.4726192,1400 MONTICELLO RD,1.0,1.0\\n38.019463099999996,-78.4726192,1400 MONTICELLO RD,1.0,1.0\\n38.040146306122395,-78.49648828571429,1410 GRADY AVE,0.0,0.27142857142857146\\n38.040146306122395,-78.49648828571429,1410 GRADY AVE,0.0,0.0\\n38.0436066987312,-78.4688132360622,609 NORTH AVE,0.0,0.0\\n38.041469729729705,-78.4950235945946,617 MADISON AVE,0.0,0.0\\n38.02514066440821,-78.51654136986849,105 LEWIS ST,0.0,0.0\\n38.041350099999995,-78.4936931,722 MADISON AVE,0.0,0.0\\n38.0281669,-78.51519517320119,2006 STADIUM RD,0.0,0.0\\n38.01838505,-78.4833274031035,701 ROCKLAND AVE,0.0,0.0\\n38.0601934598992,-78.4962190496923,2204 NORTH BERKSHIRE RD,0.0,0.1\\n38.063473,-78.492812,1924 SWANSON DR,0.0,0.0\\n38.0596163673469,-78.4959586122449,2121 ANGUS RD,0.0,0.0\\n38.042055,-78.48795870000002,1609 MADISON AVE,0.0,0.0\\n38.027497600000004,-78.51002259999999,116 CARROLLTON TER,0.0,0.0\\n38.0304529,-78.47852440000003,408 MARKET ST,0.0,0.15\\n38.04908725,-78.48524841431029,1320 WELLFORD ST,0.0,0.0\\n38.028886799999995,-78.51338249999998,128 HARMON ST,0.0,0.0\\n38.0371122,-78.50069909999998,132 CHANCELLOR ST,0.0,0.0\\n38.02233270000001,-78.5199679,214 STRIBLING AVE,0.0,0.0\\n38.0183034,-78.5127278,2606 JEFFERSON PARK AVE,0.0,0.0\\n39.78818,-85.612594,313 2ND ST,0.0,0.0\\n38.042837,-78.51266199999998,2114 IVY RD,0.0,0.5\\n38.060247888930895,-78.49876577786179,2304 DELLMEAD LN,0.0,0.0\\n38.04893870000001,-78.5061642,1982 ARLINGTON BLVD,0.0,0.0\\n38.0438807,-78.4561228,1144 ST CLAIR AVE,0.0,0.0\\n38.019463099999996,-78.4726192,1400 MONTICELLO RD,1.0,0.6780952380952382\\n38.019463099999996,-78.4726192,1400 MONTICELLO RD,1.0,0.6780952380952382\\n38.019463099999996,-78.4726192,1400 MONTICELLO RD,1.0,0.6780952380952382\\n38.019463099999996,-78.4726192,1400 MONTICELLO RD,1.0,0.6780952380952382\\n38.019463099999996,-78.4726192,1400 MONTICELLO RD,1.0,0.6780952380952382\\n38.019463099999996,-78.4726192,1400 MONTICELLO RD,1.0,0.6780952380952382\\n38.01932755,-78.4725516251771,1400 MONTICELLO RD,1.0,1.0\\n38.01932755,-78.4725516251771,1400 MONTICELLO RD,1.0,1.0\\n38.01932755,-78.4725516251771,1400 MONTICELLO RD,1.0,1.0\\n38.01932755,-78.4725516251771,1400 MONTICELLO RD,1.0,1.0\\n38.01932755,-78.4725516251771,1400 MONTICELLO RD,1.0,1.0\\n38.01932755,-78.4725516251771,1400 MONTICELLO RD,1.0,1.0\\n38.03459829999999,-78.49734769999998,1215 WERTLAND ST,0.0,0.0\\n38.0179771,-78.4940633,199 BROOKWOOD DR,0.0,0.0\\n38.01800220000001,-78.4938056,195 BROOKWOOD DR,0.0,0.0\\n38.044839,-78.5037601,106 UNIVERSITY GDNS,0.0,0.0\\n38.044839,-78.5037601,106 UNIVERSITY GDNS,0.0,0.0\\n38.0413518,-78.4937315,720 MADISON AVE,0.0,0.27999999999999997\\n38.042305999999996,-78.48884659999999,1617 MADISON AVE,0.0,0.0\\n38.042195,-78.48813620000001,1611 MADISON AVE,0.0,0.0\\n38.041350099999995,-78.4936931,722 MADISON AVE,0.0,0.1\\n38.027497600000004,-78.51002259999999,116 CARROLLTON TER,0.0,0.0\\n38.0317403,-78.48190140000001,408 MARKET ST,0.0,0.0\\n38.0304529,-78.47852440000003,408 MARKET ST,0.0,0.0\\n38.063342,-78.49532789999998,2210 SHELBY DR,0.0,0.0\\n38.04327410000001,-78.4941341,828 CABELL AVE,0.0,0.1\\n38.04325609523811,-78.4941954761905,822 CABELL AVE,0.0,0.1\\n38.02800425,-78.5113212591448,1821 JEFFERSON PARK AVE,0.0,0.0\\n38.044927200000004,-78.5037272,118 UNIVERSITY GDNS,0.0,0.2\\n38.0277104,-78.4712206,1118 MARKET ST,0.0,0.0\\n38.0317403,-78.48190140000001,1118 MARKET ST,0.0,0.1\\n38.0267731,-78.46937790000001,1140 MARKET ST,0.0,0.0\\n38.026669,-78.51903000000001,109 PIEDMONT AVE,0.0,0.2\\n38.0273575,-78.5151505442,108 CLARKE CT,0.0,0.0\\n38.0199131,-78.47654859999999,914 MONTROSE AVE,0.0,0.1\\n38.0317403,-78.48190140000001,408 MARKET ST,0.0,0.2\\n38.02435120000001,-78.5041573506932,1501 BROAD AVE,0.0,0.2\\n38.0240995,-78.51025440000002,2304 CENTER AVE,0.0,0.0\\n0.0,0.0,409 13TH ST,0.0,0.1\\n38.02181465,-78.5232796832324,253 STRIBLING AVE,0.0,0.0\\n0.0,0.0,1402 MOORES ST,0.0,0.0\\n38.03459829999999,-78.49734769999998,1215 WERTLAND ST,0.0,0.0\\n38.03481729999999,-78.4973242531624,1215 WERTLAND ST,0.0,0.0\\n38.03481729999999,-78.4973242531624,1215 WERTLAND ST,0.0,0.1\\n38.030074799999994,-78.4792377,100 4TH ST,0.0,0.1\\n38.01405405,-78.4797746,1002 ROUGEMONT AVE,0.0,0.0\\n38.0090698825694,-78.507592089597,1135 5TH ST,0.0,0.0\\n38.0129736,-78.503222,1139 5TH ST,0.0,0.8\\n38.0377269183673,-78.48478377551021,708 HENRY AVE,0.0,0.0\\n38.031492,-78.50410699999998,411 BRANDON AVE,0.0,0.0\\n38.031397,-78.503967,411 BRANDON AVE,0.0,0.1\\n38.031397,-78.503967,411 BRANDON AVE,0.0,0.0\\n38.031157,-78.50404,413 BRANDON AVE,0.0,0.0\\n38.0145846,-78.4701904566757,1013 LINDEN AVE,0.0,0.0\\n38.0420085330147,-78.5003966883926,611 RUGBY RD,0.0,0.0\\n38.0308574,-78.4938141289731,858 ESTES ST,0.0,0.0\\n38.019805100000006,-78.5200952,237 HUNTLEY AVE,0.0,0.0\\n38.019961,-78.519607,232 HUNTLEY AVE,0.0,0.13999999999999999\\n38.03085135,-78.49413695,868 ESTES ST,0.0,0.3\\n38.019463099999996,-78.4726192,1400 MONTICELLO RD,1.0,1.0\\n38.019463099999996,-78.4726192,1400 MONTICELLO RD,1.0,1.0\\n38.019463099999996,-78.4726192,1400 MONTICELLO RD,1.0,1.0\\n38.019463099999996,-78.4726192,1400 MONTICELLO RD,1.0,1.0\\n38.019463099999996,-78.4726192,1400 MONTICELLO RD,1.0,1.0\\n38.019463099999996,-78.4726192,1400 MONTICELLO RD,1.0,1.0\\n38.02006995,-78.5196002105848,230 HUNTLEY AVE,0.0,0.1\\n38.03357860000001,-78.4703311,603 LOCUST AVE,0.0,0.0\\n38.059009100000004,-78.4842961,1629 KEITH VALLEY RD,0.0,0.0\\n38.0587719,-78.48334150000002,1628 KEITH VALLEY RD,0.0,0.1\\n38.05518352267,-78.4868217542803,1607 KEITH VALLEY RD,0.0,0.1\\n38.021919,-78.47313309999998,1113 MONTICELLO RD,0.0,0.0\\n38.0247326,-78.479479,623 MONTICELLO AVE,0.0,0.0\\n38.05866899999999,-78.48436269999998,1625 KEITH VALLEY RD,0.0,0.1\\n38.0581462,-78.484851,1615 KEITH VALLEY RD,0.0,0.0\\n38.05728089999999,-78.48476219999998,1612 KEITH VALLEY RD,0.0,0.0\\n38.05516334844671,-78.48682116952021,1605 KEITH VALLEY RD,0.0,0.0\\n38.0243283,-78.46384959999997,102 LEAKE LN,0.0,0.0\\n38.0221431,-78.48795870000002,115 LANKFORD AVE,0.0,0.0\\n38.018099400000004,-78.50238590000002,829 VILLAGE RD,0.0,0.1\\n38.01769,-78.49414999999998,193 BROOKWOOD DR,0.0,0.0\\n38.0390084,-78.4922205,604 10 1/2 ST,0.0,0.0\\n38.0270869,-78.4632725,106 CHISHOLM PL,0.0,0.4\\n38.0265394,-78.4552791,415 RIVERSIDE AVE,0.0,0.4\\n38.025787,-78.45401,342 RIVERSIDE AVE,0.0,0.4\\n38.029856,-78.48079200000002,108 2ND ST,0.0,0.15\\n38.019217499999996,-78.48272,1304 AVON ST,0.0,0.0\\n38.031785600000006,-78.47859100000002,305 JEFFERSON ST,0.0,0.15\\n38.0500018,-78.49324150000002,1115 HILLTOP RD,0.0,0.0\\n38.018659,-78.486311,1518 ROSA TER,1.0,0.325\\n38.018659,-78.486311,1518 ROSA TER,1.0,0.325\\n38.0179653,-78.49066593810579,160 BAYLOR LN,0.0,0.0\\n38.0563021,-78.48187639999998,1616 MEADOWBROOK HEIGHTS RD,0.0,0.325\\n38.0537392,-78.47246379999999,103 GROVER CT,0.0,0.1\\n38.053485906374796,-78.4728204681262,105 GROVER CT,0.0,0.1\\n38.01909425,-78.48402133711791,1405 EARLY ST,0.0,0.0\\n38.0344465,-78.4786798,502 2ND ST,0.0,0.15\\n38.0320722857143,-78.47981271428571,215 JEFFERSON ST,0.0,0.0\\n38.0293719,-78.479146,407 WATER ST,0.0,0.0\\n38.0349596666667,-78.5005300666667,1515 UNIVERSITY AVE,0.0,0.0\\n38.043103835865104,-78.499208686517,703 RUGBY RD,0.0,0.0\\n38.0418140262693,-78.5018958844901,1836 UNIVERSITY CIR,0.0,0.0\\n38.0431235,-78.4979469,712 RUGBY RD,0.0,0.0\\n38.026674453353294,-78.462283965626,1404 SHORT 18TH ST,0.0,0.0\\n38.04326235714289,-78.49418078571429,823 CABELL AVE,0.0,0.0\\n38.04172268941221,-78.5020753580513,1817 UNIVERSITY CIR,0.0,0.0\\n38.01788685,-78.4952759011145,155 BROOKWOOD DR,0.0,0.0\\n38.066514,-78.471141,2417 HILLWOOD PL,0.0,0.0\\n38.066598,-78.473861,2226 BRANDYWINE DR,0.0,0.0\\n38.0186222006933,-78.47155750762491,105 HARTFORD CT,0.0,0.0\\n38.0331859868673,-78.4631252841003,808 WARD AVE,0.0,0.0\\n38.0148846,-78.48144784722791,902 ROUGEMONT AVE,0.0,0.0\\n38.01470615,-78.4789305474963,308 PALATINE AVE,0.0,0.2\\n38.01441625,-78.48044394414909,916 ROUGEMONT AVE,1.0,0.09\\n38.025428399999996,-78.52124909999998,2507 PLATEAU RD,0.0,0.1\\n38.0349202,-78.481513475,419 ALTAMONT ST,0.0,0.0\\n38.0341836,-78.4808704,11 ALTAMONT CIR,0.0,0.0\\n38.03413610000001,-78.4808684520083,11 ALTAMONT CIR,0.0,0.0\\n38.030905,-78.48107999999998,111 MAIN ST,0.0,0.0\\n38.03973,-78.4933303,517 11TH ST,0.0,0.0\\n38.0434642,-78.4918084078378,100 BARBOUR DR,0.0,0.1\\n38.043455,-78.491827,100 BARBOUR DR,0.0,0.5\\n38.023817,-78.462695,1520 MARKET ST,0.0,0.0\\n38.0317403,-78.48190140000001,1520 MARKET ST,0.0,0.0\\n38.0317403,-78.48190140000001,1520 MARKET ST,0.0,0.2\\n38.023817,-78.462695,1520 MARKET ST,0.0,0.1\\n38.023728999999996,-78.462727,1522 MARKET ST,0.0,0.1\\n38.023728999999996,-78.462727,1522 MARKET ST,0.0,0.3\\n38.023728999999996,-78.462727,1522 MARKET ST,0.0,0.1\\n38.0317403,-78.48190140000001,1522 MARKET ST,0.0,0.0\\n38.023728999999996,-78.462727,1522 MARKET ST,0.0,0.0\\n38.023728999999996,-78.462727,1522 MARKET ST,0.0,0.0\\n38.03484570000001,-78.4699329,706 ST CHARLES AVE,0.0,0.0\\n38.023708,-78.455421,298 RIVERSIDE AVE,0.0,0.0\\n38.04082800000001,-78.4718422,901 PARK ST,0.0,0.3\\n38.0396671,-78.4999223,426 17TH ST,0.0,0.1\\n38.0396671,-78.4999223,426 17TH ST,0.0,0.0\\n38.0599894,-78.49503940000002,2114 ANGUS RD,0.0,0.1\\n38.0481754,-78.50531540000001,1928 ARLINGTON BLVD,0.0,0.1\\n38.031099499999996,-78.47763640000002,500 COURT SQ,1.0,0.0\\n38.0276478,-78.4823426,455 2ND ST,0.0,0.0\\n38.0356880413425,-78.46588096561621,818 ST CLAIR AVE,0.0,0.2\\n38.0379716,-78.477814,709 NELSON DR,0.0,0.2\\n38.02267670000001,-78.47725899999998,809 BOLLING AVE,0.0,0.0\\n38.01232570000001,-78.48210089999998,1631 MERIDIAN ST,0.0,0.2\\n38.04536820000001,-78.50414620000002,83 UNIVERSITY GDNS,0.0,0.0\\n38.05912980000001,-78.48853559999998,2025 MICHIE DR,0.0,0.0\\n38.0627443,-78.493038,1919 SWANSON DR,0.0,0.25\\n38.02786270000001,-78.48596090000002,208 DICE ST,0.0,0.0\\n38.031099499999996,-78.47763640000002,500 COURT SQ,1.0,0.0\\n38.0317042,-78.50709090000002,102 OAKHURST CIR,0.0,0.1\\n38.0413091,-78.47738609999998,1701 ALLIED LN,0.0,0.1\\n38.0478096,-78.4609005266028,1222 HOLMES AVE,0.0,0.0\\n38.0317403,-78.48190140000001,1522 MARKET ST,0.0,0.0\\n38.023728999999996,-78.462727,1522 MARKET ST,0.0,0.6\\n38.0336521,-78.4818932192105,217 HIGH ST,0.0,0.0\\n38.0349594,-78.4951866,1029 WERTLAND ST,0.0,0.0\\n38.03524820000001,-78.49546057242421,1029 WERTLAND ST,0.0,0.0\\n38.03524820000001,-78.49546057242421,1029 WERTLAND ST,0.0,0.0\\n38.0349594,-78.4951866,1029 WERTLAND ST,0.0,0.13999999999999999\\n38.03524820000001,-78.49546057242421,1029 WERTLAND ST,0.0,0.0\\n38.03524820000001,-78.49546057242421,1029 WERTLAND ST,0.0,0.0\\n38.03524820000001,-78.49546057242421,1029 WERTLAND ST,0.0,0.0\\n38.03524820000001,-78.49546057242421,1029 WERTLAND ST,0.0,0.0\\n38.0349594,-78.4951866,1029 WERTLAND ST,0.0,0.0\\n38.03524820000001,-78.49546057242421,1029 WERTLAND ST,0.0,0.0\\n38.03524820000001,-78.49546057242421,1029 WERTLAND ST,0.0,0.0\\n38.0349594,-78.4951866,1029 WERTLAND ST,0.0,0.0\\n38.0349594,-78.4951866,1029 WERTLAND ST,0.0,0.0\\n38.0349594,-78.4951866,1029 WERTLAND ST,0.0,0.3\\n38.03524820000001,-78.49546057242421,1029 WERTLAND ST,0.0,0.0\\n38.03524820000001,-78.49546057242421,1029 WERTLAND ST,0.0,0.0\\n38.0349594,-78.4951866,1029 WERTLAND ST,0.0,0.0\\n38.03524820000001,-78.49546057242421,1029 WERTLAND ST,0.0,0.0\\n38.0349594,-78.4951866,1029 WERTLAND ST,0.0,0.1\\n38.0246294,-78.4684073,156 CARLTON RD,0.0,0.0\\n38.0204345,-78.46783935,1402 MIDLAND ST,0.0,0.0\\n38.031099499999996,-78.47763640000002,500 COURT SQ,1.0,0.3\\n38.0124839,-78.50661120000002,128 LONGWOOD DR,0.0,0.0\\n38.0372326,-78.49861279999998,332 15TH ST,0.0,0.0\\n38.050551,-78.50795500000002,2428 ARLINGTON BLVD,0.0,0.0\\n38.041032200000004,-78.458416,1221 SMITH ST,0.0,0.0\\n38.016174,-78.51203799999998,2709 JEFFERSON PARK AVE,0.0,0.25\\n38.034063700000004,-78.4992675,1395 MAIN ST,0.0,0.2\\n38.0349594,-78.4951866,1029 WERTLAND ST,0.0,0.0\\n38.03524820000001,-78.49546057242421,1029 WERTLAND ST,0.0,0.2\\n38.0349594,-78.4951866,1029 WERTLAND ST,0.0,0.7\\n38.03137260000001,-78.48844600000002,603 MAIN ST,0.0,0.0\\n38.031495,-78.48839799999998,601 MAIN ST,0.0,0.3\\n38.024110799999995,-78.4711318,1109 MYRTLE ST,0.0,0.5\\n38.04261939999999,-78.49821329999997,620 PRESTON PL,0.0,0.0\\n38.042598,-78.496483,805 CABELL AVE,0.0,0.0\\n38.0423247,-78.5022527,40 UNIVERSITY CIR,0.0,0.0\\n38.020055,-78.50747899999998,916 BING LN,0.0,0.0\\n38.04779990000001,-78.50109859999998,906 FENDALL TER,0.0,0.0\\n38.0242939,-78.48129689999998,715 6TH ST,0.0,0.0\\n38.0387265,-78.5079693,205 SPRIGG LN,1.0,1.0\\n38.0387265,-78.5079693,205 SPRIGG LN,1.0,1.0\\n38.0387265,-78.5079693,205 SPRIGG LN,1.0,1.0\\n38.0387265,-78.5079693,205 SPRIGG LN,1.0,1.0\\n38.0387265,-78.5079693,205 SPRIGG LN,1.0,1.0\\n38.0387265,-78.5079693,205 SPRIGG LN,1.0,1.0\\n38.019697,-78.4662957,1504 MIDLAND ST,0.0,0.1\\n38.042763,-78.4959494,811 CABELL AVE,0.0,0.1\\n38.017402600000004,-78.4858277,1606 6TH ST,0.0,0.0\\n38.016712,-78.48590290000001,1600 6TH ST,0.0,0.0\\n38.016712,-78.48590290000001,1600 6TH ST,0.0,0.0\\n38.025447899999996,-78.4755718,148 GOODMAN ST,0.0,0.0\\n38.016712,-78.48590290000001,1600 6TH ST,0.0,0.0\\n38.016712,-78.48590290000001,1600 6TH ST,0.0,0.0\\n38.0258722857143,-78.4777967142857,703 HINTON AVE,0.0,0.0\\n38.023817,-78.462695,1520 MARKET ST,0.0,0.0\\n38.023817,-78.462695,1520 MARKET ST,0.0,0.0\\n38.019463099999996,-78.4726192,1400 MONTICELLO RD,1.0,1.0\\n38.019463099999996,-78.4726192,1400 MONTICELLO RD,1.0,1.0\\n38.019463099999996,-78.4726192,1400 MONTICELLO RD,1.0,1.0\\n38.019463099999996,-78.4726192,1400 MONTICELLO RD,1.0,1.0\\n38.019463099999996,-78.4726192,1400 MONTICELLO RD,1.0,1.0\\n38.019463099999996,-78.4726192,1400 MONTICELLO RD,1.0,1.0\\n38.019463099999996,-78.4726192,1400 MONTICELLO RD,1.0,1.0\\n38.019463099999996,-78.4726192,1400 MONTICELLO RD,1.0,1.0\\n38.019463099999996,-78.4726192,1400 MONTICELLO RD,1.0,1.0\\n38.019463099999996,-78.4726192,1400 MONTICELLO RD,1.0,1.0\\n38.019463099999996,-78.4726192,1400 MONTICELLO RD,1.0,1.0\\n38.019463099999996,-78.4726192,1400 MONTICELLO RD,1.0,1.0\\n38.01932755,-78.4725516251771,1400 MONTICELLO RD,1.0,0.9\\n38.01932755,-78.4725516251771,1400 MONTICELLO RD,1.0,0.9\\n38.01932755,-78.4725516251771,1400 MONTICELLO RD,1.0,0.9\\n38.01932755,-78.4725516251771,1400 MONTICELLO RD,1.0,0.9\\n38.01932755,-78.4725516251771,1400 MONTICELLO RD,1.0,0.9\\n38.01932755,-78.4725516251771,1400 MONTICELLO RD,1.0,0.9\\n38.019463099999996,-78.4726192,1400 MONTICELLO RD,1.0,1.0\\n38.019463099999996,-78.4726192,1400 MONTICELLO RD,1.0,1.0\\n38.019463099999996,-78.4726192,1400 MONTICELLO RD,1.0,1.0\\n38.019463099999996,-78.4726192,1400 MONTICELLO RD,1.0,1.0\\n38.019463099999996,-78.4726192,1400 MONTICELLO RD,1.0,1.0\\n38.019463099999996,-78.4726192,1400 MONTICELLO RD,1.0,1.0\\n38.019463099999996,-78.4726192,1400 MONTICELLO RD,1.0,1.0\\n38.019463099999996,-78.4726192,1400 MONTICELLO RD,1.0,1.0\\n38.019463099999996,-78.4726192,1400 MONTICELLO RD,1.0,1.0\\n38.019463099999996,-78.4726192,1400 MONTICELLO RD,1.0,1.0\\n38.019463099999996,-78.4726192,1400 MONTICELLO RD,1.0,1.0\\n38.019463099999996,-78.4726192,1400 MONTICELLO RD,1.0,1.0\\n38.01932755,-78.4725516251771,1400 MONTICELLO RD,1.0,1.0\\n38.01932755,-78.4725516251771,1400 MONTICELLO RD,1.0,1.0\\n38.01932755,-78.4725516251771,1400 MONTICELLO RD,1.0,1.0\\n38.01932755,-78.4725516251771,1400 MONTICELLO RD,1.0,1.0\\n38.01932755,-78.4725516251771,1400 MONTICELLO RD,1.0,1.0\\n38.01932755,-78.4725516251771,1400 MONTICELLO RD,1.0,1.0\\n38.055653,-78.495475,1 MORTON DR,0.0,0.0\\n38.0450916133355,-78.50405481060709,136 UNIVERSITY GDNS,0.0,0.0\\n38.028868300000006,-78.49364449999999,762 KING ST,0.0,0.0\\n38.0288599,-78.49363290117421,762 KING ST,0.0,0.0\\n38.0288599,-78.49363290117421,762 KING ST,0.0,0.0\\n38.0288599,-78.49363290117421,762 KING ST,0.0,0.0\\n38.0288599,-78.49363290117421,762 KING ST,0.0,0.3333333333333333\\n38.028868300000006,-78.49364449999999,762 KING ST,0.0,0.4\\n38.0288599,-78.49363290117421,762 KING ST,0.0,0.1\\n38.0374783,-78.48851825,901 PRESTON AVE,0.0,0.0\\n38.038019,-78.4907797,946 GRADY AVE,1.0,0.6\\n38.038019,-78.4907797,946 GRADY AVE,1.0,0.6\\n0.0,0.0,310 4TH ST,0.0,0.1\\n38.0409249,-78.4786762,1726 ALLIED ST,0.0,0.0\\n38.0409639,-78.4782546,1717 ALLIED ST,0.0,0.0\\n38.0423112,-78.4844317500838,1111 ROSE HILL DR,0.0,0.7\\n38.0267806,-78.5158945,115 MAURY AVE,0.0,0.2\\n38.0450083872061,-78.5040843039697,122 UNIVERSITY GDNS,0.0,0.0\\n0.0,0.0,1136 EMMET ST,0.0,0.0\\n38.00898295408521,-78.5077111657662,1119 5TH ST,0.0,0.0\\n38.02329595,-78.4741734095838,927 BELMONT AVE,0.0,0.26\\n0.0,0.0,1807 EMMET ST,0.0,0.2\\n38.05040090000001,-78.5044315,975 EMMET ST,0.0,0.0\\n38.0275329,-78.4743156,106 GOODMAN ST,0.0,0.1\\n38.0338369,-78.49459540000002,1010 WERTLAND ST,0.0,0.0\\n38.0340999,-78.4957563,1100 WERTLAND ST,0.0,0.2\\n38.0629749,-78.49290660000003,1921 SWANSON DR,0.0,0.0\\n0.0,0.0,250 MAIN ST,0.0,0.0\\n0.0,0.0,250 MAIN ST,0.0,0.0\\n38.033224,-78.483328,915 HIGH ST,0.0,0.1\\n38.0259936,-78.51375019999998,2104 JEFFERSON PARK AVE,0.0,0.6333333333333333\\n38.0263463,-78.51441439999998,2111 JEFFERSON PARK AVE,0.0,0.7\\n38.0263463,-78.51441439999998,2111 JEFFERSON PARK AVE,0.0,0.0\\n38.02008,-78.466064,500 NASSAU ST,1.0,0.1\\n38.0214124,-78.5176903,2418 SUNSET RD,0.0,0.0\\n38.0259936,-78.51375019999998,2104 JEFFERSON PARK AVE,0.0,0.0\\n38.024040299999996,-78.48322979999998,951 2ND ST,0.0,0.0\\n38.0545954,-78.4998432,2138 BARRACKS RD,0.0,0.3\\n38.048383122449,-78.5045101428571,1935 ARLINGTON BLVD,1.0,0.9\\n38.048383122449,-78.5045101428571,1935 ARLINGTON BLVD,1.0,0.9\\n38.05191660000001,-78.5005882,1133 EMMET ST,0.0,0.1\\n38.0527595,-78.49947840000002,2103 BARRACKS RD,1.0,0.7\\n38.0527595,-78.49947840000002,2103 BARRACKS RD,1.0,0.7\\n0.0,0.0,1044 EMMET ST,0.0,0.0\\n38.0355782,-78.4777474,214 WINE ST,0.0,0.0\\n38.02703560000001,-78.51437,114 OBSERVATORY AVE,0.0,0.1\\n38.0195898,-78.46544820000003,706 FRANKLIN ST,0.0,0.0\\n38.03761850000001,-78.48331929999998,600 CONCORD AVE,0.0,0.2\\n38.050261,-78.5024746,1000 EMMET ST,0.0,0.0\\n38.0516158,-78.50283309999998,1037 EMMET ST,0.0,0.1\\n39.78818,-85.612594,981 2ND ST,0.0,0.1\\n38.0349594,-78.4951866,1029 WERTLAND ST,0.0,0.0\\n38.0349594,-78.4951866,1029 WERTLAND ST,0.0,0.1\\n38.0349594,-78.4951866,1029 WERTLAND ST,0.0,0.0\\n38.0349594,-78.4951866,1029 WERTLAND ST,0.0,0.3\\n38.0349594,-78.4951866,1029 WERTLAND ST,0.0,0.5\\n38.0349594,-78.4951866,1029 WERTLAND ST,0.0,0.0\\n38.0314513,-78.4880031,108 6TH ST,0.0,0.4\\n38.029491260702294,-78.49217692378791,744 NALLE ST,0.0,0.0\\n38.02971300000001,-78.493438,742 NALLE ST,0.0,0.0\\n38.03030045,-78.49414305842029,901 NALLE ST,0.0,0.0\\n38.030119917097394,-78.4937272268715,903 NALLE ST,0.0,0.0\\n38.028667999999996,-78.472376,1015 MARKET ST,0.0,0.2\\n38.064402799999996,-78.4664033,2300 TARLETON DR,0.0,0.4766666666666667\\n38.021361,-78.48679200000002,430 1ST ST,1.0,0.4766666666666667\\n38.0315884,-78.4883718,609 MAIN ST,0.0,0.0\\n38.03151099999999,-78.488855,611 MAIN ST,0.0,0.2\\n0.0,0.0,613 MAIN ST,0.0,0.1\\n0.0,0.0,615 MAIN ST,0.0,0.15\\n38.01519415,-78.50834474337641,101 CHRISTA CT,0.0,0.3\\n38.0292034375,-78.4656818541667,413 MEADE AVE,0.0,0.35\\n38.01932755,-78.4725516251771,1400 MONTICELLO RD,1.0,0.9\\n38.01932755,-78.4725516251771,1400 MONTICELLO RD,1.0,0.9\\n38.01932755,-78.4725516251771,1400 MONTICELLO RD,1.0,0.9\\n38.01932755,-78.4725516251771,1400 MONTICELLO RD,1.0,0.9\\n38.01932755,-78.4725516251771,1400 MONTICELLO RD,1.0,0.9\\n38.01932755,-78.4725516251771,1400 MONTICELLO RD,1.0,0.9\\n38.019463099999996,-78.4726192,1400 MONTICELLO RD,1.0,0.8\\n38.019463099999996,-78.4726192,1400 MONTICELLO RD,1.0,0.8\\n38.019463099999996,-78.4726192,1400 MONTICELLO RD,1.0,0.8\\n38.019463099999996,-78.4726192,1400 MONTICELLO RD,1.0,0.8\\n38.019463099999996,-78.4726192,1400 MONTICELLO RD,1.0,0.8\\n38.019463099999996,-78.4726192,1400 MONTICELLO RD,1.0,0.8\\n38.0342651,-78.4936024007573,201 HOLLY DR,0.0,0.0\\n38.0342651,-78.4936024007573,201 HOLLY DR,0.0,0.0\\n38.02701275,-78.501990608612,1312 NUNLEY ST,0.0,0.0\\n38.02219075,-78.4959188944393,784 PROSPECT AVE,0.0,0.0\\n38.036204395915,-78.4680547315346,824 LOCUST AVE,0.0,0.0\\n38.035964,-78.49381699999998,312 10 1/2 ST,0.0,0.0\\n38.02182515,-78.48074769799929,1000 AVON ST,0.0,0.0\\n38.0133,-78.50669140000002,123 LONGWOOD DR,0.0,0.3\\n38.012787700000004,-78.5063897,124 LONGWOOD DR,0.0,0.0\\n38.04445717808221,-78.4566691575343,1010 LOCUST LN,0.0,0.0\\n38.04037915,-78.4846571071186,1000 ROSE HILL DR,0.0,0.0\\n38.0226199865604,-78.4697565032063,1307 CARLTON AVE,0.0,0.0\\n38.0295445,-78.5049918,583 BRANDON AVE,1.0,0.0\\n38.06313069999999,-78.48853829999999,190 ZAN RD,0.0,0.6714285714285715\\n38.031929999999996,-78.475601,408 7TH ST,0.0,0.0\\n38.065905900000004,-78.4872262,1101 SEMINOLE TRL,1.0,0.9\\n38.065905900000004,-78.4872262,1101 SEMINOLE TRL,1.0,0.9\\n38.065905900000004,-78.4872262,1101 SEMINOLE TRL,1.0,0.9\\n38.06527620000001,-78.48796690000002,1149 SEMINOLE TRL,0.0,0.1\\n38.0638566,-78.48822229999998,199 ZAN RD,0.0,0.0\\n38.0206915,-78.4646183,1500 CARLTON AVE,0.0,0.0\\n38.0206915,-78.4646183,1500 CARLTON AVE,0.0,0.0\\n38.030985,-78.481796,109 MAIN ST,0.0,0.0\\n38.030985,-78.481796,109 MAIN ST,0.0,0.0\\n38.030985,-78.481796,109 MAIN ST,0.0,0.0\\n38.030985,-78.481796,109 MAIN ST,0.0,0.3\\n38.019463099999996,-78.4726192,1400 MONTICELLO RD,1.0,1.0\\n38.019463099999996,-78.4726192,1400 MONTICELLO RD,1.0,1.0\\n38.019463099999996,-78.4726192,1400 MONTICELLO RD,1.0,1.0\\n38.019463099999996,-78.4726192,1400 MONTICELLO RD,1.0,1.0\\n38.019463099999996,-78.4726192,1400 MONTICELLO RD,1.0,1.0\\n38.019463099999996,-78.4726192,1400 MONTICELLO RD,1.0,1.0\\n38.019463099999996,-78.4726192,1400 MONTICELLO RD,1.0,1.0\\n38.019463099999996,-78.4726192,1400 MONTICELLO RD,1.0,1.0\\n38.019463099999996,-78.4726192,1400 MONTICELLO RD,1.0,1.0\\n38.019463099999996,-78.4726192,1400 MONTICELLO RD,1.0,1.0\\n38.019463099999996,-78.4726192,1400 MONTICELLO RD,1.0,1.0\\n38.019463099999996,-78.4726192,1400 MONTICELLO RD,1.0,1.0\\n38.019463099999996,-78.4726192,1400 MONTICELLO RD,1.0,0.7\\n38.019463099999996,-78.4726192,1400 MONTICELLO RD,1.0,0.7\\n38.019463099999996,-78.4726192,1400 MONTICELLO RD,1.0,0.7\\n38.019463099999996,-78.4726192,1400 MONTICELLO RD,1.0,0.7\\n38.019463099999996,-78.4726192,1400 MONTICELLO RD,1.0,0.7\\n38.019463099999996,-78.4726192,1400 MONTICELLO RD,1.0,0.7\\n38.02375869999999,-78.4947143,730 PROSPECT AVE,0.0,0.0\\n38.0612834,-78.48578459999997,2111 MICHIE DR,0.0,0.0\\n38.0427979,-78.5125012,2130 IVY RD,0.0,0.0\\n38.019463099999996,-78.4726192,1400 MONTICELLO RD,1.0,1.0\\n38.019463099999996,-78.4726192,1400 MONTICELLO RD,1.0,1.0\\n38.019463099999996,-78.4726192,1400 MONTICELLO RD,1.0,1.0\\n38.019463099999996,-78.4726192,1400 MONTICELLO RD,1.0,1.0\\n38.019463099999996,-78.4726192,1400 MONTICELLO RD,1.0,1.0\\n38.019463099999996,-78.4726192,1400 MONTICELLO RD,1.0,1.0\\n38.019463099999996,-78.4726192,1400 MONTICELLO RD,1.0,0.9\\n38.019463099999996,-78.4726192,1400 MONTICELLO RD,1.0,0.9\\n38.019463099999996,-78.4726192,1400 MONTICELLO RD,1.0,0.9\\n38.019463099999996,-78.4726192,1400 MONTICELLO RD,1.0,0.9\\n38.019463099999996,-78.4726192,1400 MONTICELLO RD,1.0,0.9\\n38.019463099999996,-78.4726192,1400 MONTICELLO RD,1.0,0.9\\n38.0233875,-78.4733074,1000 MONTICELLO RD,0.0,0.0\\n38.025745,-78.521019,103 SUMMIT ST,0.0,0.0\\n38.0343415,-78.48174329999998,411 ALTAMONT ST,0.0,0.1\\n38.02556455,-78.4880391555195,528 RIDGE ST,0.0,0.1\\n38.0392352,-78.48923119999998,926 CHARLTON AVE,0.0,0.0\\n38.039131,-78.48905500000002,922 CHARLTON AVE,0.0,0.5\\n38.0382718,-78.4996338,1522 VIRGINIA AVE,0.0,0.5\\n38.0429573,-78.50018859999999,611 RUGBY RD,0.0,0.0\\n38.0429573,-78.50018859999999,611 RUGBY RD,0.0,0.0\\n38.0420085330147,-78.5003966883926,611 RUGBY RD,0.0,0.3333333333333333\\n38.0429573,-78.50018859999999,611 RUGBY RD,0.0,0.0\\n38.0342253,-78.4985213870145,1308 WERTLAND ST,0.0,0.2\\n38.0342253,-78.4985213870145,1308 WERTLAND ST,0.0,0.25\\n38.034298,-78.49835,1308 WERTLAND ST,0.0,0.0\\n38.0342253,-78.4985213870145,1308 WERTLAND ST,0.0,0.0\\n38.034298,-78.49835,1308 WERTLAND ST,0.0,0.0\\n38.034298,-78.49835,1308 WERTLAND ST,0.0,0.0\\n38.034298,-78.49835,1308 WERTLAND ST,0.0,0.0\\n38.0342253,-78.4985213870145,1308 WERTLAND ST,0.0,0.0\\n38.0342253,-78.4985213870145,1308 WERTLAND ST,0.0,0.1\\n38.0342253,-78.4985213870145,1308 WERTLAND ST,0.0,0.2\\n38.034298,-78.49835,1308 WERTLAND ST,0.0,0.0\\n38.0667,-78.48671999999998,230 ZAN RD,0.0,0.0\\n38.03524820000001,-78.49546057242421,1029 WERTLAND ST,0.0,0.04\\n38.0229125,-78.4953578,768 PROSPECT AVE,0.0,0.1\\n38.0604007405818,-78.4867794858263,2111 MICHIE DR,0.0,0.0\\n38.0612834,-78.48578459999997,2111 MICHIE DR,0.0,0.0\\n38.02281729999999,-78.4954315,772 PROSPECT AVE,0.0,0.0\\n0.0,0.0,1327 MAIN ST,0.0,0.0\\n39.78818,-85.612594,110 2ND ST,0.0,0.0\\n0.0,0.0,417 MAIN ST,0.0,0.0\\n38.0604007405818,-78.4867794858263,2111 MICHIE DR,0.0,0.0\\n38.0344837,-78.4638052,1407 GRACE ST,0.0,0.0\\n38.04992,-78.506354,2101 ARLINGTON BLVD,0.0,0.0\\n38.010414,-78.505528,800 5TH ST,0.0,0.1\\n38.0612834,-78.48578459999997,2111 MICHIE DR,0.0,0.0\\n38.0612834,-78.48578459999997,2111 MICHIE DR,0.0,0.0\\n38.0612834,-78.48578459999997,2111 MICHIE DR,0.0,0.5\\n38.041393906108496,-78.4623535488452,1039 LOCUST AVE,0.0,0.5016666666666667\\n38.019463099999996,-78.4726192,1400 MONTICELLO RD,1.0,1.0\\n38.019463099999996,-78.4726192,1400 MONTICELLO RD,1.0,1.0\\n38.019463099999996,-78.4726192,1400 MONTICELLO RD,1.0,1.0\\n38.019463099999996,-78.4726192,1400 MONTICELLO RD,1.0,1.0\\n38.019463099999996,-78.4726192,1400 MONTICELLO RD,1.0,1.0\\n38.019463099999996,-78.4726192,1400 MONTICELLO RD,1.0,1.0\\n38.019463099999996,-78.4726192,1400 MONTICELLO RD,1.0,0.9\\n38.019463099999996,-78.4726192,1400 MONTICELLO RD,1.0,0.9\\n38.019463099999996,-78.4726192,1400 MONTICELLO RD,1.0,0.9\\n38.019463099999996,-78.4726192,1400 MONTICELLO RD,1.0,0.9\\n38.019463099999996,-78.4726192,1400 MONTICELLO RD,1.0,0.9\\n38.019463099999996,-78.4726192,1400 MONTICELLO RD,1.0,0.9\\n38.019463099999996,-78.4726192,1400 MONTICELLO RD,1.0,1.0\\n38.019463099999996,-78.4726192,1400 MONTICELLO RD,1.0,1.0\\n38.019463099999996,-78.4726192,1400 MONTICELLO RD,1.0,1.0\\n38.019463099999996,-78.4726192,1400 MONTICELLO RD,1.0,1.0\\n38.019463099999996,-78.4726192,1400 MONTICELLO RD,1.0,1.0\\n38.019463099999996,-78.4726192,1400 MONTICELLO RD,1.0,1.0\\n38.0423017,-78.4890609163237,1619 MADISON AVE,0.0,0.1\\n38.04232349999999,-78.4890241,1619 MADISON AVE,0.0,0.0\\n38.042195,-78.48813620000001,1611 MADISON AVE,0.0,0.3\\n38.0296233,-78.50833370000002,1712 JEFFERSON PARK AVE,0.0,0.1\\n38.0296233,-78.50833370000002,1712 JEFFERSON PARK AVE,0.0,0.1\\n38.0304529,-78.47852440000003,408 MARKET ST,0.0,0.1\\n38.026302799999996,-78.5189413,2401 FONTAINE AVE,0.0,0.0\\n38.0432619,-78.4944342,818 CABELL AVE,0.0,0.0\\n38.0250792,-78.4788574,601 AVON ST,0.0,0.025\\n38.0250792,-78.4788574,601 AVON ST,0.0,0.0\\n38.02787429999999,-78.4801032,426 GARRETT ST,0.0,0.0\\n38.026205499999996,-78.5160685,2205 FONTAINE AVE,0.0,0.0\\n38.0371122,-78.50069909999998,132 CHANCELLOR ST,0.0,0.0\\n38.0303769,-78.48180649999998,107 1ST ST,0.0,0.0\\n38.0413388,-78.49619349999998,611 MADISON AVE,0.0,0.0\\n38.0409257,-78.4957182,615 MADISON AVE,0.0,0.0\\n38.0420604,-78.50267439999998,39 UNIVERSITY CIR,0.0,0.0\\n38.0415841,-78.4931119,748 MADISON AVE,0.0,0.5\\n38.04177410000001,-78.49750300000002,627 CABELL AVE,0.0,0.5\\n38.02662760000001,-78.51242359999998,1918 JEFFERSON PARK AVE,0.0,0.3\\n38.027296299999996,-78.5124615,100 HARMON ST,0.0,0.3\\n38.041358100000004,-78.49376649999998,712 MADISON AVE,0.0,0.0\\n38.0432487,-78.49446390000001,816 CABELL AVE,0.0,0.0\\n38.0432487,-78.49446390000001,816 CABELL AVE,0.0,0.0\\n38.0432185238095,-78.4942836190476,816 CABELL AVE,0.0,0.2\\n38.021918400000004,-78.4832083,1101 6TH ST,0.0,0.0\\n38.0303769,-78.48180649999998,107 1ST ST,0.0,0.3\\n38.0292108,-78.50558458081109,524 VALLEY RD,0.0,0.07333333333333333\\n38.035406,-78.466161,814 ST CLAIR AVE,0.0,0.0\\n38.031099499999996,-78.47763640000002,500 COURT SQ,1.0,0.0\\n38.0371122,-78.50069909999998,132 CHANCELLOR ST,0.0,0.0\\n0.0,0.0,501 17TH ST,0.0,0.0\\n38.0449732186448,-78.5040984122878,116 UNIVERSITY GDNS,0.0,0.3\\n38.044927200000004,-78.5037272,118 UNIVERSITY GDNS,0.0,0.0\\n38.045075399999995,-78.5036803,136 UNIVERSITY GDNS,0.0,0.0\\n38.0450916133355,-78.50405481060709,136 UNIVERSITY GDNS,0.0,0.0\\n38.045075399999995,-78.5036803,136 UNIVERSITY GDNS,0.0,0.0\\n38.0264105,-78.51295739999998,2002 JEFFERSON PARK AVE,0.0,0.0\\n38.0214787,-78.51236861898359,2321 CRESTMONT AVE,0.0,0.2\\n38.027506,-78.5108637,1830 JEFFERSON PARK AVE,0.0,0.3\\n38.0384012812609,-78.51227913890341,1964 LEWIS MOUNTAIN RD,0.0,0.0\\n38.04136700000001,-78.49732890000001,608 CABELL AVE,0.0,0.0\\n38.0384909472797,-78.5139025800526,2003 LEWIS MOUNTAIN RD,0.0,0.0\\n38.04140220000001,-78.50158689999998,68 UNIVERSITY WAY,0.0,0.1\\n38.0300285,-78.50956540000001,206 MONTEBELLO CIR,0.0,0.8\\n38.02916555,-78.510998370618,116 CHELSEA DR,0.0,0.1\\n38.028868300000006,-78.49364449999999,762 KING ST,0.0,0.0\\n38.0288599,-78.49363290117421,762 KING ST,0.0,0.1\\n38.0288599,-78.49363290117421,762 KING ST,0.0,0.0\\n38.028868300000006,-78.49364449999999,762 KING ST,0.0,0.0\\n38.028868300000006,-78.49364449999999,762 KING ST,0.0,0.0\\n38.028868300000006,-78.49364449999999,762 KING ST,0.0,0.1\\n38.028868300000006,-78.49364449999999,762 KING ST,0.0,0.0\\n38.028868300000006,-78.49364449999999,762 KING ST,0.0,0.0\\n38.0244641,-78.4755275,824 HINTON AVE,0.0,0.0\\n38.0374836,-78.488558,901 PRESTON AVE,0.0,0.0\\n38.034298,-78.49835,1308 WERTLAND ST,0.0,0.1\\n38.037581700000004,-78.48769229999998,700 ROSE HILL DR,0.0,0.0\\n38.0318829,-78.4707099,400 LOCUST AVE,0.0,0.0\\n38.02801229999999,-78.47612679999997,110 AVON ST,0.0,0.0\\n0.0,0.0,600 WATER ST,0.0,0.1\\n38.028143,-78.4823369120483,200 GARRETT ST,1.0,0.7\\n38.0187692,-78.48307390000002,1320 AVON ST,0.0,0.1\\n38.028224,-78.4836301,111 MONTICELLO AVE,1.0,0.6\\n38.030142299999994,-78.4814828,107 WATER ST,0.0,0.1\\n38.0374836,-78.488558,901 PRESTON AVE,0.0,0.0625\\n38.030142299999994,-78.4814828,107 WATER ST,0.0,0.1\\n0.0,0.0,107 WATER ST,0.0,0.1\\n38.0206396,-78.51245305,123 CLEVELAND AVE,0.0,0.3\\n38.038135600000004,-78.484629,711 HENRY AVE,0.0,0.0\\n38.021495,-78.51653999999998,2421 JEFFERSON PARK AVE,0.0,0.0\\n38.030596,-78.49225729999998,700 WALKER SQ,0.0,0.1\\n38.030596,-78.49225729999998,700 WALKER SQ,0.0,0.0\\n38.03673670000001,-78.4923536,344 10TH ST,0.0,0.0\\n38.0516479,-78.48884659999999,1404 RUGBY RD,0.0,0.1\\n38.066109,-78.475462,1946 MICHAEL PL,0.0,0.0\\n38.066109,-78.475462,1948 MICHAEL PL,0.0,0.0\\n38.0651229,-78.47539429999998,2205 BRANDYWINE DR,0.0,0.2\\n38.0435801568116,-78.4615614312318,1103 ST CHARLES CT,1.0,0.1\\n0.0,0.0,1605 6TH ST,0.0,0.0\\n38.02055175,-78.4816983667166,1120 AVON ST,0.0,0.1\\n38.0204309,-78.4822305269542,1201 AVON ST,0.0,0.0\\n38.02928375,-78.498795820149,1022 GROVE ST,1.0,0.7\\n38.02928375,-78.498795820149,1022 GROVE ST,1.0,0.7\\n38.03779979999999,-78.5123448,1951 THOMSON RD,0.0,0.0\\n38.037777899999995,-78.51212290000002,1947 THOMSON RD,0.0,0.0\\n38.0343624,-78.4906223,809 PAGE ST,0.0,0.0\\n38.0344329,-78.48844620000001,701 ANDERSON ST,0.0,0.0\\n38.035188,-78.48977099999998,803 ANDERSON ST,0.0,0.0\\n38.035113,-78.48868999999998,720 WEST ST,0.0,0.2\\n38.0461969,-78.4810226370605,1407 RUTLEDGE AVE,0.0,0.9\\n38.046258200000004,-78.4805445,1117 SHERWOOD RD,0.0,0.1\\n38.0262819,-78.50952567875609,212 SHAMROCK RD,0.0,0.2\\n38.0299438,-78.49008959999998,304 7TH ST,0.0,0.0\\n38.02141375,-78.4747145799026,706 CASTALIA ST,0.0,0.2\\n38.030501306122396,-78.4906468163265,735 WALKER SQ,0.0,0.0\\n38.021629,-78.47450620000002,702 CASTALIA ST,0.0,0.0\\n38.016907,-78.472325,947 RIVES ST,0.0,0.0\\n38.05444045338871,-78.47865,1603 CONCORD DR,0.0,0.67\\n38.0543359522751,-78.47627377389921,1443 GROVE RD,0.0,0.0\\n38.054227,-78.47541600000002,1434 GROVE RD,0.0,0.0\\n38.05404145100189,-78.47871847837291,1502 GROVE RD,0.0,0.0\\n38.054043,-78.478674,1500 GROVE RD,0.0,0.0\\n38.0239812,-78.4644051,134 LEAKE LN,0.0,0.1\\n38.0254886,-78.47773629999998,704 HINTON AVE,0.0,0.0\\n38.0402349,-78.49823549999998,508 16TH ST,0.0,0.0\\n0.0,0.0,500 12TH ST,0.0,0.0\\n38.03440429999999,-78.49194490511829,836 PAGE ST,0.0,0.1\\n38.020482799999996,-78.5042058,1608 TRAILRIDGE RD,1.0,0.4833333333333334\\n38.04409329999999,-78.4842295,1500 WESTWOOD RD,0.0,0.0\\n38.060441,-78.48289760000002,1643 KEITH VALLEY RD,0.0,0.1\\n38.060688899999995,-78.48045570000002,1708 KING MOUNTAIN RD,0.0,0.1\\n38.02556720000001,-78.5173543,2308 FONTAINE AVE,0.0,0.0\\n38.0258385,-78.51725649999999,2308 FONTAINE AVE,0.0,0.0\\n38.03077965,-78.49219295,801 WALKER SQ,0.0,0.6\\n38.030544899999995,-78.491473,801 WALKER SQ,0.0,0.0\\n38.03077965,-78.49219295,801 WALKER SQ,0.0,0.0\\n38.03857070000001,-78.48862530000002,631 BOOKER ST,0.0,0.0\\n38.0381703,-78.4618958,1209 RIVER VISTA AVE,0.0,0.0\\n38.01727750000001,-78.48662680000002,1601 6TH ST,0.0,0.1\\n38.03529955,-78.4888562508312,728 WEST ST,0.0,0.0\\n38.0351297,-78.49301949999997,925 PAGE ST,0.0,0.1\\n38.03516415,-78.49054026740521,814 ANDERSON ST,0.0,0.0\\n38.0177242,-78.4845402,1510 EARLY ST,0.0,0.0\\n38.0176612,-78.48172694687091,1406 RIALTO ST,0.0,0.0\\n38.0358007,-78.4984027,224 14TH ST,0.0,0.0\\n38.02800425,-78.5113212591448,1821 JEFFERSON PARK AVE,0.0,0.0\\n38.033823100000006,-78.47939020000003,415 2ND ST,0.0,0.7\\n38.033823100000006,-78.47939020000003,415 2ND ST,0.0,0.35\\n38.0277104,-78.4712206,1118 MARKET ST,0.0,0.1\\n38.0596861707317,-78.4957332195122,2118 ANGUS RD,0.0,0.0\\n38.04033670000001,-78.497614,1500 GRADY AVE,0.0,0.0\\n38.04033670000001,-78.497614,1500 GRADY AVE,0.0,0.3\\n38.0413468,-78.49361640000002,726 MADISON AVE,0.0,0.0\\n38.028643,-78.5090309,1800 JEFFERSON PARK AVE,0.0,0.0\\n38.028643,-78.5090309,1800 JEFFERSON PARK AVE,0.0,0.0\\n38.028643,-78.5090309,1800 JEFFERSON PARK AVE,0.0,0.1\\n38.0275436,-78.5090694,1800 JEFFERSON PARK AVE,0.0,0.1\\n38.028643,-78.5090309,1800 JEFFERSON PARK AVE,0.0,0.04\\n0.0,0.0,123 MAIN ST,0.0,0.2\\n38.0275436,-78.5090694,1800 JEFFERSON PARK AVE,0.0,0.0\\n38.0275436,-78.5090694,1800 JEFFERSON PARK AVE,0.0,0.0\\n38.028643,-78.5090309,1800 JEFFERSON PARK AVE,0.0,0.0\\n38.0275436,-78.5090694,1800 JEFFERSON PARK AVE,0.0,0.3\\n38.0275436,-78.5090694,1800 JEFFERSON PARK AVE,0.0,0.0\\n38.028643,-78.5090309,1800 JEFFERSON PARK AVE,0.0,0.0\\n38.0275436,-78.5090694,1800 JEFFERSON PARK AVE,0.0,0.0\\n38.0384359,-78.488764072651,629 BOOKER ST,0.0,0.1\\n38.01868620000001,-78.49657549999998,1049 5TH ST,0.0,0.0\\n38.028643,-78.5090309,1800 JEFFERSON PARK AVE,0.0,0.4\\n38.0275436,-78.5090694,1800 JEFFERSON PARK AVE,0.0,0.1\\n38.03130170000001,-78.4827145,225 MAIN ST,0.0,0.1\\n38.01932755,-78.4725516251771,1400 MONTICELLO RD,1.0,0.8\\n38.01932755,-78.4725516251771,1400 MONTICELLO RD,1.0,0.8\\n38.01932755,-78.4725516251771,1400 MONTICELLO RD,1.0,0.8\\n38.01932755,-78.4725516251771,1400 MONTICELLO RD,1.0,0.8\\n38.01932755,-78.4725516251771,1400 MONTICELLO RD,1.0,0.8\\n38.01932755,-78.4725516251771,1400 MONTICELLO RD,1.0,0.8\\n38.0307356,-78.48081599999998,123 MAIN ST,0.0,0.0\\n38.0312755714286,-78.5031075714286,429 MONROE LN,0.0,0.21666666666666665\\n38.0275209,-78.4742305,106 GOODMAN ST,0.0,0.0\\n38.04837984693879,-78.5045045714286,1932 ARLINGTON BLVD,0.0,0.0\\n38.04827890000001,-78.50553740000002,1932 ARLINGTON BLVD,0.0,0.0\\n38.04837984693879,-78.5045045714286,1932 ARLINGTON BLVD,0.0,0.0\\n38.0631288,-78.492441,2115 HYDRAULIC RD,0.0,0.1\\n38.0599894,-78.49503940000002,2114 ANGUS RD,0.0,0.0\\n38.059526,-78.495474,2114 ANGUS RD,0.0,0.0\\n38.048371112244894,-78.50448971428571,1924 ARLINGTON BLVD,0.0,0.6\\n38.0360726,-78.49973472559671,301 15TH ST,0.0,0.0\\n38.0370019,-78.4997891,301 15TH ST,0.0,0.0\\n38.0360726,-78.49973472559671,301 15TH ST,0.0,0.0\\n38.0370019,-78.4997891,301 15TH ST,0.0,0.0\\n38.0370019,-78.4997891,301 15TH ST,0.0,0.0\\n38.0306941,-78.49096515152941,725 WALKER SQ,1.0,0.13999999999999999\\n38.02693259999999,-78.51146290000001,1904 JEFFERSON PARK AVE,0.0,0.0\\n38.0294292,-78.50678020000002,209 VALLEY RD,0.0,0.0\\n38.02693,-78.51151312647892,1904 JEFFERSON PARK AVE,0.0,0.0\\n38.02693259999999,-78.51146290000001,1904 JEFFERSON PARK AVE,0.0,0.0\\n38.0360726,-78.49973472559671,301 15TH ST,0.0,0.1\\n38.042783,-78.510077,2021 IVY RD,0.0,0.0\\n38.03413610000001,-78.4808684520083,11 ALTAMONT CIR,0.0,0.0\\n38.0425036,-78.49288309999999,1129 PRESTON AVE,0.0,0.3\\n38.042783,-78.510077,2021 IVY RD,0.0,0.0\\n38.042783,-78.510077,2021 IVY RD,0.0,0.4291666666666667\\n38.041824,-78.510053,2021 IVY RD,0.0,0.0\\n38.0341836,-78.4808704,11 ALTAMONT CIR,0.0,0.0\\n38.042783,-78.510077,2021 IVY RD,0.0,0.0\\n38.042783,-78.510077,2021 IVY RD,0.0,0.0\\n38.042783,-78.510077,2021 IVY RD,0.0,0.3\\n38.042783,-78.510077,2021 IVY RD,0.0,0.0\\n38.041824,-78.510053,2021 IVY RD,0.0,0.0\\n38.042783,-78.510077,2021 IVY RD,0.0,0.0\\n38.042783,-78.510077,2021 IVY RD,0.0,0.5\\n38.042783,-78.510077,2021 IVY RD,0.0,0.0\\n38.0284773,-78.51057519999998,1815 JEFFERSON PARK AVE,0.0,0.0\\n38.02693259999999,-78.51146290000001,1904 JEFFERSON PARK AVE,0.0,0.1\\n38.02693259999999,-78.51146290000001,1904 JEFFERSON PARK AVE,0.0,0.0\\n38.02693,-78.51151312647892,1904 JEFFERSON PARK AVE,0.0,0.1\\n38.0292497,-78.5101313,112 MONTEBELLO CIR,0.0,0.1\\n0.0,0.0,205 14TH ST,0.0,0.9\\n38.02932075,-78.5100591982524,112 MONTEBELLO CIR,0.0,0.0\\n38.0275436,-78.5090694,1800 JEFFERSON PARK AVE,0.0,0.2\\n38.0381083,-78.5148525,2014 LEWIS MOUNTAIN RD,1.0,0.1\\n38.0450552786211,-78.5040654928788,130 UNIVERSITY GDNS,0.0,0.0\\n38.0305424,-78.4643825,510 MEADE AVE,0.0,0.2\\n38.028396799999996,-78.46331670000002,414 FAIRWAY AVE,0.0,0.0\\n38.02381795,-78.48067132354021,614 BOLLING AVE,0.0,0.0\\n38.0270676,-78.50648340583992,114 DAVID TER,0.0,0.0\\n38.0590584,-78.48874839999998,2021 MICHIE DR,0.0,0.0\\n38.014024,-78.4699282681532,1002 LINDEN AVE,0.0,0.0\\n38.0022348,-78.5258563,1623 GROVE ST EXT,0.0,0.3\\n38.0267516,-78.50487159999999,317 VALLEY RD EXT,0.0,0.0\\n38.02347555,-78.47010478569891,221 CARLTON RD,0.0,0.72\\n38.01932755,-78.4725516251771,1400 MONTICELLO RD,1.0,0.9\\n38.01932755,-78.4725516251771,1400 MONTICELLO RD,1.0,0.9\\n38.01932755,-78.4725516251771,1400 MONTICELLO RD,1.0,0.9\\n38.01932755,-78.4725516251771,1400 MONTICELLO RD,1.0,0.9\\n38.01932755,-78.4725516251771,1400 MONTICELLO RD,1.0,0.9\\n38.01932755,-78.4725516251771,1400 MONTICELLO RD,1.0,0.9\\n38.0237334,-78.4699995,221 CARLTON RD,0.0,0.0\\n38.02761915,-78.50302390771759,401 PATON ST,0.0,0.0\\n38.0317403,-78.48190140000001,609 MARKET ST,0.0,0.1\\n38.03016775,-78.49060737071571,702 DELEVAN ST,0.0,0.0\\n38.033181,-78.467726,1200 POPLAR ST,0.0,0.1\\n38.0311347,-78.47743349999998,500 COURT SQ,0.0,0.0\\n38.031099499999996,-78.47763640000002,500 COURT SQ,1.0,0.3\\n38.0311347,-78.47743349999998,500 COURT SQ,0.0,0.0\\n38.048432255102,-78.5045937142857,1980 ARLINGTON BLVD,0.0,0.4833333333333334\\n38.0320186,-78.475452,701 HIGH ST,0.0,0.0\\n38.02226445,-78.52105859999998,228 STRIBLING AVE,0.0,0.0\\n38.0311347,-78.47743349999998,500 COURT SQ,0.0,0.0\\n38.031099499999996,-78.47763640000002,500 COURT SQ,1.0,0.0\\n38.031099499999996,-78.47763640000002,500 COURT SQ,1.0,0.0\\n38.029538,-78.49903652076709,1025 GROVE ST,0.0,0.0\\n38.02839555,-78.5032544494226,301 PATON ST,0.0,0.0\\n38.0197475,-78.5119907080532,2510 WOODLAND DR,0.0,0.0\\n38.0197299,-78.5119844,2510 WOODLAND DR,0.0,0.0\\n38.0358727,-78.4749502,630 PARK ST,0.0,0.0\\n38.0358727,-78.4749502,630 PARK ST,0.0,0.0\\n38.018325,-78.4852506,1506 6TH ST,0.0,0.0\\n38.018170500000004,-78.48533940000002,1508 6TH ST,0.0,0.0\\n38.0186613,-78.4885475,106 HARTMANS MILL RD,0.0,0.0\\n38.038472999999996,-78.4711318,712 LYONS AVE,0.0,0.0\\n38.03364029999999,-78.48125490000002,402 ALTAMONT CIR,0.0,0.1\\n38.0311209,-78.47372920000002,820 HIGH ST,0.0,0.0\\n38.0242896,-78.47623779999998,813 BELMONT AVE,0.0,0.0\\n38.0197226,-78.48493979999998,512 STONEHENGE AVE,0.0,0.3\\n38.026274,-78.51306070000003,2006 JEFFERSON PARK AVE,0.0,0.2\\n38.02625250000001,-78.51306425,2006 JEFFERSON PARK AVE,0.0,0.0\\n38.026274,-78.51306070000003,2006 JEFFERSON PARK AVE,0.0,0.0\\n38.0418263,-78.4934602,732 MADISON AVE,0.0,0.1\\n38.0418263,-78.4934602,732 MADISON AVE,0.0,0.0\\n38.04159600000001,-78.4933851,736 MADISON AVE,0.0,0.0\\n38.04159600000001,-78.4933851,736 MADISON AVE,0.0,0.0\\n38.041594,-78.4933396,738 MADISON AVE,0.0,0.0\\n38.031053299999996,-78.46408269999998,518 MEADE AVE,0.0,0.0\\n38.034061200000004,-78.4855074,401 4TH ST,1.0,0.8\\n38.034061200000004,-78.4855074,401 4TH ST,1.0,0.0\\n38.034061200000004,-78.4855074,401 4TH ST,1.0,0.0\\n38.0158869,-78.4707099,1009 LINDEN AVE,0.0,0.0\\n38.02735775,-78.47422765,110 GOODMAN ST,0.0,0.0\\n38.0272025,-78.46835659999998,1215 MARKET ST,0.0,0.0\\n38.0374836,-78.488558,901 PRESTON AVE,0.0,0.0\\n38.02735775,-78.47422765,110 GOODMAN ST,0.0,0.0\\n38.05642110000001,-78.4969038,1417 EMMET ST,0.0,0.0\\n38.0374836,-78.488558,901 PRESTON AVE,0.0,0.0\\n38.027614899999996,-78.5101481,109 CARROLLTON TER,0.0,0.0\\n38.041901,-78.492124,1000 PRESTON AVE,0.0,0.5\\n38.0312755714286,-78.5031075714286,429 MONROE LN,0.0,0.2\\n38.0363208,-78.50012199999998,17 ELLIEWOOD AVE,0.0,0.0\\n0.0,0.0,404 8TH ST,0.0,0.0\\n38.033224,-78.483328,818 HIGH ST,0.0,0.0\\n38.033224,-78.483328,1134 HIGH ST,0.0,0.0\\n38.0395458449544,-78.4560352837027,1145 RIVER RD,0.0,0.1\\n38.01932755,-78.4725516251771,1400 MONTICELLO RD,1.0,1.0\\n38.01932755,-78.4725516251771,1400 MONTICELLO RD,1.0,1.0\\n38.01932755,-78.4725516251771,1400 MONTICELLO RD,1.0,1.0\\n38.01932755,-78.4725516251771,1400 MONTICELLO RD,1.0,1.0\\n38.01932755,-78.4725516251771,1400 MONTICELLO RD,1.0,1.0\\n38.01932755,-78.4725516251771,1400 MONTICELLO RD,1.0,1.0\\n38.0304529,-78.47852440000003,408 MARKET ST,0.0,0.1\\n38.04157319999999,-78.49276619999998,766 MADISON AVE,0.0,0.0\\n38.03484264122989,-78.46103058957671,1322 RIVERDALE DR,0.0,0.0\\n38.034829190085,-78.46101207139859,1324 RIVERDALE DR,0.0,0.0\\n38.0317403,-78.48190140000001,408 MARKET ST,0.0,0.0\\n38.059526,-78.495474,2114 ANGUS RD,0.0,0.06666666666666667\\n38.059526,-78.495474,2114 ANGUS RD,0.0,0.0\\n38.030982,-78.502988,428 MONROE LN,0.0,0.0\\n38.030982,-78.502988,428 MONROE LN,0.0,0.0\\n38.044914604376004,-78.5041219261515,106 UNIVERSITY GDNS,0.0,0.0\\n38.048371112244894,-78.50448971428571,1924 ARLINGTON BLVD,0.0,0.0\\n38.048371112244894,-78.50448971428571,1924 ARLINGTON BLVD,0.0,0.0\\n38.0281669,-78.51519517320119,2006 STADIUM RD,0.0,0.0\\n38.04146315,-78.4989107451958,1600 GRADY AVE,0.0,0.0\\n38.016712,-78.48590290000001,1600 6TH ST,0.0,0.0\\n0.0,0.0,1600 6TH ST,0.0,0.0\\n0.0,0.0,1600 6TH ST,0.0,0.0\\n38.0244385,-78.47361819999998,1009 CARLTON AVE,0.0,0.0\\n38.0161228,-78.513793,204 MONTE VISTA AVE,0.0,0.0\\n0.0,0.0,411 VALLEY RD EXT,0.0,0.0\\n38.0255855,-78.5038063,417 VALLEY RD EXT,0.0,0.2\\n0.0,0.0,312 VALLEY RD EXT,0.0,0.0\\n38.0263248,-78.5015016114628,1305 CHERRY AVE,0.0,0.12666666666666665\\n38.0414838,-78.49890129999999,1600 GRADY AVE,0.0,0.2\\n38.05028445808379,-78.50729508634541,2401 ARLINGTON BLVD,0.0,0.0\\n38.05092,-78.50729059999998,2401 ARLINGTON BLVD,0.0,0.0\\n38.05092,-78.50729059999998,2401 ARLINGTON BLVD,0.0,0.0\\n38.05092,-78.50729059999998,2401 ARLINGTON BLVD,0.0,0.0\\n38.05092,-78.50729059999998,2401 ARLINGTON BLVD,0.0,0.0\\n38.031472,-78.502832,416 MONROE LN,0.0,0.0\\n38.01425915,-78.4700249587779,1000 LINDEN AVE,0.0,0.0\\n38.0317403,-78.48190140000001,1006 MARKET ST,0.0,0.0\\n38.0276478,-78.4823426,455 2ND ST,0.0,0.0\\n38.059905,-78.495705,2118 ANGUS RD,0.0,0.0\\n38.060242673721106,-78.4961868351162,2206 NORTH BERKSHIRE RD,0.0,0.0\\n38.0598028,-78.49665959999999,2121 ANGUS RD,0.0,0.0\\n38.04223320000001,-78.4941283,824 CABELL AVE,0.0,0.0\\n38.060242673721106,-78.4961868351162,2206 NORTH BERKSHIRE RD,0.0,0.2\\n38.014522799999995,-78.50505140000001,102 LONGWOOD DR,0.0,0.3\\n38.04159,-78.49324849999998,742 MADISON AVE,0.0,0.0\\n38.03640410000001,-78.49810620000002,304 14TH ST,0.0,0.0\\n38.06349549999999,-78.4974046,2308 NORTH BERKSHIRE RD,0.0,0.0\\n38.06349549999999,-78.4974046,2308 NORTH BERKSHIRE RD,0.0,0.0\\n38.0317403,-78.48190140000001,1117 MARKET ST,0.0,0.0\\n38.0278477,-78.49861279999998,1020 CHERRY AVE,0.0,0.0\\n0.0,0.0,304 14TH ST,0.0,0.0\\n38.0432967959184,-78.4946724285714,103 STEWART CIR,0.0,0.0\\n38.0282999,-78.47119839999998,1117 MARKET ST,0.0,0.0\\n38.0282999,-78.47119839999998,1117 MARKET ST,0.0,0.0\\n38.0282999,-78.47119839999998,1117 MARKET ST,0.0,0.0\\n38.048486600000004,-78.5057815,1936 ARLINGTON BLVD,1.0,0.8\\n38.03152065,-78.50905765022141,110 STADIUM RD,0.0,0.21666666666666665\\n38.0212523,-78.46740190000001,1102 CARLTON AVE,0.0,0.0\\n38.03152065,-78.50905765022141,110 STADIUM RD,0.0,0.0\\n38.03122929999999,-78.508610728328,106 STADIUM RD,0.0,0.0\\n38.03202879999999,-78.50942370000001,110 STADIUM RD,0.0,0.0\\n38.03122929999999,-78.508610728328,106 STADIUM RD,0.0,0.0\\n0.0,0.0,112 4TH ST,0.0,0.0\\n38.0206915,-78.4646183,1500 CARLTON AVE,0.0,0.0\\n38.02810825,-78.51615502366509,210 MAURY AVE,0.0,0.0\\n38.02810825,-78.51615502366509,210 MAURY AVE,0.0,0.0\\n38.028073,-78.516153,210 MAURY AVE,0.0,0.0\\n38.0233796343306,-78.4652743491383,1408 BURGESS LN,0.0,0.0\\n38.041306,-78.494957,708 MADISON AVE,0.0,0.1\\n38.0417615207305,-78.4937454467927,748 MADISON AVE,0.0,0.1\\n38.0417602561941,-78.4937059932545,750 MADISON AVE,0.0,0.0\\n38.0415737,-78.4928011,764 MADISON AVE,0.0,0.1\\n38.02625250000001,-78.51306425,2006 JEFFERSON PARK AVE,0.0,0.4\\n38.040473,-78.497382,1500 GRADY AVE,0.0,0.2\\n38.040473,-78.497382,1500 GRADY AVE,0.0,0.6\\n38.04033670000001,-78.497614,1500 GRADY AVE,0.0,0.075\\n38.040473,-78.497382,1500 GRADY AVE,0.0,0.0\\n38.01469245,-78.5141509602058,224 MONTE VISTA AVE,0.0,0.05\\n38.0194812,-78.48249799999998,700 DRUID AVE,0.0,0.0\\n38.0142745,-78.47008829999999,1000 LINDEN AVE,0.0,0.0\\n38.01425915,-78.4700249587779,1000 LINDEN AVE,0.0,0.9\\n38.041910200000004,-78.5018541,44 UNIVERSITY CIR,0.0,0.0\\n38.0249382,-78.4704213,1111 CHERRY ST,0.0,0.0\\n38.02457570000001,-78.4644935,1404 BURGESS LN,0.0,0.0\\n38.034429387755104,-78.4695765918367,717 LOCUST AVE,0.0,0.0\\n38.014124,-78.50727859999998,518 MOSELEY DR,0.0,0.0\\n0.0,0.0,316 8TH ST,0.0,0.1\\n38.051181899999996,-78.48578330000002,1623 GREENLEAF LN,0.0,0.0\\n38.0393086,-78.48566120000002,808 CONCORD AVE,1.0,0.6\\n38.0393086,-78.48566120000002,808 CONCORD AVE,1.0,0.6\\n38.0392321,-78.4855058,806 CONCORD AVE,0.0,0.05\\n38.0388705,-78.4858721,817 HENRY AVE,0.0,0.0\\n38.02612269999999,-78.51790280000002,2315 FONTAINE AVE,0.0,0.3\\n38.024944399999995,-78.46842319999998,152 CARLTON RD,1.0,0.1\\n38.0247458,-78.47961219999998,621 MONTICELLO AVE,0.0,0.2\\n38.0213296,-78.48715959999998,102 LANKFORD AVE,0.0,0.0\\n38.02128,-78.4870708,100 LANKFORD AVE,0.0,0.0\\n38.02753269999999,-78.4566557,127 RIVERBLUFF CIR,0.0,0.0\\n38.0165391,-78.49319709999997,934 RAYMOND RD,0.0,0.0\\n38.017537,-78.494334,187 BROOKWOOD DR,0.0,0.0\\n38.0203039,-78.4928863,838 RIDGE ST,0.0,0.0\\n38.020288,-78.4935522,879 RIDGE ST,0.0,0.1\\n38.01994210000001,-78.49325259999998,880 RIDGE ST,0.0,0.0\\n38.01981110000001,-78.49244240000002,808 RAYMOND RD,0.0,0.0\\n38.01888515,-78.4731105016165,1409 MONTICELLO RD,0.0,0.2\\n38.018731,-78.473263,1411 MONTICELLO RD,1.0,0.7\\n38.02458950000001,-78.5130928,201 ROBERTSON AVE,0.0,0.1\\n0.0,0.0,307 7TH ST,0.0,0.2\\n38.026973,-78.495041,600 9TH ST,0.0,0.0\\n0.0,0.0,606 9TH ST,0.0,0.0\\n38.02947800000001,-78.49954,202 SPRING ST,0.0,0.0\\n38.0408115,-78.499323,514 17TH ST,0.0,0.0\\n38.0393299,-78.48876829999998,923 CHARLTON AVE,0.0,0.0\\n38.039407399999995,-78.4838743,716 CYNTHIANNA AVE,0.0,0.0\\n38.0243289,-78.49496740000002,711 PROSPECT AVE,0.0,0.0\\n38.042087563268396,-78.5125406559552,2113 MORRIS RD,0.0,0.0\\n38.041249584800894,-78.49755137569458,635 CABELL AVE,0.0,0.0\\n38.0546209963515,-78.4783770262679,1606 CONCORD DR,0.0,0.0\\n38.05426,-78.47843,1600 CONCORD DR,0.0,0.0\\n38.0538937,-78.47814699999998,1448 GROVE RD,0.0,0.0\\n38.041824,-78.510053,2021 IVY RD,0.0,0.0\\n38.041824,-78.510053,2021 IVY RD,0.0,0.0\\n38.0353587,-78.4889819444714,730 WEST ST,0.0,0.0\\n38.042783,-78.510077,2021 IVY RD,0.0,0.2\\n0.0,0.0,224 14TH ST,0.0,0.0\\n0.0,0.0,224 14TH ST,0.0,0.0\\n0.0,0.0,224 14TH ST,0.0,0.1\\n0.0,0.0,224 14TH ST,0.0,0.1\\n38.0275187,-78.4781331,310 AVON ST,0.0,0.2\\n38.028183,-78.5099931507738,101 KENT TER,1.0,0.0\\n38.02898995,-78.5112238470815,114 CHELSEA DR,0.0,0.0\\n38.060242673721106,-78.4961868351162,2206 NORTH BERKSHIRE RD,0.0,0.2\\n38.060242673721106,-78.4961868351162,2206 NORTH BERKSHIRE RD,0.0,0.2\\n38.0634640905673,-78.49577893003979,2306 SHELBY DR,0.0,0.5\\n38.0596163673469,-78.4959586122449,2121 ANGUS RD,0.0,0.2\\n38.0471409241394,-78.4709704889794,113 MELBOURNE PARK CIR,0.0,0.2\\n38.02755085,-78.48005970000001,414 GARRETT ST,0.0,0.0\\n38.027907899999995,-78.4801155,415 GARRETT ST,0.0,0.1\\n38.02684765,-78.4808667892201,415 GARRETT ST,1.0,0.8\\n38.0279096,-78.480182,414 GARRETT ST,0.0,0.5\\n38.0610674,-78.49521690000002,2206 NORTH BERKSHIRE RD,0.0,0.0\\n38.03849845,-78.48727415,901 CHARLTON AVE,0.0,0.0\\n38.014522799999995,-78.50505140000001,102 LONGWOOD DR,0.0,0.0\\n38.02820785,-78.515642484491,2010 STADIUM RD,0.0,0.0\\n38.0282418,-78.51563490000002,2010 STADIUM RD,0.0,0.0\\n38.03087470000001,-78.5041753,419 BRANDON AVE,0.0,0.0\\n38.041293,-78.501859,68 UNIVERSITY WAY,0.0,0.1\\n38.03626795,-78.4847838043835,713 HARRIS ST,0.0,0.2\\n38.03629900000001,-78.48482879999997,713 HARRIS ST,0.0,0.0\\n38.0230701,-78.4804113,637 BLENHEIM AVE,0.0,0.3\\n38.0216152,-78.4830308,1104 6TH ST,0.0,0.0\\n38.0142745,-78.47008829999999,1000 LINDEN AVE,0.0,0.0\\n38.0236721,-78.4803822083185,620 BOLLING AVE,0.0,0.0\\n38.02267670000001,-78.47725899999998,809 BOLLING AVE,0.0,0.0\\n38.0415754,-78.49290599999998,758 MADISON AVE,0.0,0.0\\n38.0415754,-78.49290599999998,758 MADISON AVE,0.0,0.0\\n0.0,0.0,601 11TH ST,0.0,0.0\\n38.032343419239204,-78.4659747616332,606 GILLESPIE AVE,0.0,0.2\\n38.0322541,-78.4658223,606 GILLESPIE AVE,0.0,0.1\\n38.036491399999996,-78.46842319999998,815 LOCUST AVE,0.0,0.0\\n38.02417120000001,-78.4903116,705 RIDGE ST,0.0,0.1\\n38.0241248,-78.471142603991,1109 MYRTLE ST,0.0,0.0\\n38.02283679999999,-78.48382990000002,1007 RAYON ST,0.0,0.0\\n38.0237334,-78.4699995,221 CARLTON RD,0.0,0.0\\n38.0432435714286,-78.49422485714291,820 CABELL AVE,0.0,0.0\\n38.0279451,-78.4802613,402 GARRETT ST,0.0,0.0\\n38.030414,-78.473957,908 JEFFERSON ST,0.0,0.0\\n38.025814418284,-78.5223164562766,104 WESTERLY AVE,0.0,0.4\\n38.0380236,-78.4979469,1407 VIRGINIA AVE,0.0,0.0\\n38.039812,-78.513538,112 MINOR RD,0.0,0.0\\n38.037335399999996,-78.51032529999998,1931 THOMSON RD,0.0,0.2\\n38.0417551980481,-78.49354817910141,758 MADISON AVE,0.0,0.0\\n38.0235141,-78.4791238,705 BOLLING AVE,0.0,0.1\\n38.0233474,-78.4716646,1200 CARLTON AVE,0.0,0.0\\n38.02704129999999,-78.5127722,101 WASHINGTON AVE,0.0,0.0\\n39.7905124189189,-85.61167172972971,214 SOUTH ST,0.0,0.0\\n38.0197569,-78.51712169999998,212 SUNSET AVE,0.0,0.1\\n38.03079275,-78.508686427787,1707 JEFFERSON PARK AVE,0.0,0.0\\n38.061096116788,-78.4980877408302,2306 ANGUS RD,0.0,0.0\\n38.060010999999996,-78.5008323,2311 WAYNE AVE,0.0,0.2\\n38.01720770000001,-78.47303961894409,1602 MONTICELLO RD,0.0,0.0\\n38.0266896,-78.48371620000002,511 1ST ST,0.0,0.1\\n38.053112954492505,-78.4883074653576,1432 RUGBY RD,0.0,0.0\\n38.0527373149413,-78.4894674274217,1360 HILLTOP RD,0.0,0.0\\n38.059932,-78.49861800000002,1609 CEDAR HILL RD,0.0,0.0\\n38.0625791319005,-78.49639514660629,1807 CEDAR HILL RD,0.0,0.0\\n38.0416759795918,-78.4774398367347,206 HILLCREST RD,0.0,0.0\\n38.0251934,-78.5006626264398,1120 FOREST HILLS AVE,0.0,0.0\\n38.0251864,-78.498524,1102 FOREST HILLS AVE,0.0,0.0\\n38.0221598,-78.4976595,765 ORANGEDALE AVE,0.0,0.2\\n38.025834694129294,-78.5182334459767,2324 FONTAINE AVE,1.0,0.0\\n38.025735299999994,-78.51835200000002,2322 FONTAINE AVE,0.0,0.3\\n38.024536,-78.522215,117 WESTERLY AVE,0.0,0.025\\n38.02500720000001,-78.521116,2504 PLATEAU RD,0.0,0.0\\n38.020578,-78.5081412341497,920 RAINIER RD,0.0,0.0\\n38.0187064,-78.5158488464613,122 PARK RD,0.0,0.0\\n38.0186561,-78.5155687477617,120 PARK RD,0.0,0.1\\n38.027091999999996,-78.455169,408 RIVERSIDE AVE,0.0,0.1\\n38.0266996887274,-78.4548630311558,404 RIVERSIDE AVE,0.0,0.0\\n38.01994855,-78.49693075486859,973 ROCK CREEK RD,0.0,0.1\\n38.0199732,-78.49632925,978 ROCK CREEK RD,1.0,0.0\\n38.019515999999996,-78.49816,932 ROCK CREEK RD,0.0,0.0\\n38.019443,-78.498092,934 ROCK CREEK RD,0.0,0.1\\n38.019397999999995,-78.497277,947 ROCK CREEK RD,0.0,0.0\\n38.0223309,-78.4832527,505 ELLIOTT AVE,0.0,0.0\\n38.02195800000001,-78.48773670000001,111 LANKFORD AVE,0.0,0.0\\n38.021615,-78.4841430406732,1111 RAYON ST,0.0,0.0\\n38.0213915,-78.4848954,501 DRUID AVE,0.0,0.0\\n38.0211128,-78.4841407,511 DRUID AVE,0.0,0.0\\n38.0210588,-78.48400749999998,513 DRUID AVE,0.0,0.0\\n38.0208622,-78.48449579999998,508 DRUID AVE,0.0,0.0\\n38.0208174,-78.4843516,510 DRUID AVE,0.0,0.0\\n38.0207499,-78.48418509999998,512 DRUID AVE,0.0,0.1\\n38.019922799999996,-78.4861385,501 ROCKLAND AVE,0.0,0.2\\n38.01992979999999,-78.4853838,506 STONEHENGE AVE,0.0,0.0\\n38.019647,-78.48481199999998,514 STONEHENGE AVE,0.0,0.0\\n38.0196077,-78.4854282,511 ROCKLAND AVE,1.0,0.5\\n38.0231834,-78.4914658,103 LINDEN ST,0.0,0.0\\n38.0272404,-78.45586750000002,422 RIVERSIDE AVE,0.0,0.0\\n38.042114700000006,-78.46011949999998,1039 MARTIN ST,0.0,0.0\\n38.0219934,-78.4810773,1001 AVON ST,0.0,0.0\\n38.0361956,-78.4955499,1115 PAGE ST,1.0,0.8\\n38.0361956,-78.4955499,1115 PAGE ST,1.0,0.8\\n38.0195954,-78.48365230000002,1307 EARLY ST,0.0,0.0\\n38.02884299999999,-78.51166099999998,1804 CHELSEA DR,0.0,0.0\\n38.06627,-78.47379529999998,2224 BRANDYWINE DR,0.0,0.0\\n38.0661484,-78.4750385,1949 MICHAEL PL,0.0,0.3\\n38.02185545,-78.50356293438091,615 SHAMROCK RD,0.0,0.0\\n38.03085,-78.508749,1707 JEFFERSON PARK AVE,0.0,0.0\\n38.027868700000006,-78.5095765,109 KENT TER,0.0,0.0\\n38.04233645,-78.4895105838811,1623 MADISON AVE,0.0,0.0\\n38.04233645,-78.4895105838811,1623 MADISON AVE,0.0,0.0\\n38.0414838,-78.49890129999999,1600 GRADY AVE,0.0,0.0\\n38.0383282,-78.49979394969009,1530 VIRGINIA AVE,0.0,0.0\\n38.039485600000006,-78.5112352,131 CAMERON LN,0.0,0.0\\n38.0404668,-78.50864440000002,103 CRESAP RD,0.0,0.0\\n38.0422758,-78.4888375702557,1617 MADISON AVE,0.0,0.0\\n38.0353648980397,-78.4606652009263,1328 LONG ST,0.0,0.0\\n38.029407,-78.51144599999998,111 CHELSEA DR,0.0,0.0\\n38.04146315,-78.4989107451958,1600 GRADY AVE,0.0,0.1\\n38.0414838,-78.49890129999999,1600 GRADY AVE,0.0,0.0\\n38.0356880413425,-78.46588096561621,818 ST CLAIR AVE,0.0,0.0\\n38.0360033750829,-78.4684747457698,815 LOCUST AVE,0.0,0.0\\n38.0142745,-78.47008829999999,1000 LINDEN AVE,0.0,0.0\\n38.01425915,-78.4700249587779,1000 LINDEN AVE,0.0,0.0\\n38.01425915,-78.4700249587779,1000 LINDEN AVE,0.0,0.0\\n38.01425915,-78.4700249587779,1000 LINDEN AVE,0.0,0.0\\n38.0233786,-78.4733204796663,1000 MONTICELLO RD,0.0,0.0\\n38.0140208,-78.4699995,1002 LINDEN AVE,0.0,0.3\\n38.0315766,-78.47008829999999,1100 HIGH ST,0.0,0.0\\n38.02795689999999,-78.5125958988187,112 HARMON ST,0.0,0.0\\n38.050381,-78.507728,2426 ARLINGTON BLVD,0.0,0.0\\n38.050381,-78.507728,2426 ARLINGTON BLVD,0.0,0.0\\n0.0,0.0,416 4TH ST,0.0,0.0\\n38.0580855,-78.48258679999998,1627 ST ANNES RD,0.0,0.0\\n38.02120155,-78.4704062,314 CARLTON RD,1.0,0.0\\n38.02506695,-78.5107094431513,2221 CENTER AVE,0.0,0.1\\n38.0250024,-78.511494,2200 HILL ST,0.0,0.0\\n38.0280387,-78.4691781,208 12TH ST,0.0,0.0\\n39.78818,-85.612594,965 2ND ST,0.0,0.0\\n38.045356,-78.459515,110 LOCUST LANE CT,0.0,0.0\\n38.02366870000001,-78.4600751,1617 MARKET ST,0.0,0.0\\n38.0317403,-78.48190140000001,1619 MARKET ST,0.0,0.0\\n38.023416299999994,-78.4595866,1701 MARKET ST,0.0,0.05\\n38.017472999999995,-78.494457,185 BROOKWOOD DR,0.0,0.1\\n38.03327270000001,-78.46991070000001,602 LOCUST AVE,0.0,0.1\\n38.0174944,-78.48479549999998,612 PALATINE AVE,0.0,0.2\\n38.0329864,-78.46866740000002,604 GROVE AVE,0.0,0.0\\n38.032855,-78.465338,700 GILLESPIE AVE,0.0,0.0\\n38.0328546,-78.4687784,600 GROVE AVE,0.0,0.5\\n38.0326532,-78.46643619999998,1310 POPLAR ST,0.0,0.2\\n38.03258320000001,-78.4656258,610 GILLESPIE AVE,0.0,0.0\\n38.0373630598584,-78.47245646979691,701 LYONS COURT LN,0.0,0.1\\n38.02321540000001,-78.4761046,829 MONTICELLO AVE,0.0,0.0\\n38.03664500000001,-78.46682700000002,850 LOCUST AVE,0.0,0.2\\n38.01896900000001,-78.4827059,,0.0,0.125\\n38.0369862,-78.472597,710 LYONS COURT LN,0.0,0.0\\n38.0371767236719,-78.4724480461953,712 LYONS COURT LN,0.0,0.0\\n38.03004489999999,-78.46842319999998,1127 LITTLE HIGH ST,0.0,0.0\\n38.03009520000001,-78.46975529999997,1114 LITTLE HIGH ST,0.0,0.075\\n38.0298741,-78.4679348,1201 LITTLE HIGH ST,0.0,0.0\\n38.029416499999996,-78.467846,1202 LITTLE HIGH ST,1.0,0.3\\n38.02937160000001,-78.46770169999998,1204 LITTLE HIGH ST,0.0,0.0\\n38.0287531,-78.47268580000002,1009 MARKET ST,0.0,0.2\\n38.0282239,-78.47252309999998,1014 MARKET ST,0.0,0.1\\n38.0237589,-78.4849363,219 ELLIOTT AVE,0.0,0.0\\n38.0317403,-78.48190140000001,1510 MARKET ST,0.0,0.1\\n38.031775700000004,-78.4628283,533 CAROLINE AVE,0.0,0.0\\n38.031757,-78.463539,534 MEADE AVE,0.0,0.0\\n38.01850635,-78.49565940601791,135 BROOKWOOD DR,0.0,0.425\\n38.018205,-78.495707,143 BROOKWOOD DR,0.0,0.5\\n38.0315417,-78.4637608,530 MEADE AVE,0.0,0.5\\n38.0304306351902,-78.4635618276143,527 CAROLINE AVE,0.0,0.0\\n38.030393416940996,-78.46334987626459,528 CAROLINE AVE,0.0,0.0\\n38.030304790902,-78.4636402479382,521 CAROLINE AVE,0.0,0.0\\n38.02282659999999,-78.4781205,803 RIALTO ST,0.0,0.0\\n38.0586935,-78.4808997,1719 MEADOWBROOK HEIGHTS RD,0.0,0.0\\n38.057636882179104,-78.4813267885168,1717 MEADOWBROOK HEIGHTS RD,0.0,0.3\\n38.0616790791006,-78.4767429953232,1820 MEADOWBROOK HEIGHTS RD,0.0,0.0\\n38.061397540023606,-78.4776334058218,1812 MEADOWBROOK HEIGHTS RD,0.0,0.0\\n38.061035,-78.478112,1808 MEADOWBROOK HEIGHTS RD,0.0,0.15\\n38.057482,-78.4812,1626 MEADOWBROOK HEIGHTS RD,0.0,0.0\\n38.063502899999996,-78.47612679999997,1902 BRANDYWINE DR,0.0,0.0\\n38.0631284731304,-78.4808934989565,1649 BRANDYWINE DR,0.0,0.1\\n38.0624493384371,-78.4754539782298,1816 YORKTOWN DR,0.0,0.0\\n38.063012332606895,-78.4807423010968,1650 BRANDYWINE DR,0.0,0.0\\n38.063097145033495,-78.4806449160355,1652 BRANDYWINE DR,0.0,0.0\\n38.0653356906921,-78.4663944842004,2318 TARLETON DR,0.0,0.0\\n38.062668085632296,-78.4764784727705,1825 YORKTOWN DR,0.0,0.0\\n38.0463052,-78.46535940000003,1034 COTTONWOOD RD,0.0,0.0\\n38.04644920000001,-78.46269509999998,638 ELIZABETH AVE,0.0,0.1\\n38.0666909,-78.46940010000002,2407 HILLWOOD PL,0.0,0.1\\n38.0664662,-78.4687784,2305 GREENBRIER DR,0.0,0.0\\n38.06639233223329,-78.4706296949113,2413 HILLWOOD PL,0.0,0.0\\n38.0666265,-78.46669150000002,2318 GREENBRIER DR,0.0,0.0\\n38.0459237,-78.4656258,1031 COTTONWOOD RD,0.0,0.0\\n38.02758789999999,-78.51334920000002,111 WASHINGTON AVE,0.0,0.1\\n38.0266896,-78.48371620000002,511 1ST ST,0.0,0.0\\n38.021361,-78.48679200000002,511 1ST ST,1.0,0.9\\n38.021361,-78.48679200000002,511 1ST ST,1.0,0.0\\n38.045890109809,-78.46782567266041,609 BEECHWOOD DR,0.0,0.0\\n38.0661959,-78.47284069999998,2503 HILLWOOD PL,0.0,0.0\\n38.0660714,-78.47055399999998,2415 BROOK RD,0.0,0.0\\n38.066062,-78.4675796,2319 TARLETON DR,1.0,0.5\\n38.0660385,-78.4739285,2222 BRANDYWINE DR,0.0,0.0\\n38.0657953,-78.470443,2413 BROOK RD,0.0,0.0\\n38.06576670000001,-78.47241890000002,2500 HILLWOOD PL,0.0,0.0\\n38.0282752,-78.490134,324 6TH ST,0.0,0.0\\n38.0280057,-78.4907111,337 6TH ST,0.0,0.0\\n38.0279557,-78.4893793,420 OAK ST,0.0,0.0\\n38.02741775,-78.5018000628834,1307 NUNLEY ST,0.0,0.0\\n38.027484,-78.5015425,1303 NUNLEY ST,0.0,0.0\\n38.031406200000006,-78.4784596,400 JEFFERSON ST,0.0,0.1\\n38.0235213,-78.49075549999998,721 RIDGE ST,0.0,0.0\\n38.0238289,-78.4909775,709 LAFAYETTE ST,0.0,0.0\\n38.018227100000004,-78.48467339999998,1505 EARLY ST,0.0,0.1\\n38.02974879999999,-78.4887356,215 5TH ST,0.0,0.1\\n38.029967,-78.4883267,211 5TH ST,0.0,0.0\\n38.03246055,-78.48727387833921,503 BROWN ST,0.0,0.0\\n38.046044,-78.49573199999998,1801 WESTVIEW RD,0.0,0.0\\n38.0461443,-78.48811309067891,1549 RUGBY AVE,0.0,0.2\\n38.0213023,-78.5107271,2306 CRESTMONT AVE,0.0,0.0\\n38.021529,-78.5101748,2341 HIGHLAND AVE,0.0,0.0\\n38.0210686,-78.50980759999999,1700 CHERRY AVE,1.0,0.6\\n38.0207658,-78.50983939999998,1706 CHERRY AVE,0.0,0.1\\n38.0192706,-78.5098095,310 CLEVELAND AVE,0.0,0.0\\n38.019189000000004,-78.509683,312 CLEVELAND AVE,0.0,0.0\\n38.018833,-78.50864200000002,332 CLEVELAND AVE,0.0,0.1\\n38.0307158,-78.4814316,106 1ST ST,0.0,0.0\\n0.0,0.0,405 WATER ST,0.0,0.0\\n38.0358368,-78.4943957,305 10 1/2 ST,0.0,0.1\\n38.052821561525604,-78.48941468140791,1368 HILLTOP RD,0.0,0.1\\n38.0550338,-78.47441740000002,100 PETERSON PL,0.0,0.0\\n38.0548757812668,-78.481108795646,1606 GROVE RD,0.0,0.0\\n38.0545006985095,-78.47590489552279,1405 FOXBROOK LN,0.0,0.1\\n38.0606810169845,-78.4736324823823,1610 JAMESTOWN DR,0.0,0.1\\n38.061131221848896,-78.4703389969122,2105 TARLETON DR,0.0,0.0\\n38.02090085,-78.51763309999998,2424 SUNSET RD,0.0,0.0\\n38.01794425,-78.5032183557692,846 VILLAGE RD,0.0,0.0\\n38.0218097,-78.4979228018876,801 ORANGEDALE AVE,1.0,0.3\\n38.03355965,-78.4906048262333,801 HARDY DR,0.0,0.1\\n38.018856799999995,-78.49298320000003,903 RAYMOND RD,0.0,0.0\\n38.01872565,-78.4930026529828,905 RAYMOND RD,0.0,0.4\\n38.04239260000001,-78.4816724518615,118 WESTWOOD CIR,0.0,0.0\\n38.042107145416296,-78.47682161927641,803 HILLCREST RD,0.0,0.0\\n38.0164553,-78.5171661,2706 ETON RD,0.0,0.0\\n38.016495,-78.51705799999998,2704 ETON RD,0.0,0.3\\n38.061033,-78.468901,2114 TARLETON DR,0.0,0.0\\n0.0,0.0,509 13TH ST,0.0,0.05\\n0.0,0.0,511 12TH ST,0.0,0.0\\n38.0392662,-78.4964821,500 14TH ST,0.0,0.0\\n38.023876,-78.45531299999998,300 RIVERSIDE AVE,0.0,0.0\\n38.0265858753318,-78.46379994684159,112 CHISHOLM PL,0.0,0.06666666666666667\\n38.02732260000001,-78.46318389999998,110 CHISHOLM PL,0.0,0.0\\n38.02709189999999,-78.45550109999998,412 RIVERSIDE AVE,0.0,0.3\\n38.03898875,-78.4775368152971,714 MCINTIRE RD,0.0,0.1\\n38.0579228390605,-78.471805827224,1402 LESTER DR,0.0,0.1\\n38.03330310000001,-78.4814123,212 HIGH ST,0.0,0.0\\n38.0517708,-78.49651920000002,2007 HESSIAN RD,0.0,0.4\\n38.0461126772724,-78.4987310016494,911 OLD FARM RD,0.0,0.0\\n38.0464739,-78.4977916,916 OLD FARM RD,0.0,0.0\\n38.02108629999999,-78.48927619999998,219 HARTMANS MILL RD,0.0,0.0\\n38.0428802,-78.4587873,1011 PEARTREE LN,0.0,0.8\\n38.0701091,-78.47179779999998,2313 GLENN CT,0.0,0.1\\n38.0694386,-78.473263,2323 GLENN CT,0.0,0.0\\n38.0676483404735,-78.4731333569109,2244 BRANDYWINE DR,0.0,0.1\\n38.0662843,-78.46900049999998,2303 GREENBRIER DR,0.0,0.1\\n38.016217,-78.49324150000002,940 RAYMOND RD,0.0,0.0\\n38.0382356,-78.51345440000001,2000 LEWIS MOUNTAIN RD,0.0,0.0\\n38.0605358,-78.48014490000001,1704 KING MOUNTAIN RD,0.0,0.0\\n38.0439281,-78.4862717,1218 AUGUSTA ST,0.0,0.0\\n38.0376005,-78.49841719999998,7 UNIVERSITY CT,0.0,0.0\\n38.037491700000004,-78.49815090000001,5 UNIVERSITY CT,1.0,0.4291666666666667\\n38.0370702,-78.5016716,128 MADISON LN,0.0,0.0\\n38.03510720000001,-78.4915554,210 9TH ST,0.0,0.4291666666666667\\n38.0351824,-78.4928309,923 PAGE ST,0.0,0.0\\n38.0411638,-78.4983465,600 PRESTON PL,0.0,0.125\\n38.0218748,-78.490922,240 HARTMANS MILL RD,0.0,0.0\\n38.02128645,-78.4902912835156,230 HARTMANS MILL RD,1.0,0.8\\n38.0315275,-78.47708759999998,300 PARK ST,0.0,0.2\\n38.026794,-78.454219,364 RIVERSIDE AVE,0.0,0.1\\n38.0263187522917,-78.45436672469441,366 RIVERSIDE AVE,0.0,0.0\\n38.0509805,-78.4849842,1620 DEL MAR DR,0.0,0.0\\n38.0510559,-78.4840746564484,1611 DEL MAR DR,0.0,0.1\\n38.05087555,-78.4848048748957,1618 DEL MAR DR,0.0,0.0\\n38.0251312,-78.47864150000002,1392 AVON ST,0.0,0.0\\n0.0,0.0,515 11TH ST,0.0,0.0\\n0.0,0.0,513 11TH ST,0.0,0.0\\n38.0344369,-78.4920599517207,838 PAGE ST,0.0,0.0\\n38.03429089999999,-78.4903116,805 PAGE ST,0.0,0.0\\n38.0339732,-78.49040029999998,802 PAGE ST,0.0,0.0\\n0.0,0.0,112 10TH ST,0.0,0.0\\n38.020539,-78.5051664891838,1613 TRAILRIDGE RD,0.0,0.0\\n38.02051965,-78.502821454089,708 SHAMROCK RD,0.0,0.0\\n38.0441471,-78.4845711058773,1506 WESTWOOD RD,0.0,0.0\\n38.04398225,-78.48815421836571,1611 HARDWOOD AVE,0.0,0.0\\n38.043456,-78.48764478321529,1606 HARDWOOD AVE,0.0,0.1\\n38.0434008,-78.48733150269321,1602 HARDWOOD AVE,0.0,0.0\\n38.017389,-78.513207,105 MONTE VISTA AVE,0.0,0.0\\n0.0,0.0,105 PARK LN,0.0,0.0\\n38.042891600000004,-78.45643369999998,1105 RIVER CT,0.0,0.0\\n38.043135901909,-78.459600305362,1008 PEARTREE LN,0.0,0.5\\n38.0431773369708,-78.4593515144625,1017 PEARTREE LN,0.0,0.2\\n38.0576187813893,-78.4824960658257,1644 ST ANNES RD,1.0,0.8\\n38.04728665,-78.48369444820051,1503 OXFORD RD,0.0,0.8\\n38.069395,-78.472942,2321 GLENN CT,0.0,0.2\\n38.069567,-78.471265,2305 GLENN CT,0.0,0.0\\n38.0690764,-78.4716646,2306 GLENN CT,0.0,0.0\\n38.0690652,-78.472375,2248 BRANDYWINE DR,0.0,0.0\\n38.068624,-78.47450570000002,2333 GLENN CT,0.0,0.0\\n38.067973862128,-78.473166726628,2241 BRANDYWINE DR,0.0,0.1\\n38.066548,-78.474222,100 MARIE PL,0.0,0.0\\n38.0664536,-78.47153089999998,2419 HILLWOOD PL,0.0,0.0\\n38.016869899999996,-78.4767262,1014 DRUID AVE,0.0,0.2\\n38.044038799999996,-78.4593646,1119 LOCUST AVE,0.0,0.2\\n38.03957895,-78.4879826526432,916 HENRY AVE,0.0,0.0\\n38.015944399999995,-78.49337469999998,944 RAYMOND RD,0.0,0.1\\n38.0160581,-78.49328589999998,942 RAYMOND RD,0.0,0.1\\n38.0319732,-78.4797803,237 JEFFERSON ST,0.0,0.1\\n38.0391157,-78.51327690000002,112 LEWIS MOUNTAIN CIR,0.0,0.0\\n38.038297,-78.5121118,1954 LEWIS MOUNTAIN RD,0.0,0.0\\n38.0382325,-78.5117678,1948 LEWIS MOUNTAIN RD,0.0,0.0\\n38.038094,-78.5111908,1942 LEWIS MOUNTAIN RD,0.0,0.0\\n38.0381562,-78.5147288,2012 LEWIS MOUNTAIN RD,0.0,0.3\\n38.023092,-78.49586099999998,741 PROSPECT AVE,0.0,0.0\\n38.0346441,-78.49512209999997,1121 WERTLAND ST,0.0,0.0\\n38.03507099999999,-78.4959701,1115 WERTLAND ST,0.0,0.0\\n38.0425036,-78.49288309999999,1129 PRESTON AVE,0.0,0.0\\n38.0447049577347,-78.492956948002,1129 PRESTON AVE,0.0,0.05\\n38.0313794,-78.50252929999998,416 MONROE LN,0.0,0.3\\n38.022863,-78.4799673,816 AVON ST,0.0,0.45\\n38.0306498,-78.4925073,765 WALKER SQ,0.0,0.0\\n38.0381687,-78.5082283,211 EMMET ST,0.0,0.3\\n38.0242843,-78.4807221,609 BOLLING AVE,0.0,0.0\\n38.031452200000004,-78.50991030000002,235 MONTEBELLO CIR,0.0,0.0\\n38.04286310000001,-78.49318009999998,1111 PRESTON AVE,0.0,0.0\\n38.0121921,-78.5018754,1150 5TH ST,0.0,0.16666666666666666\\n38.03632260000001,-78.4859271,706 ALBEMARLE ST,0.0,0.1\\n38.0424678,-78.48367449999998,1134 ROSE HILL DR,0.0,0.0\\n38.034496600000004,-78.49813309999998,1309 WERTLAND ST,0.0,0.0\\n38.010414,-78.505528,110 5TH ST,0.0,0.0\\n0.0,0.0,202 10TH ST,0.0,0.0\\n38.02720479999999,-78.490245,501 CHERRY AVE,1.0,0.4\\n38.03459829999999,-78.49734769999998,1215 WERTLAND ST,0.0,0.0\\n38.03459829999999,-78.49734769999998,1215 WERTLAND ST,0.0,0.0\\n38.039408,-78.456228,910 RIVER RD,1.0,0.6\\n38.0495766253765,-78.5066519608998,2102 ARLINGTON BLVD,0.0,0.0\\n38.0495766253765,-78.5066519608998,2102 ARLINGTON BLVD,0.0,0.0\\n38.0351004,-78.4978385,1303 WERTLAND ST,0.0,0.0\\n38.04077848869429,-78.4922885989613,1010 PRESTON AVE,0.0,0.31666666666666665\\n38.037718612244895,-78.4830400204082,604 CONCORD AVE,0.0,0.0\\n38.0375457,-78.4855863622481,701 CHARLTON AVE,0.0,0.0\\n38.0369449,-78.4841040512266,604 HENRY AVE,0.0,0.0\\n38.0370303,-78.4837960004711,600 HENRY AVE,0.0,0.1\\n38.01383575,-78.4714701127901,105 KEYSTONE PL,0.0,0.3\\n38.040038116852,-78.45587503016401,1160 RIVER RD,0.0,0.4\\n38.05253389134671,-78.49541808754759,2016 SPOTTSWOOD RD,0.0,0.0\\n38.027156,-78.5135729,2005 JEFFERSON PARK AVE,0.0,0.15\\n0.0,0.0,101 MEGAN CT,0.0,0.0\\n0.0,0.0,1603 6TH ST,0.0,0.0\\n38.020609,-78.48383000000003,1201 6TH ST,0.0,0.0\\n38.02065579999999,-78.4816084,1114 AVON ST,0.0,0.0\\n38.04623815,-78.4866881589668,1108 WELLFORD ST,0.0,0.05\\n38.0437367,-78.4865079920302,1219 AUGUSTA ST,0.0,0.05\\n38.0383875107178,-78.5120681571944,1958 LEWIS MOUNTAIN RD,0.0,0.0\\n38.0379157,-78.5128996,1955 THOMSON RD,0.0,0.0\\n38.0379189,-78.5138374,2001 THOMSON RD,0.0,0.0\\n38.0375686,-78.51103549999998,1939 THOMSON RD,0.0,0.0\\n38.03762255,-78.4985795962435,8 UNIVERSITY CT,0.0,0.0\\n38.0374355,-78.5127886,1958 THOMSON RD,0.0,0.0\\n38.037539122683,-78.5125663977972,2000 THOMSON RD,0.0,0.0\\n38.0372744,-78.51218949999998,1948 THOMSON RD,0.0,0.0\\n38.0372019,-78.50959300000002,1919 THOMSON RD,0.0,0.0\\n38.0368804616966,-78.5089215770277,1913 THOMSON RD,0.0,0.0\\n38.036655,-78.507958,1901 THOMSON RD,0.0,0.0\\n38.034537799999995,-78.492398,907 PAGE ST,1.0,0.7\\n38.03457535,-78.49156693502191,833 PAGE ST,1.0,0.8\\n38.034507399999995,-78.4891997,712 ANDERSON ST,0.0,0.1\\n38.03527329999999,-78.4907559,818 ANDERSON ST,0.0,0.0\\n38.0523149,-78.47596419999998,1400 MELBOURNE RD,1.0,0.6\\n38.0523149,-78.47596419999998,1400 MELBOURNE RD,1.0,0.6\\n38.0523149,-78.47596419999998,1400 MELBOURNE RD,1.0,0.6\\n38.0523149,-78.47596419999998,1400 MELBOURNE RD,1.0,0.6\\n38.0523149,-78.47596419999998,1400 MELBOURNE RD,1.0,0.6\\n38.0523149,-78.47596419999998,1400 MELBOURNE RD,1.0,0.6\\n38.0523149,-78.47596419999998,1400 MELBOURNE RD,1.0,0.6\\n38.0523149,-78.47596419999998,1400 MELBOURNE RD,1.0,0.6\\n38.0198533,-78.4933858,884 RIDGE ST,0.0,0.0\\n38.0132409,-78.51437,246 MONTE VISTA AVE,0.0,0.3\\n38.0121593,-78.51499129999998,307 MONTE VISTA AVE,0.0,0.0\\n38.0249062,-78.5128348196068,204 TODD AVE,0.0,0.3\\n38.024885,-78.513271,200 TODD AVE,0.0,0.0\\n38.02461320000001,-78.5110768,307 ROBERTSON AVE,0.0,0.0\\n38.0246287,-78.51224959999998,211 ROBERTSON AVE,0.0,0.0\\n38.02458835,-78.5125500514388,205 ROBERTSON AVE,0.0,0.0\\n38.03981599999999,-78.494272,1203 GRADY AVE,0.0,0.0\\n38.0301063,-78.49348859999998,803 NALLE ST,0.0,0.0\\n38.0300686,-78.49440509681709,858 NALLE ST,0.0,0.0\\n38.030028200000004,-78.4942875,856 NALLE ST,0.0,0.0\\n38.0296115,-78.4944988,823 KING ST,0.0,0.0\\n38.026745,-78.49485899999998,705 PINE ST,0.0,0.0\\n38.02097699999999,-78.49475699999998,997 5TH ST,0.0,0.0\\n38.04099799999999,-78.4991455,518 17TH ST,0.0,0.0\\n38.0409821,-78.49981129999998,555 17TH ST,0.0,0.0\\n38.02308435,-78.4969536024419,743 ORANGEDALE AVE,0.0,0.0\\n38.0230152,-78.49588690170091,743 PROSPECT AVE,0.0,0.0\\n38.02264355,-78.4972892998404,753 ORANGEDALE AVE,0.0,0.0\\n38.022549,-78.49673,750 ORANGEDALE AVE,0.0,0.0\\n38.0115081,-78.5145167234783,320 MONTE VISTA AVE,0.0,0.0\\n38.0116622,-78.51450310000001,318 MONTE VISTA AVE,0.0,0.0\\n38.01180765,-78.5145154991998,316 MONTE VISTA AVE,0.0,0.0\\n38.0148508,-78.51412420000003,222 MONTE VISTA AVE,0.0,0.0\\n38.0189926,-78.4975183248238,948 ROCK CREEK RD,0.0,0.35\\n38.01469245,-78.5141509602058,224 MONTE VISTA AVE,0.0,0.06666666666666667\\n38.0154008703391,-78.4768233221638,371 QUARRY RD,0.0,0.0\\n38.0154026874212,-78.4768804693974,373 QUARRY RD,0.0,0.0\\n38.0158119,-78.4763849,369 QUARRY RD,0.0,0.0\\n38.0153862314414,-78.4764234218371,357 QUARRY RD,0.0,0.2\\n38.015565,-78.476629,359 QUARRY RD,0.0,0.0\\n38.019523,-78.4941907624967,913 RIDGE ST,0.0,0.0\\n38.0191885,-78.49151020000002,131 BAYLOR LN,0.0,0.0\\n38.01940055,-78.4924059972235,814 RAYMOND RD,0.0,0.0\\n38.01926755,-78.4933360034375,229 BROOKWOOD DR,0.0,0.54\\n38.01920445,-78.48658280947708,1511 ROSA TER,0.0,0.54\\n38.0191484,-78.49399609999998,1000 RIDGE ST,1.0,0.54\\n38.0191484,-78.49399609999998,1000 RIDGE ST,1.0,0.54\\n38.0191484,-78.49399609999998,1000 RIDGE ST,1.0,0.54\\n38.0191484,-78.49399609999998,1000 RIDGE ST,1.0,0.54\\n38.0191484,-78.49399609999998,1000 RIDGE ST,1.0,0.54\\n38.0191484,-78.49399609999998,1000 RIDGE ST,1.0,0.54\\n38.0191484,-78.49399609999998,1000 RIDGE ST,1.0,0.54\\n38.0191484,-78.49399609999998,1000 RIDGE ST,1.0,0.54\\n38.01911679999999,-78.48523579566479,516 ROCKLAND AVE,0.0,0.05\\n38.0188592,-78.494786383689,1009 RIDGE ST,0.0,0.05\\n38.018902000000004,-78.49243129999998,100 BAYLOR LN,0.0,0.05\\n38.04951179181821,-78.4939377821975,1203 HILLTOP RD,0.0,0.05\\n38.0203359,-78.4981689,915 ROCK CREEK RD,0.0,0.05\\n38.039913,-78.495369,1301 GRADY AVE,0.0,0.05\\n38.0242451,-78.5125946,204 ROBERTSON AVE,0.0,0.3\\n38.0260503,-78.47395441647,212 DOUGLAS AVE,0.0,0.0\\n38.02605955,-78.4789217522745,616 HINTON AVE,0.0,0.1\\n38.021953499999995,-78.4884137,118 LANKFORD AVE,0.0,0.1\\n0.0,0.0,106 RIVERBLUFF CIR,1.0,0.7\\n0.0,0.0,106 RIVERBLUFF CIR,1.0,0.7\\n38.0200371,-78.49266440000002,804 RAYMOND RD,1.0,0.5\\n38.0206509,-78.4683344,607 RIVES ST,0.0,0.2\\n38.0305804440943,-78.4674038045663,1207 MERIWETHER ST,0.0,0.1\\n38.024877399999994,-78.5137364,110 TODD AVE,0.0,0.0\\n38.0301408,-78.49084429999998,627 DICE ST,0.0,0.1\\n38.0298025,-78.47916819999998,404 MAIN ST,0.0,0.0\\n38.0233086,-78.49200959999997,936 5TH ST,0.0,0.0\\n38.010414,-78.505528,213 5TH ST,0.0,0.0\\n38.047984,-78.4609965,1224 HOLMES AVE,0.0,0.0\\n38.03738140000001,-78.4874615,815 DALE AVE,0.0,0.0\\n38.0299334,-78.47968900000002,312 MAIN ST,0.0,0.0\\n38.02643,-78.46091799999998,1417 SHORT 18TH ST,0.0,0.0\\n38.041588,-78.49320300000002,744 MADISON AVE,0.0,0.0\\n38.0545777,-78.47970099999998,1505 GROVE RD,0.0,0.0\\n38.05475420000001,-78.47649439999998,1408 FOXBROOK LN,0.0,0.0\\n38.0544202,-78.47934579999998,1503 GROVE RD,1.0,0.0\\n38.0543409761376,-78.47619888694959,1441 GROVE RD,0.0,0.0\\n38.054204999999996,-78.4800561,1504 GROVE RD,0.0,0.0\\n38.05407570000001,-78.475039,1432 GROVE RD,0.0,0.0\\n38.0539458,-78.47743659999998,1444 GROVE RD,0.0,0.0\\n38.0539402,-78.47779179999998,1446 GROVE RD,0.0,0.0\\n38.0516313,-78.4841407,1609 OAKLEAF LN,0.0,0.0\\n38.051660999999996,-78.48437299999998,1611 OAKLEAF LN,0.0,0.0\\n38.0515936,-78.48458459999998,1613 OAKLEAF LN,0.0,0.0\\n38.05308429999999,-78.4889353,1364 HILLTOP RD,0.0,0.0\\n38.0529345,-78.496279,2020 SPOTTSWOOD RD,0.0,0.0\\n38.051579,-78.497757,2033 HESSIAN RD,0.0,0.0\\n38.0524789,-78.48693759999998,1522 DAIRY RD,0.0,0.1\\n38.04516160000001,-78.45978649999998,905 LOCUST LN,0.0,0.0\\n38.0603846,-78.4980763,1613 CEDAR HILL RD,0.0,0.0\\n38.060141,-78.498452,1611 CEDAR HILL RD,0.0,0.0\\n38.058884,-78.499461,1601 CEDAR HILL RD,0.0,0.0\\n38.0625670879337,-78.49641009773751,1805 CEDAR HILL RD,0.0,0.0\\n38.0399446652436,-78.46084037506,1028 ST CLAIR AVE,0.0,0.0\\n38.039860760888295,-78.4609399821857,1024 ST CLAIR AVE,0.0,0.0\\n38.03942375,-78.46145775,1011 ST CLAIR AVE,1.0,0.6\\n38.06733029999999,-78.47379529999998,100 MELISSA PL,0.0,0.2\\n38.0336361,-78.4696665,612 LOCUST AVE,0.0,0.0\\n38.05542310243961,-78.4867877055664,1631 KEITH VALLEY RD,0.0,0.0\\n38.0303384,-78.49139919999998,710 WALKER SQ,0.0,0.0\\n38.0552957243096,-78.4865923803222,1620 KEITH VALLEY RD,0.0,0.2\\n38.0551903811053,-78.48660499627479,1608 KEITH VALLEY RD,0.0,0.0\\n38.026719,-78.502287,513 PATON ST,0.0,0.0\\n38.02285379999999,-78.5108098911159,2322 HIGHLAND AVE,0.0,0.0\\n38.052849373871204,-78.4896365023275,1409 HILLTOP RD,0.0,0.0\\n38.0278787,-78.50016640000003,405 SPRING ST,0.0,0.2\\n38.0265633,-78.47892553722659,609 HINTON AVE,0.0,0.0\\n38.0338542,-78.49280870000003,826 HARDY DR,0.0,0.0\\n38.0266431484281,-78.4639979182928,111 CHISHOLM PL,0.0,0.0\\n38.026812941779106,-78.4556115111557,431 RIVERSIDE AVE,0.0,0.0\\n38.0262609681623,-78.4543330962256,362 RIVERSIDE AVE,0.0,0.0\\n38.0265812593713,-78.46403996731709,105 CHISHOLM PL,0.0,0.0\\n38.0265495,-78.45400959999998,358 RIVERSIDE AVE,0.0,0.2\\n38.0265978,-78.4554567,419 RIVERSIDE AVE,0.0,0.05\\n38.0266396042175,-78.45517917113709,401 RIVERSIDE AVE,0.0,0.0\\n38.0260325,-78.4541735,348 RIVERSIDE AVE,0.0,0.0\\n38.026435799999994,-78.455057,411 RIVERSIDE AVE,0.0,0.2\\n38.019482,-78.48657299999998,1505 ROSA TER,0.0,0.0\\n38.021073,-78.507145,835 RAINIER RD,0.0,0.1\\n38.0195691,-78.50487159999999,111 VILLAGE CT,0.0,0.0\\n38.054279340102894,-78.4745058112768,1426 GROVE RD,0.0,0.0\\n38.0541133,-78.474595,1430 GROVE RD,0.0,0.0\\n38.019218,-78.4839631,1401 EARLY ST,0.0,0.0\\n38.0192425,-78.4833859,1320 EARLY ST,1.0,0.8\\n38.0192425,-78.4833859,1320 EARLY ST,1.0,0.8\\n38.0344639,-78.48174329999998,413 ALTAMONT ST,0.0,0.2\\n38.03441475,-78.4820954455983,412 ALTAMONT ST,0.0,0.0\\n38.03208159183671,-78.4798428367347,209 JEFFERSON ST,0.0,0.1\\n38.0320414,-78.47999589999998,211 JEFFERSON ST,0.0,0.4\\n38.0320362,-78.4799793,213 JEFFERSON ST,0.0,0.0\\n38.0507929,-78.49616449999998,2006 HESSIAN RD,0.0,0.0\\n38.0505461,-78.49586059999999,2000 HESSIAN RD,0.0,0.0\\n38.0288473,-78.47301879999998,1001 MARKET ST,0.0,0.0\\n38.0233948,-78.4743407,917 BELMONT AVE,0.0,0.1\\n38.016712,-78.48590290000001,1600 6TH ST,0.0,0.0\\n0.0,0.0,1600 6TH ST,0.0,0.05\\n38.016712,-78.48590290000001,1600 6TH ST,0.0,0.0\\n38.016712,-78.48590290000001,1600 6TH ST,0.0,0.0\\n0.0,0.0,1600 6TH ST,0.0,0.0\\n38.0246454,-78.49440609999998,700 PROSPECT AVE,0.0,0.0\\n38.0259527,-78.4836315,318 OAK ST,0.0,0.3\\n38.025619899999995,-78.49506149999998,615 7 1/2 ST,0.0,0.0\\n38.0305594,-78.48207620000002,112 MAIN ST,0.0,0.0\\n38.0313346,-78.4820908,110 2ND ST,0.0,0.2\\n38.025718,-78.50408999999998,413 VALLEY RD EXT,0.0,0.0\\n38.05226029999999,-78.50120150000002,1107 EMMET ST,0.0,0.0\\n38.05241700000001,-78.50174399999999,1123 EMMET ST,0.0,0.0\\n0.0,0.0,975 EMMET ST,0.0,0.0\\n38.0286499,-78.479479,300 4TH ST,0.0,0.0\\n38.0288145,-78.47763640000002,600 WATER ST,0.0,0.2\\n38.0246849,-78.48023370000001,612 MONTICELLO AVE,0.0,0.0\\n38.0271561,-78.471598,1112 MARKET ST,0.0,0.0\\n0.0,0.0,112 MAIN ST,0.0,0.0\\n38.0218278,-78.46664403586792,1327 CARLTON AVE,0.0,0.3\\n38.0263544,-78.51443064918921,2111 JEFFERSON PARK AVE,0.0,0.0\\n38.021059,-78.47266359999998,1204 MONTICELLO RD,0.0,0.0\\n38.02453610000001,-78.4799673,618 MONTICELLO AVE,0.0,0.0\\n0.0,0.0,1105 EMMET ST,0.0,0.1\\n38.0505857,-78.5039816,977 EMMET ST,0.0,0.0\\n38.0243036,-78.48333480000002,945 2ND ST,0.0,0.1\\n38.01605410000001,-78.5035210532951,109 WELK PL,0.0,0.0\\n0.0,0.0,1103 EMMET ST,0.0,0.0\\n0.0,0.0,1129 EMMET ST,0.0,0.0\\n0.0,0.0,1035 EMMET ST,0.0,0.0\\n38.0243781,-78.4831873,943 2ND ST,0.0,0.0\\n38.02652095,-78.51379819659559,2101 JEFFERSON PARK AVE,0.0,0.3\\n38.0259936,-78.51375019999998,2104 JEFFERSON PARK AVE,0.0,0.4\\n38.01828070000001,-78.519033091385,238 SUNSET AVE,0.0,0.0\\n38.0395704897959,-78.49444763265309,1207 GRADY AVE,1.0,0.31666666666666665\\n38.01585479999999,-78.50362870000002,107 WELK PL,0.0,0.1\\n38.0289641,-78.5194913,245 HEREFORD DR,0.0,0.0\\n38.010414,-78.505528,320 5TH ST,0.0,0.0\\n38.010414,-78.505528,407 5TH ST,0.0,0.0\\n38.0514174,-78.5018887,1041 EMMET ST,0.0,0.0\\n38.0248737,-78.5134923,114 TODD AVE,0.0,0.0\\n38.030176000000004,-78.49329800000002,747 NALLE ST,0.0,0.1\\n38.0299743,-78.49415529999997,854 NALLE ST,0.0,0.0\\n38.04086849999999,-78.49990009999998,511 17TH ST,0.0,0.0\\n38.022549,-78.4962819,755 PROSPECT AVE,0.0,0.0\\n38.01753095,-78.48376985,1388 AVON ST,0.0,0.0\\n38.015576,-78.476709,361 QUARRY RD,0.0,0.0\\n38.01958995,-78.49354155,910 RIDGE ST,0.0,0.0\\n38.01909000000001,-78.4938186,230 BROOKWOOD DR,0.0,0.0\\n38.018763799999995,-78.4855613,1314 6TH ST,0.0,0.0\\n38.03972160000001,-78.4944845,1205 GRADY AVE,0.0,0.0\\n38.0251665,-78.50038839999998,1118 FOREST HILLS AVE,0.0,0.3\\n38.024989700000006,-78.5209385,2502 PLATEAU RD,1.0,0.6\\n38.0202003,-78.4980357,917 ROCK CREEK RD,0.0,0.1\\n38.01991320000001,-78.4984352,922 ROCK CREEK RD,0.0,0.0\\n38.021452399999994,-78.48427389999998,1113 RAYON ST,0.0,0.0\\n38.0159958,-78.48081566498941,201 PALATINE AVE,0.0,0.0\\n38.0192753,-78.4688672,1401 HAMPTON ST,0.0,0.1\\n38.019549299999994,-78.4852506,513 ROCKLAND AVE,0.0,0.0\\n38.02297460000001,-78.49017839999998,226 LANKFORD AVE,0.0,0.0\\n0.0,0.0,301 10TH ST,0.0,0.1\\n38.03522359999999,-78.4766374,234 WINE ST,0.0,0.2\\n38.06199210000001,-78.4767262,1817 MEADOWBROOK HEIGHTS RD,0.0,0.0\\n38.063186200000004,-78.47890179999997,1829 YORKTOWN DR,0.0,0.0\\n38.0629439,-78.4781026,1828 YORKTOWN DR,0.0,0.2\\n38.0401271020408,-78.5143601836735,2110 MINOR RD,1.0,0.0\\n38.0464836,-78.461807,701 ELIZABETH AVE,0.0,0.3\\n38.066486299999994,-78.4755718,1945 MICHAEL PL,0.0,0.5\\n38.0663819556176,-78.4681492144496,2306 GREENBRIER DR,0.0,0.1\\n38.0288145,-78.47763640000002,600 WATER ST,0.0,0.0\\n38.0296796,-78.4985684,1017 GROVE ST,0.0,0.1\\n38.03302925,-78.4838867526452,300 PRESTON AVE,0.0,0.0\\n39.78818,-85.612594,209 2ND ST,0.0,0.0\\n38.0253047730194,-78.4547800033515,323 RIVERSIDE AVE,0.0,0.0\\n38.0251151595291,-78.4548990050272,321 RIVERSIDE AVE,0.0,0.0\\n38.0243818,-78.49360075,742 PROSPECT AVE,0.0,0.0\\n38.02442585,-78.49317812545041,758 PROSPECT AVE,0.0,0.0\\n38.0237124,-78.49419235225459,736 PROSPECT AVE,0.0,0.0\\n38.0237053,-78.4938307153995,746 PROSPECT AVE,0.0,0.1\\n38.02432885,-78.49399418763251,732 PROSPECT AVE,0.0,0.1\\n38.02432885,-78.49399418763251,732 PROSPECT AVE,0.0,0.0\\n38.02442585,-78.49317812545041,758 PROSPECT AVE,0.0,0.3\\n38.0240095,-78.49302337628691,762 PROSPECT AVE,0.0,0.0\\n38.03439035,-78.49811684697359,1300 WERTLAND ST,0.0,0.0\\n38.03439035,-78.49811684697359,1300 WERTLAND ST,0.0,0.0\\n38.03439035,-78.49811684697359,1300 WERTLAND ST,0.0,0.0\\n38.02324475,-78.4816567459914,602 BLENHEIM AVE,0.0,0.1\\n38.02324475,-78.4816567459914,602 BLENHEIM AVE,0.0,0.2\\n38.0234084,-78.47888384965279,709 BOLLING AVE,0.0,0.0\\n38.0182851,-78.47659300000002,1005 ALTAVISTA AVE,0.0,0.0\\n38.043126,-78.4596959,1108 LOCUST AVE,0.0,0.0\\n38.02294195,-78.4778374019162,801 BOLLING AVE,0.0,0.0\\n38.0221083,-78.48058890000001,701 MONTROSE AVE,0.0,0.0\\n38.0163731,-78.47497690000002,1105 DRUID AVE,0.0,0.1\\n38.01342905,-78.50591345658201,116 LONGWOOD DR,0.0,0.2\\n38.0310588,-78.4846512,255 MAIN ST,0.0,0.0\\n38.0305792,-78.4843405,250 MAIN ST,0.0,0.0\\n0.0,0.0,112 MAIN ST,0.0,0.1\\n38.0305594,-78.48207620000002,112 MAIN ST,0.0,0.1\\n38.037172999999996,-78.51209200000002,1946 THOMSON RD,0.0,0.0\\n38.024121799999996,-78.47907940000002,700 MONTICELLO AVE,0.0,0.0\\n39.7905124189189,-85.61167172972971,214 SOUTH ST,0.0,0.1\\n38.0312755714286,-78.5031075714286,429 MONROE LN,0.0,0.6\\n38.0450083872061,-78.5040843039697,122 UNIVERSITY GDNS,0.0,0.0\\n38.0293151,-78.4826978,106 SOUTH ST,0.0,0.1\\n39.790541243243204,-85.6120738108108,106 SOUTH ST,0.0,0.1\\n38.0304529,-78.47852440000003,408 MARKET ST,0.0,0.0\\n38.03085,-78.508749,1707 JEFFERSON PARK AVE,0.0,0.0\\n38.0647464,-78.4870486,120 SEMINOLE CT,0.0,0.0\\n38.029938714285706,-78.50440416326529,583 BRANDON AVE,0.0,0.0\\n38.0295445,-78.5049918,583 BRANDON AVE,1.0,1.0\\n38.0295445,-78.5049918,583 BRANDON AVE,1.0,0.67\\n38.0646926,-78.48402970000002,200 SEMINOLE CT,1.0,0.0\\n38.0425291,-78.5008101,6 UNIVERSITY CIR,0.0,0.0\\n38.0635328,-78.4896235,100 ZAN RD,1.0,0.6\\n38.02141500000001,-78.49195300000002,820 RIDGE ST,0.0,0.0\\n38.062692,-78.49865720000003,106 LINDA CT,0.0,0.1\\n38.039148600000004,-78.4853838,804 CONCORD AVE,0.0,0.0\\n38.01853670000001,-78.49364249999998,213 BROOKWOOD DR,0.0,0.0\\n38.020084000000004,-78.4935522,881 RIDGE ST,1.0,0.0\\n38.0119917,-78.51494699999998,309 MONTE VISTA AVE,0.0,0.1\\n38.029856,-78.48079200000002,108 2ND ST,0.0,0.0\\n38.01793350000001,-78.475927,1015 ALTAVISTA AVE,0.0,0.0\\n38.0188032,-78.518517868221,232 SUNSET AVE,0.0,0.0\\n38.0358727,-78.4749502,630 PARK ST,0.0,0.0\\n38.0210797,-78.4747282,1008 BOLLING AVE,0.0,0.0\\n38.0418263,-78.4934602,732 MADISON AVE,0.0,0.1\\n38.028073,-78.516153,210 MAURY AVE,0.0,0.0\\n38.02810825,-78.51615502366509,210 MAURY AVE,0.0,0.0\\n38.02299770000001,-78.48585870000002,914 1ST ST,0.0,0.0\\n38.014024,-78.4699282681532,1002 LINDEN AVE,0.0,0.0\\n38.04536820000001,-78.50414620000002,83 UNIVERSITY GDNS,0.0,0.0\\n38.0617020318267,-78.49905989859491,107 LINDA CT,0.0,0.0\\n38.0432435714286,-78.49422485714291,820 CABELL AVE,0.0,0.1\\n38.03836010000001,-78.48669340000002,800 ROSE HILL DR,0.0,0.1\\n38.032651650557604,-78.47079356629492,513 LOCUST AVE,0.0,0.0\\n39.78818,-85.612594,307 2ND ST,0.0,0.0\\n38.0300125,-78.48294200000002,205 2ND ST,0.0,0.0\\n38.014024,-78.4699282681532,1002 LINDEN AVE,0.0,0.1\\n38.014024,-78.4699282681532,1002 LINDEN AVE,0.0,0.1\\n38.0596861707317,-78.4957332195122,2118 ANGUS RD,0.0,0.0\\n38.043470539889604,-78.4572064218007,1132 ST CLAIR AVE,0.0,0.1\\n38.043470539889604,-78.4572064218007,1132 ST CLAIR AVE,0.0,0.0\\n38.03829535,-78.48661829999998,800 ROSE HILL DR,0.0,0.0\\n38.03829535,-78.48661829999998,800 ROSE HILL DR,0.0,0.0\\n38.0257736,-78.4671133,1304 MARKET ST,0.0,0.0\\n38.010414,-78.505528,934 5TH ST,0.0,0.1\\n38.03464909691,-78.46202148385571,1324 WILLOW DR,0.0,0.0\\n38.022296,-78.4951163500549,754 PROSPECT AVE,0.0,0.1\\n38.0612834,-78.48578459999997,2111 MICHIE DR,0.0,0.0\\n38.0612834,-78.48578459999997,2111 MICHIE DR,0.0,0.1\\n38.0612834,-78.48578459999997,2111 MICHIE DR,0.0,0.0\\n38.0604007405818,-78.4867794858263,2111 MICHIE DR,0.0,0.0\\n38.0604007405818,-78.4867794858263,2111 MICHIE DR,0.0,0.0\\n38.0635915425991,-78.49551069370271,1912 CEDAR HILL RD,0.0,0.0\\n38.063481147763795,-78.495353260302,1913 CEDAR HILL RD,0.0,0.3\\n38.0180283,-78.47606019999998,1013 ALTAVISTA AVE,0.0,0.0\\n38.0411855510204,-78.4988299387755,1602 GRADY AVE,0.0,0.0\\n38.022416252041204,-78.4860754363535,918 1ST ST,0.0,0.0\\n';\n",
              "\n",
              "var filename = 'predictions.csv';\n",
              "var blob = new Blob([csv], { type: 'text/csv;charset=utf-8;' });\n",
              "if (navigator.msSaveBlob) { // IE 10+\n",
              "    navigator.msSaveBlob(blob, filename);\n",
              "} else {\n",
              "    var link = document.createElement(\"a\");\n",
              "    if (link.download !== undefined) { // feature detection\n",
              "        // Browsers that support HTML5 download attribute\n",
              "        var url = URL.createObjectURL(blob);\n",
              "        link.setAttribute(\"href\", url);\n",
              "        link.setAttribute(\"download\", filename);\n",
              "        link.style.visibility = 'hidden';\n",
              "        document.body.appendChild(link);\n",
              "        link.click();\n",
              "        document.body.removeChild(link);\n",
              "    }\n",
              "}\n"
            ],
            "text/plain": [
              "<IPython.core.display.Javascript object>"
            ]
          },
          "metadata": {
            "tags": []
          },
          "execution_count": 156
        }
      ]
    }
  ]
}